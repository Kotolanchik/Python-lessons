{
 "cells": [
  {
   "cell_type": "markdown",
   "metadata": {},
   "source": [
    "                                                                Ф.И.О."
   ]
  },
  {
   "cell_type": "markdown",
   "metadata": {},
   "source": [
    "#                                    Лабораторная работа №3"
   ]
  },
  {
   "cell_type": "markdown",
   "metadata": {},
   "source": [
    "###  Списки, кортежи, множества в Python"
   ]
  },
  {
   "cell_type": "markdown",
   "metadata": {},
   "source": [
    "**1.**\tДан список подобных кортежей:\n",
    "\n",
    "_hotel_rooms = [(‘Ann’, 400), (‘Elizabeth’, 103), (‘Mr. McMullen’, 202), (‘Mrs. Smith\", 200)]_\n",
    "\n",
    "Вывести на экран последовательность сообщений вида: \n",
    "\n",
    "*Hello, Ann! Your room is 400.*\n",
    "\n",
    "Для тех, кто указан как мистер / миссис / мисс, сообщение должно выглядеть так:\n",
    "\n",
    "*Good morning, Mr. McMullen! Your room is 202.*"
   ]
  },
  {
   "cell_type": "code",
   "execution_count": 1,
   "metadata": {
    "ExecuteTime": {
     "end_time": "2023-09-18T19:00:03.300628500Z",
     "start_time": "2023-09-18T19:00:03.284633100Z"
    }
   },
   "outputs": [
    {
     "name": "stdout",
     "output_type": "stream",
     "text": [
      "Hello, Ann! Your room is 400\n",
      "Hello, Elizabeth! Your room is 103\n",
      "Good morning, Mr. McMullen! Your room is 202\n",
      "Good morning, Mrs. Smith! Your room is 200\n"
     ]
    }
   ],
   "source": [
    "hotel_rooms = [(\"Ann\", 400), (\"Elizabeth\", 103), (\"Mr. McMullen\", 202), (\"Mrs. Smith\", 200)]\n",
    "MISTER = \"Mr\"\n",
    "MISSUS = \"Mrs\"\n",
    "MISS = \"Ms\"\n",
    "\n",
    "for name, room in hotel_rooms:\n",
    "    if MISTER in name or MISSUS in name or MISS in name:\n",
    "        print(\"Good morning,\", name + \"!\", \"Your room is\", room)\n",
    "    else:\n",
    "        print(\"Hello,\", name + \"!\", \"Your room is\", room)"
   ]
  },
  {
   "cell_type": "markdown",
   "metadata": {},
   "source": [
    "**2.** В списке чисел найти самую длинную последовательность, которая упорядочена по убыванию. Если таких последовательностей несколько (с одинаковой максимальной длиной), то найти их все. Вывести на экран сам список, длину самой длинной упорядоченной по убыванию последовательности, саму последовательность (или несколько)."
   ]
  },
  {
   "cell_type": "code",
   "execution_count": 21,
   "metadata": {
    "ExecuteTime": {
     "end_time": "2023-09-18T21:40:59.450910200Z",
     "start_time": "2023-09-18T21:40:59.430021Z"
    }
   },
   "outputs": [
    {
     "name": "stdout",
     "output_type": "stream",
     "text": [
      "(5, [42, 41, 40, 1, -4]) (5, [66, 33, 21, 11, -11])\n"
     ]
    }
   ],
   "source": [
    "digits = [3, 52, 746, 432, 85, 4, 5, 6, 7, 42, 42, 41, 40, 1, -4, 5, 55, 66, 33, 21, 11, -11]\n",
    "current_sub_length = 1\n",
    "sub_lists = []\n",
    "current_sub_list = [digits[0]]\n",
    "\n",
    "for index in range(1, len(digits)):\n",
    "    if digits[index] < digits[index - 1]:\n",
    "        current_sub_list.append(digits[index])\n",
    "        current_sub_length += 1\n",
    "    else:\n",
    "        if current_sub_length > 1:\n",
    "            sub_lists.append((current_sub_length, current_sub_list))\n",
    "        current_sub_length = 1\n",
    "        current_sub_list = [digits[index]]\n",
    "\n",
    "if current_sub_length > 1:\n",
    "    sub_lists.append((current_sub_length, current_sub_list))\n",
    "\n",
    "max_length = max(sub_lists, key=lambda x: x[0])[0]\n",
    "\n",
    "print(*[tuple_len_and_seq for tuple_len_and_seq in sub_lists if tuple_len_and_seq[0] == max_length])\n",
    "\n",
    "#print(max_length)\n",
    "#print(*sub_lists)"
   ]
  },
  {
   "cell_type": "markdown",
   "metadata": {},
   "source": [
    "**3.**\tВ списке чисел проверить, все ли элементы являются уникальными, т. е. каждое число встречается только один раз. Решить минимум двумя способами."
   ]
  },
  {
   "cell_type": "code",
   "execution_count": 37,
   "metadata": {
    "ExecuteTime": {
     "end_time": "2023-09-18T22:13:09.708306900Z",
     "start_time": "2023-09-18T22:13:09.694804100Z"
    }
   },
   "outputs": [
    {
     "name": "stdout",
     "output_type": "stream",
     "text": [
      "Словарь является уникальным\n",
      "3 1\n",
      "52 1\n",
      "746 1\n",
      "432 1\n",
      "85 1\n",
      "4 1\n",
      "5 1\n",
      "6 1\n",
      "7 1\n",
      "42 1\n",
      "41 1\n",
      "40 1\n",
      "1 1\n",
      "-4 1\n",
      "55 1\n",
      "66 1\n",
      "33 1\n",
      "21 1\n",
      "11 1\n",
      "-11 1\n"
     ]
    }
   ],
   "source": [
    "# способ 1\n",
    "digits = [3, 52, 746, 432, 85, 4, 5, 6, 7, 42, 41, 40, 1, -4, 55, 66, 33, 21, 11, -11, ]\n",
    "digit_count_list = {}\n",
    "\n",
    "for digit in digits:\n",
    "    if digit in digit_count_list:\n",
    "        digit_count_list[digit] += 1\n",
    "    else:\n",
    "        digit_count_list[digit] = 1\n",
    "\n",
    "for digit, count in digit_count_list.items():\n",
    "    if count > 1:\n",
    "        print(f\"Список не является уникальным, поскольку число {digit} повторяется\")\n",
    "        break\n",
    "else:\n",
    "    print(f\"Словарь является уникальным\")\n",
    "\n",
    "for digit, count in digit_count_list.items():\n",
    "    print(f\"{digit} {count}\")"
   ]
  },
  {
   "cell_type": "code",
   "execution_count": 39,
   "metadata": {
    "ExecuteTime": {
     "end_time": "2023-09-18T22:15:25.510443100Z",
     "start_time": "2023-09-18T22:15:25.474652100Z"
    }
   },
   "outputs": [
    {
     "name": "stdout",
     "output_type": "stream",
     "text": [
      "Список не является уникальным\n"
     ]
    }
   ],
   "source": [
    "# способ 2\n",
    "digits = [3, 52, 746, 432, 85, 4, 5, 6, 7, 42, 41, 40, 1, -4, 55, 66, 33, 21, 11, -11, 4]\n",
    "\n",
    "if len(digits) == len(set(digits)):\n",
    "    print(f\"Словарь является уникальным\")\n",
    "else:\n",
    "    print(f\"Список не является уникальным\")\n"
   ]
  },
  {
   "cell_type": "markdown",
   "metadata": {},
   "source": [
    "**4.** Удалить из списка, состоящего из n чисел в диапазоне от 0 до A (A - случайное число от 1 до 100), все элементы, которые больше A / 6 и меньше 5 * A / 6. При этом удаляемые числа сохранить в другом списке."
   ]
  },
  {
   "cell_type": "code",
   "execution_count": 48,
   "metadata": {
    "ExecuteTime": {
     "end_time": "2023-09-18T22:35:24.955864600Z",
     "start_time": "2023-09-18T22:35:23.461940500Z"
    }
   },
   "outputs": [
    {
     "name": "stdout",
     "output_type": "stream",
     "text": [
      "Сгенерированный список 42 37 32 30 25\n",
      "Получившийся список 37 30\n",
      "Удаленные числа ('42 > 64 / 6', 42) ('32 > 64 / 6', 32) ('25 > 64 / 6', 25)\n"
     ]
    }
   ],
   "source": [
    "import random\n",
    "\n",
    "MIN_RANDOM_DIGIT = 1\n",
    "del_digit_list = []\n",
    "A = random.randint(MIN_RANDOM_DIGIT, MAX_RANDOM_DIGIT)\n",
    "digits = [random.randint(MIN_RANDOM_DIGIT, A) for _ in range(int(input()))]\n",
    "print(\"Сгенерированный список\", *digits)\n",
    "\n",
    "for index, digit in enumerate(digits):\n",
    "    if digit > A / 6:\n",
    "        del digits[index]\n",
    "        del_digit_list.append((f\"{digit} > {A} / 6\", digit))\n",
    "    elif digit < 5 * A / 6:\n",
    "        del digits[index]\n",
    "        del_digit_list.append((f\"{digit} < 5 * {A} / 6\", digit))\n",
    "\n",
    "print(\"Получившийся список\", *digits)\n",
    "print(\"Удаленные числа\", *del_digit_list)"
   ]
  },
  {
   "cell_type": "markdown",
   "metadata": {},
   "source": [
    "**5.**\tНапишите программу, на вход которой подаётся список чисел одной строкой. Программа должна для каждого элемента этого списка вывести сумму двух его соседей. Для элементов списка, являющихся крайними, одним из соседей считается элемент, находящий на противоположном конце этого списка. Например, если на вход подаётся список 1 3 5 6 10, то на выход ожидается список 13 6 9 15 7. Если на вход пришло только одно число, надо вывести его же. Вывод должен содержать одну строку с числами нового списка, разделёнными пробелом."
   ]
  },
  {
   "cell_type": "code",
   "execution_count": 119,
   "metadata": {
    "ExecuteTime": {
     "end_time": "2023-09-19T00:16:38.117219100Z",
     "start_time": "2023-09-19T00:16:38.097945800Z"
    }
   },
   "outputs": [
    {
     "name": "stdout",
     "output_type": "stream",
     "text": [
      "13 6 9 15 7\n"
     ]
    }
   ],
   "source": [
    "import random\n",
    "\n",
    "MIN_RANDOM_DIGIT = 0\n",
    "MAX_RANDOM_DIGIT = 10\n",
    "LENGTH = 25\n",
    "\n",
    "digits = [1, 3, 5, 6, 10]  #[random.randint(MIN_RANDOM_DIGIT, MAX_RANDOM_DIGIT) for _ in range(LENGTH)]\n",
    "new_digits = []\n",
    "for index in range(len(digits)):\n",
    "    if len(digits) == 1:\n",
    "        new_digits.extend(digits)\n",
    "        break\n",
    "    elif index == 0:\n",
    "        new_digits.append(digits[1] + digits[-1])\n",
    "    elif index == len(digits) - 1:\n",
    "        new_digits.append(digits[0] + digits[-2])\n",
    "    else:\n",
    "        new_digits.append(digits[index - 1] + digits[index + 1])\n",
    "\n",
    "print(*new_digits)"
   ]
  },
  {
   "cell_type": "markdown",
   "metadata": {},
   "source": [
    "**6.**\tВывести по алфавиту список слов, входящих в исходный текст. Знаки препинания исключаются, каждое слово выводится по одному разу."
   ]
  },
  {
   "cell_type": "code",
   "execution_count": 89,
   "metadata": {
    "ExecuteTime": {
     "end_time": "2023-09-18T23:19:49.671070600Z",
     "start_time": "2023-09-18T23:19:49.649688100Z"
    }
   },
   "outputs": [
    {
     "name": "stdout",
     "output_type": "stream",
     "text": [
      "['съешь', 'ещё', 'этих', 'мягких', 'французских', 'булок', 'да', 'выпей', 'же', 'чаю']\n",
      "['булок', 'выпей', 'да', 'ещё', 'же', 'мягких', 'съешь', 'французских', 'чаю', 'этих']\n"
     ]
    }
   ],
   "source": [
    "import string\n",
    "\n",
    "text_without_punc = \"Съешь ещё этих мягких французских булок, да выпей же чаю\".lower().translate(\n",
    "    str.maketrans('', '', string.punctuation)).split()\n",
    "print(text_without_punc)\n",
    "print(sorted(set(text_without_punc)))"
   ]
  },
  {
   "cell_type": "markdown",
   "metadata": {},
   "source": [
    "**7.**\tОтсортируйте элементы списка, расположенные между первым положительным и последним отрицательным элементами."
   ]
  },
  {
   "cell_type": "code",
   "execution_count": 84,
   "metadata": {
    "ExecuteTime": {
     "end_time": "2023-09-18T23:02:01.360049700Z",
     "start_time": "2023-09-18T23:02:01.338843900Z"
    }
   },
   "outputs": [
    {
     "name": "stdout",
     "output_type": "stream",
     "text": [
      "List [21, 1, -10, -5, 0, 20, 23, 22, 2, 14]\n",
      "Первый положительный индекс: 0, первый отрицательный индекс: 2\n",
      "Получившийся список: [1, 21, -10, -5, 0, 20, 23, 22, 2, 14]\n"
     ]
    }
   ],
   "source": [
    "import random\n",
    "\n",
    "MIN_RANDOM_DIGIT = -10\n",
    "MAX_RANDOM_DIGIT = 25\n",
    "LENGTH = 10\n",
    "\n",
    "digits = [random.randint(MIN_RANDOM_DIGIT, MAX_RANDOM_DIGIT) for _ in\n",
    "          range(LENGTH)]  # [-3, 23, 10, -10, -5, 17, 20, -9, 24, 18]\n",
    "print(\"List\", digits)\n",
    "\n",
    "first_positive = False\n",
    "last_negative_index = None\n",
    "first_positive_index = None\n",
    "\n",
    "for index, digit in enumerate(digits):\n",
    "    if digits[index] > 0 and not first_positive:\n",
    "        first_positive = True\n",
    "        first_positive_index = index\n",
    "    elif last_negative_index is None and digit < 0 and first_positive:\n",
    "        last_negative_index = index\n",
    "\n",
    "print(f\"Первый положительный индекс: {first_positive_index}, первый отрицательный индекс: {last_negative_index}\")\n",
    "\n",
    "if last_negative_index is not None:\n",
    "    subsequence = digits[first_positive_index:last_negative_index]\n",
    "    subsequence.sort(reverse=False)\n",
    "    digits[first_positive_index:last_negative_index] = subsequence\n",
    "    print(f\"Получившийся список: {digits}\")\n",
    "else:\n",
    "    print(\"Все числа одной масти\")\n"
   ]
  },
  {
   "cell_type": "markdown",
   "metadata": {},
   "source": [
    "**8.** В исходном списке из n элементов встречаются по одному разу все целые числа от 0 до n, кроме одного. Найдите пропущенное число и выведите его на экран. Решить минимум двумя способами."
   ]
  },
  {
   "cell_type": "code",
   "execution_count": 122,
   "metadata": {
    "ExecuteTime": {
     "end_time": "2023-09-19T00:20:44.331376300Z",
     "start_time": "2023-09-19T00:20:44.315875Z"
    }
   },
   "outputs": [
    {
     "name": "stdout",
     "output_type": "stream",
     "text": [
      "В списке все числа\n"
     ]
    }
   ],
   "source": [
    "# способ 1\n",
    "digits = [0, 1, 2, 3, 4, 5, 6, 7, 9, 10, 11, 12, 13, 14]  #[i for i in range(int(input()) + 1)]\n",
    "for i, digit in enumerate(digits):\n",
    "    if i != digit:\n",
    "        print(f\"В списке нет числа {i}\")\n",
    "        break\n",
    "else:\n",
    "    print(f\"В списке все числа\")\n"
   ]
  },
  {
   "cell_type": "code",
   "execution_count": 123,
   "metadata": {
    "ExecuteTime": {
     "end_time": "2023-09-19T00:25:20.751185300Z",
     "start_time": "2023-09-19T00:25:20.720387600Z"
    }
   },
   "outputs": [
    {
     "name": "stdout",
     "output_type": "stream",
     "text": [
      "В списке нет числа 8\n"
     ]
    }
   ],
   "source": [
    "# способ 2\n",
    "digits = [0, 1, 2, 3, 4, 5, 6, 7, 9, 10, 11, 12, 13, 14]  #[i for i in range(int(input()) + 1)]\n",
    "\n",
    "expected_sum = sum(range(len(digits) + 1))\n",
    "verifiable_sum = sum(digits)\n",
    "\n",
    "if expected_sum == verifiable_sum:\n",
    "    print(f\"В списке все числа\")\n",
    "else:\n",
    "    print(f\"В списке нет числа {expected_sum - verifiable_sum}\")\n"
   ]
  },
  {
   "cell_type": "markdown",
   "metadata": {},
   "source": [
    "**9.**\tДаны два неубывающих списка. Найдите их «пересечение», т. е. список, содержащий общие элементы исходных списков, причем кратность каждого элемента в итоговом списке равняется минимуму из его кратностей в исходных списках."
   ]
  },
  {
   "cell_type": "code",
   "execution_count": 86,
   "metadata": {
    "ExecuteTime": {
     "end_time": "2023-09-18T23:10:47.488707200Z",
     "start_time": "2023-09-18T23:10:44.191189Z"
    }
   },
   "outputs": [
    {
     "name": "stdout",
     "output_type": "stream",
     "text": [
      "first list {38, 7, 6, 10, 43, 44, 12, 14, 16, 17, 18, 20, 30}\n",
      "second list {32, 2, 4, 37, 6, 7, 10, 43, 12, 16, 21, 26, 29, 31}\n",
      "{6, 7, 10, 43, 12, 16}\n",
      "{6, 7, 10, 43, 12, 16}\n"
     ]
    }
   ],
   "source": [
    "import random\n",
    "\n",
    "MIN_RANDOM_DIGIT = 0\n",
    "MAX_RANDOM_DIGIT = 45\n",
    "length = int(input())\n",
    "\n",
    "first_list = set([random.randint(MIN_RANDOM_DIGIT, MAX_RANDOM_DIGIT) for _ in range(length)])\n",
    "second_list = set([random.randint(MIN_RANDOM_DIGIT, MAX_RANDOM_DIGIT) for _ in range(length)])\n",
    "\n",
    "print(\"first list\", first_list)\n",
    "print(\"second list\", second_list)\n",
    "\n",
    "print(first_list.intersection(second_list))\n",
    "print(first_list & second_list)\n",
    "\n"
   ]
  },
  {
   "cell_type": "markdown",
   "metadata": {},
   "source": [
    "**10.** Дан неубывающий список положительных целых чисел. Определите, можно ли составить заданное число как сумму нескольких подряд идущих элементов этого списка."
   ]
  },
  {
   "cell_type": "code",
   "execution_count": 114,
   "metadata": {
    "ExecuteTime": {
     "end_time": "2023-09-18T23:50:01.986549100Z",
     "start_time": "2023-09-18T23:50:00.219535600Z"
    }
   },
   "outputs": [
    {
     "name": "stdout",
     "output_type": "stream",
     "text": [
      "[0, 1, 1, 1, 1, 2, 2, 3, 4, 5, 5, 5, 6, 6, 6, 6, 7, 8, 8, 8, 9, 9, 10, 10, 10]\n",
      "find_digit 24\n",
      "[(2, 1), (3, 1), (4, 1), (5, 2), (6, 2), (7, 3), (8, 4), (9, 5), (10, 5)]\n",
      "Можно\n"
     ]
    }
   ],
   "source": [
    "import random\n",
    "\n",
    "MIN_RANDOM_DIGIT = 0\n",
    "MAX_RANDOM_DIGIT = 10\n",
    "LENGTH = 25\n",
    "\n",
    "digits = [random.randint(MIN_RANDOM_DIGIT, MAX_RANDOM_DIGIT) for _ in range(LENGTH)]\n",
    "digits.sort()\n",
    "print(digits)\n",
    "\n",
    "find_digit = int(input())\n",
    "found = False\n",
    "\n",
    "for index, digit in enumerate(digits):\n",
    "    inner_index = index\n",
    "    current_sum = 0\n",
    "    seq = []\n",
    "    while inner_index < len(digits):\n",
    "        current_sum += digits[inner_index]\n",
    "        seq.append((inner_index, digits[inner_index]))\n",
    "        if current_sum == find_digit:\n",
    "            found = True\n",
    "            print(\"find_digit\", find_digit)\n",
    "            print(seq)\n",
    "            print(\"Можно\")\n",
    "            break\n",
    "        elif current_sum > find_digit:\n",
    "            break\n",
    "        inner_index += 1\n",
    "\n",
    "    if found:\n",
    "        break\n"
   ]
  },
  {
   "cell_type": "markdown",
   "source": [],
   "metadata": {
    "collapsed": false
   }
  },
  {
   "cell_type": "code",
   "execution_count": null,
   "outputs": [],
   "source": [],
   "metadata": {
    "collapsed": false
   }
  }
 ],
 "metadata": {
  "anaconda-cloud": {},
  "kernelspec": {
   "display_name": "Python 3",
   "language": "python",
   "name": "python3"
  },
  "language_info": {
   "codemirror_mode": {
    "name": "ipython",
    "version": 3
   },
   "file_extension": ".py",
   "mimetype": "text/x-python",
   "name": "python",
   "nbconvert_exporter": "python",
   "pygments_lexer": "ipython3",
   "version": "3.7.5"
  }
 },
 "nbformat": 4,
 "nbformat_minor": 4
}
