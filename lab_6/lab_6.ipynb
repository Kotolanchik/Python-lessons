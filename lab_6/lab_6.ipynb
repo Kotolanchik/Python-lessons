{
 "cells": [
  {
   "cell_type": "markdown",
   "source": [
    "# Лабораторная работа №6"
   ],
   "metadata": {
    "collapsed": false
   },
   "id": "9015159b3baa2150"
  },
  {
   "cell_type": "markdown",
   "source": [
    "**1**.\tТаблица moscow-buildings.csv содержит информацию о годах постройки жилых домов в Москве.\n",
    "\n",
    "1)\tЗагрузите базу данных moscow-buildings.csv и сохраните ее как df_build. Удалите из базы данных строки, в которых значения года постройки не указаны («н.д.»), а после превратите столбец house_year в числовой.\n",
    "\n",
    "2)\tПосмотрите на минимальное и максимальное значения года постройки. Разумны ли они? Если нет, уберите из базы данных «странные» значения года постройки. Подсчитайте количество удаленных записей.\n",
    "\n",
    "3)\tВыберите из базы данных строки, соответствующие Басманному району и сохраните их в базу basm_data.\n",
    "\n",
    "4)\tСгруппируйте данные в базе по районам и посмотрите, сколько домов в базе относятся к каждому району.\n",
    "\n",
    "5)\tНайдите средний возраст дома (возраст – в годах, считаем от текущего года) по каждому району. Подсказка: сначала добавьте переменную house_age («возраст дома»).\n",
    "\n",
    "6)\tНайдите самый старый дом и выведите информацию о нем."
   ],
   "metadata": {
    "collapsed": false
   },
   "id": "99e329923a984521"
  },
  {
   "cell_type": "code",
   "execution_count": null,
   "outputs": [],
   "source": [
    "# 1)\n",
    "import pandas as pd\n",
    "from datetime import datetime\n",
    "\n",
    "currentYear = datetime.now().year\n",
    "\n",
    "df_build = pd.read_csv('moscow-buildings.csv', index_col=0)\n",
    "#df_build.info()\n",
    "rows_before = len(df_build.axes[0])\n",
    "print(f'Число строк до удаления тех, что содержать \"н.д.\": {rows_before}')\n",
    "\n",
    "# Удаляем строки, содержащие \"н.д.\"\n",
    "df_build = df_build[(df_build.house_year != 'н.д.')]\n",
    "#df_build.info()\n",
    "rows_after = len(df_build.axes[0])\n",
    "print(f'Число строк после удаления тех, что содержать \"н.д.\": {rows_after}\\n'\n",
    "      f'Число удаленных строк: {rows_before - rows_after}')\n",
    "\n",
    "# Меняем тип данных столбца house_year\n",
    "datatypes_before = df_build.dtypes['house_year']\n",
    "print(f'\\nТип данных в столбце house_year до изменений: {datatypes_before}')\n",
    "df_build = df_build.astype({'house_year': int})\n",
    "datatypes_after = df_build.dtypes['house_year']\n",
    "print(f'Тип данных в столбце house_year после изменения в числовой: {datatypes_after}')\n"
   ],
   "metadata": {
    "collapsed": false
   },
   "id": "b182063f185138d3"
  },
  {
   "cell_type": "code",
   "execution_count": null,
   "outputs": [],
   "source": [
    "# 2)\n",
    "# Получаем максимальный и минимальный год постройки зданий\n",
    "maxValues = df_build['house_year'].max()\n",
    "minValues = df_build['house_year'].min()\n",
    "print(f'\\nМаксимальный год постройки здания - {maxValues}\\n'\n",
    "      f'Минимальный год постройки здания - {minValues}')\n",
    "# Год основания Москвы - 1147 [https://www.mos.ru/news/item/22507073/]\n",
    "df_build_copy = df_build.copy()\n",
    "# Удаляем строки, содержащие годы постройки до основания Москвы и больше нынешнего года\n",
    "df_build = df_build.drop(df_build[(df_build['house_year'] < 1147) | (df_build['house_year'] > currentYear)].index)\n",
    "rows_after_years = len(df_build)\n",
    "print(f'\\nЧисло строк после удаления тех, что содержали некорректные данные в столбце house_year: {rows_after_years}\\n'\n",
    "      f'Число удаленных строк: {rows_after - rows_after_years}')"
   ],
   "metadata": {
    "collapsed": false
   },
   "id": "800c53c892afc862"
  },
  {
   "cell_type": "code",
   "execution_count": null,
   "outputs": [],
   "source": [
    "# 3)\n",
    "# Выбираем из базы данных строки, соответствующие Басманному району\n",
    "#print(df_build['area_name'])\n",
    "basm_data = df_build_copy.copy()\n",
    "basm_data = basm_data.drop(basm_data[(basm_data['area_name'] != 'муниципальный округ Басманный')].index)\n",
    "print(f'\\nЧисло строк, содержащих информацию о Басманном районе: {len(basm_data)}')"
   ],
   "metadata": {
    "collapsed": false
   },
   "id": "284764a067c02fe"
  },
  {
   "cell_type": "code",
   "execution_count": null,
   "outputs": [],
   "source": [
    "# 4)\n",
    "# Группировка домов по району\n",
    "grouped = df_build.groupby('area_name')['house_id'].size()\n",
    "print(f'\\nЧисло домов по районам: \\n{grouped}')"
   ],
   "metadata": {
    "collapsed": false
   },
   "id": "4801892a8d5eb183"
  },
  {
   "cell_type": "code",
   "execution_count": null,
   "outputs": [],
   "source": [
    "# 5)\n",
    "# Находим средний возраст дома по районам\n",
    "df_build = df_build.assign(house_age=currentYear - df_build['house_year'])\n",
    "grouped_age = df_build.groupby('area_name')['house_age'].mean()\n",
    "print(grouped_age)"
   ],
   "metadata": {
    "collapsed": false
   },
   "id": "a69442d68a2ec7a2"
  },
  {
   "cell_type": "code",
   "execution_count": null,
   "outputs": [],
   "source": [
    "# 6)\n",
    "# Находим самый старый дом и выводим по нему инфу\n",
    "oldest = df_build['house_year'].min()\n",
    "oldest_house = df_build.loc[df_build['house_year'] == oldest]\n",
    "print('\\nИнформация о самом старом доме:\\n'\n",
    "      f'{oldest_house}')"
   ],
   "metadata": {
    "collapsed": false
   },
   "id": "8f03ec97c3fc8aa9"
  },
  {
   "cell_type": "markdown",
   "source": [
    "**2.**\tЗагрузите таблицу titanic.csv и найдите ответы на следующие вопросы. Если ответ нужно приводить в процентах, то это должно быть число в интервале от 0 до 100, округленное до двух знаков, знак процента не нужен.  \n",
    "\n",
    "1)\tПосчитайте долю выживших пассажиров.ok\n",
    "\n",
    "2)\tКакое количество мужчин и женщин ехало на корабле? Определите долю выживших женщин и выживших мужчин.ok\n",
    "\n",
    "3)\tКакую долю пассажиры первого, второго и третьего классов составляли среди всех пассажиров? Определите долю выживших пассажиров каждого класса.ok\n",
    "\n",
    "4)\t Посчитайте среднее и медиану возраста пассажиров. Посчитайте среднее и медиану возраста выживших и невыживших пассажиров.\n",
    "\n",
    "5)\tДобавьте столбцы FirstNameList с именем пассажира. Обратите внимание, что встречается разный формат хранения имен, в том числе существуют отличия для мужчин и женщин. Имя может быть составное (из нескольких имен) - рассмотрите оба варианта - составное имя целиком и составное имя как отдельные имена. Какое самое популярное женское имя на корабле? Какое самое популярное мужское имя на корабле?\n",
    "\n",
    "6)\tПриведите список уникальных (неповторяющихся, только один человек имеет это имя) имен пассажиров, отдельно мужских и женских. Рассмотрите оба варианта - составное имя целиком и составное имя как отдельные имена. Выведите таблицу с этими пассажирами.\n",
    "\n",
    "7)\tПриведите множество всех имен пассажиров, отдельно мужских и женских. Рассмотрите оба варианта - составное имя целиком и составное имя как отдельные имена.\n",
    "\n",
    "8)\tПриведите список имен, которые одновременно встречаются у мужчин, и у женщин. Решите задачу, если рассматривать составные имена как одно имя, и если рассматривать составные имена отдельно. Выведите таблицу пассажирами, имеющими эти имена."
   ],
   "metadata": {
    "collapsed": false
   },
   "id": "f1330b3f594ca1e4"
  },
  {
   "cell_type": "code",
   "execution_count": null,
   "outputs": [],
   "source": [
    "import pandas as pd\n",
    "\n",
    "titanicBase = pd.read_csv(\"titanic.csv\")\n",
    "print(f'Доля выживших пассажиров равна {round(len(titanicBase[(titanicBase[\"Survived\"] == 1)]) / len(titanicBase) * 100, 2)}')"
   ],
   "metadata": {
    "collapsed": false
   },
   "id": "8cf7eb62c22919e6"
  },
  {
   "cell_type": "code",
   "execution_count": null,
   "outputs": [],
   "source": [
    "#1 Какое количество мужчин и женщин ехало на корабле? Определите долю выживших женщин и выживших мужчин\n",
    "titanicBase['Sex'].value_counts()"
   ],
   "metadata": {
    "collapsed": false
   },
   "id": "6ecf5a943a99c716"
  },
  {
   "cell_type": "code",
   "execution_count": null,
   "outputs": [],
   "source": [
    "print(f'Доля выживших мужчин равна {round(len(titanicBase[(titanicBase[\"Survived\"] == 1) & (titanicBase[\"Sex\"] == \"male\")]) / len(titanicBase[titanicBase[\"Sex\"] == \"male\"]) * 100, 2)}')\n",
    "print(f'Доля выживших женщин равна {round(len(titanicBase[(titanicBase[\"Survived\"] == 1) & (titanicBase[\"Sex\"] == \"female\")]) / len(titanicBase[titanicBase[\"Sex\"] == \"female\"]) * 100, 2)}')"
   ],
   "metadata": {
    "collapsed": false
   },
   "id": "4ff26f401f99a0ea"
  },
  {
   "cell_type": "code",
   "execution_count": null,
   "outputs": [],
   "source": [
    "titanicBase"
   ],
   "metadata": {
    "collapsed": false
   },
   "id": "9896559afad99be0"
  },
  {
   "cell_type": "code",
   "execution_count": null,
   "outputs": [],
   "source": [
    "#3. Какую долю пассажиры первого, второго и третьего классов составляли среди всех пассажиров? Определите долю выживших пассажиров каждого класса.\n",
    "print(f'Доля пассажиров первого класса равна {round(len(titanicBase[(titanicBase[\"Pclass\"] == 1)]) / len(titanicBase) * 100, 2)}. \\\n",
    "Доля выживших пассажиров первого класса равна {round(len(titanicBase[(titanicBase[\"Survived\"] == 1) & (titanicBase[\"Pclass\"] == 1)]) / len(titanicBase[titanicBase[\"Pclass\"] == 1]) * 100, 2)}')\n",
    "print(f'Доля пассажиров второго класса равна {round(len(titanicBase[(titanicBase[\"Pclass\"] == 2)]) / len(titanicBase) * 100, 2)}. \\\n",
    "Доля выживших пассажиров первого класса равна {round(len(titanicBase[(titanicBase[\"Survived\"] == 1) & (titanicBase[\"Pclass\"] == 2)]) / len(titanicBase[titanicBase[\"Pclass\"] == 2]) * 100, 2)}')\n",
    "print(f'Доля пассажиров третьего класса равна {round(len(titanicBase[(titanicBase[\"Pclass\"] == 3)]) / len(titanicBase) * 100, 2)}. \\\n",
    "Доля выживших пассажиров первого класса равна {round(len(titanicBase[(titanicBase[\"Survived\"] == 1) & (titanicBase[\"Pclass\"] == 3)]) / len(titanicBase[titanicBase[\"Pclass\"] == 3]) * 100, 2)}')"
   ],
   "metadata": {
    "collapsed": false
   },
   "id": "45f8c741fe706fe2"
  },
  {
   "cell_type": "code",
   "execution_count": null,
   "outputs": [],
   "source": [
    "# 4. Посчитайте среднее и медиану возраста пассажиров. Посчитайте среднее и медиану возраста выживших и невыживших пассажиров.\n",
    "\n",
    "def MeanAndMedian(Base):\n",
    "    meanAge = Base['Age'].agg('mean')\n",
    "    medianAge = Base['Age'].agg('median')\n",
    "\n",
    "    return meanAge, medianAge\n",
    "\n",
    "\n",
    "meanAge, medianAge = MeanAndMedian(titanicBase)\n",
    "print(f'Средний возраст всех пассажиров равен {round(meanAge, 2)}')\n",
    "print(f'Медианный возраст всех пассажиров равен {medianAge}')\n",
    "\n",
    "meanAgeSurvived, medianAgeSurvived = MeanAndMedian(titanicBase[(titanicBase[\"Survived\"] == 1)])\n",
    "print(f'\\nСредний возраст выживших пассажиров равен {round(meanAgeSurvived, 2)}')\n",
    "print(f'Медианный возраст выживших пассажиров равен {medianAgeSurvived}')\n",
    "\n",
    "meanAgeUnSurvived, medianAgeUnSurvived = MeanAndMedian(titanicBase[(titanicBase[\"Survived\"] == 0)])\n",
    "print(f'\\nСредний возраст мертвых пассажиров равен {round(meanAgeUnSurvived, 2)}')\n",
    "print(f'Медианный возраст мертвых пассажиров равен {medianAgeUnSurvived}')"
   ],
   "metadata": {
    "collapsed": false
   },
   "id": "3cca0b80cedcd22c"
  },
  {
   "cell_type": "code",
   "execution_count": null,
   "outputs": [],
   "source": [
    "# 6)\tДобавьте столбцы FirstNameList с именем пассажира. Обратите внимание, что встречается разный формат хранения имен, \n",
    "# в том числе существуют отличия для мужчин и женщин. Имя может быть составное (из нескольких имен) - рассмотрите оба варианта - \n",
    "# составное имя целиком и составное имя как отдельные имена. Какое самое популярное женское имя на корабле? Какое самое популярное мужское \n",
    "# имя на корабле?\n",
    "import numpy as np\n",
    "import re\n",
    "\n",
    "def count_duplicates(lst):\n",
    "    counts = {}  # Создаем пустой словарь для подсчета повторений\n",
    "    for item in lst:\n",
    "        if item in counts:\n",
    "            counts[item] += 1  # Увеличиваем значение для существующего элемента\n",
    "        else:\n",
    "            counts[item] = 1  # Добавляем новый элемент в словарь с начальным значением 1\n",
    "\n",
    "    return counts\n",
    "\n",
    "\n",
    "def ListSex(Sex):\n",
    "    ListInParts = []\n",
    "    passangerID = []\n",
    "    \n",
    "    for i, k, c in zip(titanicBase['NameListInParts'], titanicBase['Sex'], titanicBase['PassengerId']):\n",
    "        for j in i:\n",
    "            if (len(j) > 1 and k == Sex):\n",
    "                ListInParts.append(j)\n",
    "                passangerID.append(c)\n",
    "                \n",
    "    return ListInParts, passangerID\n",
    "\n",
    "\n",
    "def maximumSearchList(List):\n",
    "    duplicates = count_duplicates(List)\n",
    "    maximum = 1\n",
    "    \n",
    "    for item, count in duplicates.items():\n",
    "        if count > maximum:\n",
    "            itemOutput = item\n",
    "            countOutput = count\n",
    "            maximum = count\n",
    "            \n",
    "    return itemOutput, countOutput\n",
    "\n",
    "\n",
    "#main\n",
    "firstNameList = []\n",
    "SecondNameList = []\n",
    "OpenBrackets = False\n",
    "\n",
    "for i, k in zip(titanicBase['Name'], titanicBase['Sex']) :\n",
    "    NameSplit = i.split(', ')[1].split('. ')[1]\n",
    "    NameAdd = \"\"\n",
    "    NameSplit = re.sub(r'\"[\\w\\s]+\"', '', NameSplit)\n",
    "    NameSplit = re.sub(r'()', '', NameSplit)\n",
    "    if (\"(\" in NameSplit and k == \"female\"):\n",
    "        for j in NameSplit:\n",
    "            if (j == ')'):\n",
    "                if (NameAdd == \"\"):\n",
    "                    NameAdd = NameSplit.split('(')[0]\n",
    "                else:\n",
    "                    if (' ' in NameAdd):\n",
    "                        NameAdd = NameAdd[:NameAdd.rfind(' ')]\n",
    "                OpenBrackets = False\n",
    "                break\n",
    "            if (j == '('):\n",
    "                OpenBrackets = True\n",
    "            if (OpenBrackets and j != '('):\n",
    "                NameAdd += j\n",
    "    else:\n",
    "        if (\"(\" in NameSplit):\n",
    "            NameSplit = NameSplit[:NameSplit.rfind('(')]\n",
    "        NameAdd = NameSplit\n",
    "    SecondNameList.append(NameAdd.split(' '))\n",
    "    firstNameList.append(NameAdd)\n",
    "    \n",
    "titanicBase['NameListEntirely'] = firstNameList\n",
    "titanicBase['NameListInParts'] = SecondNameList\n",
    "\n",
    "coincidencesNameFemale = next(iter(titanicBase[titanicBase['Sex'] == \"female\"]['NameListEntirely'].value_counts().to_dict().items()))\n",
    "print(f'Самое распространенное женское составное имя целиком - \\\"{coincidencesNameFemale[0]}\\\", которое встречается {coincidencesNameFemale[1]} раз(а)')\n",
    "coincidencesNameMale = next(iter(titanicBase[titanicBase['Sex'] == \"male\"]['NameListEntirely'].value_counts().to_dict().items()))\n",
    "print(f'Самое распространенное мужское составное имя целиком - \\\"{coincidencesNameMale[0]}\\\", которое встречается {coincidencesNameMale[1]} раз(а)')\n",
    "\n",
    "ListInParts, passangerIDfemaleParts = ListSex('female')\n",
    "itemOutput, countOutput = maximumSearchList(ListInParts)\n",
    "print(f\"\\nСамое распространенное женское составное имя по частям - \\\"{itemOutput}\\\", которое встречается {countOutput} раз(а).\")\n",
    "\n",
    "ListInParts, passangerIDmaleParts = ListSex('male')\n",
    "itemOutput, countOutput = maximumSearchList(ListInParts)\n",
    "print(f\"Самое распространенное мужское составное имя по частям - \\\"{itemOutput}\\\", которое встречается {countOutput} раз(а).\")\n",
    "\n",
    "titanicBase.head(50)\n"
   ],
   "metadata": {
    "collapsed": false
   },
   "id": "7c31f34b6b4cbb25"
  },
  {
   "cell_type": "code",
   "execution_count": null,
   "outputs": [],
   "source": [
    "# 6. Приведите список уникальных (неповторяющихся, только один человек имеет это имя) имен пассажиров, отдельно мужских и женских. Рассмотрите оба варианта - составное имя целиком и составное имя как отдельные имена. Выведите таблицу с этими пассажирами.\n",
    "\n",
    "def count_duplicates(lst):\n",
    "    counts = {}  # Создаем пустой словарь для подсчета повторений\n",
    "    for item in lst:\n",
    "        if item in counts:\n",
    "            counts[item] += 1  # Увеличиваем значение для существующего элемента\n",
    "        else:\n",
    "            counts[item] = 1  # Добавляем новый элемент в словарь с начальным значением 1\n",
    "\n",
    "    return counts\n",
    "\n",
    "\n",
    "def ListSex(Sex):\n",
    "    ListInParts = []\n",
    "    passangerID = []\n",
    "    \n",
    "    for i, k, c in zip(titanicBase['NameListInParts'], titanicBase['Sex'], titanicBase['PassengerId']):\n",
    "        for j in i:\n",
    "            if (len(j) > 1 and k == Sex):\n",
    "                ListInParts.append(j)\n",
    "                passangerID.append(c)\n",
    "                \n",
    "    return ListInParts, passangerID\n",
    "\n",
    "print('Неповторяющиеся женские имена (целиком):')\n",
    "coincidencesNameFemale = titanicBase[titanicBase['Sex'] == \"female\"]['NameListEntirely'].value_counts().to_dict()\n",
    "listFemaleUnique = []\n",
    "for item, count in coincidencesNameFemale.items():\n",
    "    if (count == 1):\n",
    "        listFemaleUnique.append(item)\n",
    "print(listFemaleUnique)\n",
    "print('\\nНеповторяющиеся мужские имена (целиком):')\n",
    "coincidencesNameMale = titanicBase[titanicBase['Sex'] == \"male\"]['NameListEntirely'].value_counts().to_dict()\n",
    "listMaleUnique = []\n",
    "for item, count in coincidencesNameMale.items():\n",
    "    if (count == 1):\n",
    "        listMaleUnique.append(item)\n",
    "print(listMaleUnique)\n",
    "\n",
    "print('\\nНеповторяющиеся женские имена (по частям):')\n",
    "print(ListInParts)\n",
    "ListInParts, passangerID = ListSex('female')\n",
    "print(ListInParts)\n",
    "ListInParts = count_duplicates(ListInParts)\n",
    "listInPartsfemale = []\n",
    "for item, count in ListInParts.items():\n",
    "        if count == 1:\n",
    "            listInPartsfemale.append(item)\n",
    "print(listInPartsfemale)\n",
    "\n",
    "print('\\nНеповторяющиеся мужские имена (по частям):')\n",
    "ListInParts, passangerID = ListSex('male')\n",
    "ListInParts = count_duplicates(ListInParts)\n",
    "listInPartsmale = []\n",
    "for item, count in ListInParts.items():\n",
    "        if count == 1:\n",
    "            listInPartsmale.append(item)\n",
    "print(listInPartsmale)\n"
   ],
   "metadata": {
    "collapsed": false
   },
   "id": "ce2e5220234b14eb"
  },
  {
   "cell_type": "code",
   "execution_count": null,
   "outputs": [],
   "source": [
    "print('\\nНеповторяющиеся мужские имена (целиком) таблица:')\n",
    "\n",
    "titanicBase[titanicBase['NameListEntirely'].isin(listMaleUnique)]"
   ],
   "metadata": {
    "collapsed": false
   },
   "id": "61a7a2c6c03e1d7a"
  },
  {
   "cell_type": "code",
   "execution_count": null,
   "outputs": [],
   "source": [
    "print('\\nНеповторяющиеся женские имена (целиком) таблица:')\n",
    "\n",
    "titanicBase[titanicBase['NameListEntirely'].isin(listFemaleUnique)]"
   ],
   "metadata": {
    "collapsed": false
   },
   "id": "303dcc526c8bd434"
  },
  {
   "cell_type": "code",
   "execution_count": null,
   "outputs": [],
   "source": [
    "print('\\nНеповторяющиеся женские имена (по частям) таблица:')\n",
    "\n",
    "titanicBase[titanicBase['PassengerId'].isin(passangerIDfemaleParts)]"
   ],
   "metadata": {
    "collapsed": false
   },
   "id": "72e90814ac834eb8"
  },
  {
   "cell_type": "code",
   "execution_count": 1,
   "outputs": [
    {
     "name": "stdout",
     "output_type": "stream",
     "text": [
      "\n",
      "Неповторяющиеся мужские имена (по частям) таблица:\n"
     ]
    },
    {
     "ename": "NameError",
     "evalue": "name 'titanicBase' is not defined",
     "output_type": "error",
     "traceback": [
      "\u001B[1;31m---------------------------------------------------------------------------\u001B[0m",
      "\u001B[1;31mNameError\u001B[0m                                 Traceback (most recent call last)",
      "Cell \u001B[1;32mIn[1], line 3\u001B[0m\n\u001B[0;32m      1\u001B[0m \u001B[38;5;28mprint\u001B[39m(\u001B[38;5;124m'\u001B[39m\u001B[38;5;130;01m\\n\u001B[39;00m\u001B[38;5;124mНеповторяющиеся мужские имена (по частям) таблица:\u001B[39m\u001B[38;5;124m'\u001B[39m)\n\u001B[1;32m----> 3\u001B[0m titanicBase[titanicBase[\u001B[38;5;124m'\u001B[39m\u001B[38;5;124mPassengerId\u001B[39m\u001B[38;5;124m'\u001B[39m]\u001B[38;5;241m.\u001B[39misin(passangerIDmaleParts)]\n",
      "\u001B[1;31mNameError\u001B[0m: name 'titanicBase' is not defined"
     ]
    }
   ],
   "source": [
    "print('\\nНеповторяющиеся мужские имена (по частям) таблица:')\n",
    "\n",
    "titanicBase[titanicBase['PassengerId'].isin(passangerIDmaleParts)]"
   ],
   "metadata": {
    "collapsed": false,
    "ExecuteTime": {
     "end_time": "2023-10-24T11:39:12.208897200Z",
     "start_time": "2023-10-24T11:39:11.099855Z"
    }
   },
   "id": "e7f08aae264c851e"
  },
  {
   "cell_type": "code",
   "execution_count": 2,
   "outputs": [],
   "source": [
    "#7. Приведите множество всех имен пассажиров, отдельно мужских и женских. Рассмотрите оба варианта - составное имя целиком и составное имя как отдельные имена."
   ],
   "metadata": {
    "collapsed": false,
    "ExecuteTime": {
     "end_time": "2023-10-24T11:39:17.780353600Z",
     "start_time": "2023-10-24T11:39:17.718353200Z"
    }
   },
   "id": "43ce61c718d8b956"
  },
  {
   "cell_type": "code",
   "execution_count": null,
   "outputs": [],
   "source": [
    "maleCel = []\n",
    "print ('Все имена мужчин целиком:')\n",
    "for i, k in zip(titanicBase['NameListEntirely'], titanicBase['Sex']):\n",
    "    if (k == 'male'):\n",
    "        maleCel.append(i)\n",
    "print(maleCel)\n",
    "femaleCel = []\n",
    "print ('\\nВсе имена женщин целиком:')\n",
    "for i, k in zip(titanicBase['NameListEntirely'], titanicBase['Sex']):\n",
    "    if (k == 'female'):\n",
    "        femaleCel.append(i)\n",
    "print(femaleCel)\n",
    "\n",
    "maleChast = []\n",
    "print ('Все имена мужчин по частям:')\n",
    "for i, k in zip(titanicBase['NameListInParts'], titanicBase['Sex']):\n",
    "    for j in i:\n",
    "        if (k == 'male'):\n",
    "            maleChast.append(j)\n",
    "print(maleChast)\n",
    "femaleChast = []\n",
    "print ('\\nВсе имена женщин целиком:')\n",
    "for i, k in zip(titanicBase['NameListInParts'], titanicBase['Sex']):\n",
    "    for j in i:\n",
    "        if (k == 'female'):\n",
    "            femaleChast.append(j)\n",
    "print(femaleChast)\n",
    "\n",
    "    \n",
    "    "
   ],
   "metadata": {
    "collapsed": false
   },
   "id": "acf7c91f228541b2"
  },
  {
   "cell_type": "code",
   "execution_count": 3,
   "outputs": [],
   "source": [
    "# 8. Приведите список имен, которые одновременно встречаются у мужчин, и у женщин. Решите задачу, если рассматривать составные имена как одно имя, и если рассматривать составные имена отдельно. Выведите таблицу пассажирами, имеющими эти имена.\n",
    "\n",
    "Listfemale = []\n",
    "for i, k in zip(titanicBase['NameListEntirely'], titanicBase['Sex']):\n",
    "    if (k == \"female\"):\n",
    "        Listfemale.append(i)\n",
    "            \n",
    "Listmale = []\n",
    "for i, k in zip(titanicBase['NameListEntirely'], titanicBase['Sex']):\n",
    "    if (k == \"male\"):\n",
    "        Listmale.append(i)          \n",
    "print(f'Количество встреченных повторений по мужским и женским именам целиком {set(Listmale).intersection(Listfemale)}')\n",
    "print(f'Количество встреченных повторений по мужским и женским именам по частям {set(listInPartsfemale).intersection(listInPartsmale)}')\n",
    "ListPassangerIdfemale = []\n",
    "ListNameParts = []\n",
    "for i, k, c in zip(titanicBase['NameListInParts'], titanicBase['Sex'], titanicBase['PassengerId']):\n",
    "    for j in i:\n",
    "        if (len(j) > 1 and k == \"female\" and j != 'de' and j in listInPartsmale):\n",
    "            ListPassangerIdfemale.append(c)\n",
    "            ListNameParts.append(j)\n",
    "ListPassangerIdmale = []\n",
    "for i, k, c in zip(titanicBase['NameListInParts'], titanicBase['Sex'], titanicBase['PassengerId']):\n",
    "    if (k == 'male'):\n",
    "        for j in i:\n",
    "            if j in ListNameParts:\n",
    "                ListPassangerIdmale.append(c)    \n",
    "\n",
    "titanicBase[titanicBase['PassengerId'].isin(ListPassangerIdfemale) | titanicBase['PassengerId'].isin(ListPassangerIdmale)]\n"
   ],
   "metadata": {
    "collapsed": false,
    "ExecuteTime": {
     "end_time": "2023-10-24T11:39:32.440733700Z",
     "start_time": "2023-10-24T11:39:32.392761700Z"
    }
   },
   "id": "e11cbf692c165d5"
  },
  {
   "cell_type": "code",
   "execution_count": null,
   "outputs": [],
   "source": [],
   "metadata": {
    "collapsed": false
   },
   "id": "b219c462d04a7bd1"
  }
 ],
 "metadata": {
  "kernelspec": {
   "display_name": "Python 3",
   "language": "python",
   "name": "python3"
  },
  "language_info": {
   "codemirror_mode": {
    "name": "ipython",
    "version": 2
   },
   "file_extension": ".py",
   "mimetype": "text/x-python",
   "name": "python",
   "nbconvert_exporter": "python",
   "pygments_lexer": "ipython2",
   "version": "2.7.6"
  }
 },
 "nbformat": 4,
 "nbformat_minor": 5
}
