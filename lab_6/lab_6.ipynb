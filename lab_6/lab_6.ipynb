{
 "cells": [
  {
   "cell_type": "markdown",
   "source": [
    "# Лабораторная работа №6"
   ],
   "metadata": {
    "collapsed": false
   },
   "id": "9015159b3baa2150"
  },
  {
   "cell_type": "markdown",
   "source": [
    "**1**.\tТаблица moscow-buildings.csv содержит информацию о годах постройки жилых домов в Москве.\n",
    "\n",
    "1)\tЗагрузите базу данных moscow-buildings.csv и сохраните ее как df_build. Удалите из базы данных строки, в которых значения года постройки не указаны («н.д.»), а после превратите столбец house_year в числовой.\n",
    "\n",
    "2)\tПосмотрите на минимальное и максимальное значения года постройки. Разумны ли они? Если нет, уберите из базы данных «странные» значения года постройки. Подсчитайте количество удаленных записей.\n",
    "\n",
    "3)\tВыберите из базы данных строки, соответствующие Басманному району и сохраните их в базу basm_data.\n",
    "\n",
    "4)\tСгруппируйте данные в базе по районам и посмотрите, сколько домов в базе относятся к каждому району.\n",
    "\n",
    "5)\tНайдите средний возраст дома (возраст – в годах, считаем от текущего года) по каждому району. Подсказка: сначала добавьте переменную house_age («возраст дома»).\n",
    "\n",
    "6)\tНайдите самый старый дом и выведите информацию о нем."
   ],
   "metadata": {
    "collapsed": false
   },
   "id": "99e329923a984521"
  },
  {
   "cell_type": "code",
   "execution_count": 11,
   "outputs": [
    {
     "name": "stdout",
     "output_type": "stream",
     "text": [
      "Число строк до удаления тех, что содержать \"н.д.\": 29464\n",
      "Число строк после удаления тех, что содержать \"н.д.\": 26312\n",
      "Число удаленных строк: 3152\n",
      "\n",
      "Тип данных в столбце house_year до изменений: object\n",
      "Тип данных в столбце house_year после изменения в числовой: int32\n"
     ]
    }
   ],
   "source": [
    "# 1)\n",
    "import pandas as pd\n",
    "from datetime import datetime\n",
    "currentYear = datetime.now().year\n",
    "\n",
    "df_build = pd.read_csv('moscow-buildings.csv', index_col = 0)\n",
    "#df_build.info()\n",
    "rows_before = len(df_build.axes[0])\n",
    "print(f'Число строк до удаления тех, что содержать \"н.д.\": {rows_before}')\n",
    "\n",
    "# Удаляем строки, содержащие \"н.д.\"\n",
    "df_build = df_build[(df_build.house_year != 'н.д.')]\n",
    "#df_build.info()\n",
    "rows_after = len(df_build.axes[0])\n",
    "print(f'Число строк после удаления тех, что содержать \"н.д.\": {rows_after}\\n'\n",
    "      f'Число удаленных строк: {rows_before - rows_after}')\n",
    "\n",
    "# Меняем тип данных столбца house_year\n",
    "datatypes_before = df_build.dtypes['house_year']\n",
    "print(f'\\nТип данных в столбце house_year до изменений: {datatypes_before}')\n",
    "df_build = df_build.astype({'house_year': int})\n",
    "datatypes_after = df_build.dtypes['house_year']\n",
    "print(f'Тип данных в столбце house_year после изменения в числовой: {datatypes_after}')\n"
   ],
   "metadata": {
    "collapsed": false,
    "ExecuteTime": {
     "end_time": "2023-10-16T20:27:25.241576500Z",
     "start_time": "2023-10-16T20:27:25.026036700Z"
    }
   },
   "id": "b182063f185138d3"
  },
  {
   "cell_type": "code",
   "execution_count": 12,
   "outputs": [
    {
     "name": "stdout",
     "output_type": "stream",
     "text": [
      "\n",
      "Максимальный год постройки здания - 19781962\n",
      "Минимальный год постройки здания - 5\n",
      "\n",
      "Число строк после удаления тех, что содержали некорректные данные в столбце house_year: 21479\n",
      "Число удаленных строк: 4833\n"
     ]
    }
   ],
   "source": [
    "# 2)\n",
    "# Получаем максимальный и минимальный год постройки зданий\n",
    "maxValues = df_build['house_year'].max()\n",
    "minValues = df_build['house_year'].min()\n",
    "print(f'\\nМаксимальный год постройки здания - {maxValues}\\n'\n",
    "      f'Минимальный год постройки здания - {minValues}')\n",
    "# Год основания Москвы - 1147 [https://www.mos.ru/news/item/22507073/]\n",
    "df_build_copy = df_build.copy()\n",
    "# Удаляем строки, содержащие годы постройки до основания Москвы и больше нынешнего года\n",
    "df_build = df_build.drop(df_build[(df_build['house_year'] < 1147) | (df_build['house_year'] > currentYear)].index)\n",
    "rows_after_years = len(df_build)\n",
    "print(f'\\nЧисло строк после удаления тех, что содержали некорректные данные в столбце house_year: {rows_after_years}\\n'\n",
    "      f'Число удаленных строк: {rows_after - rows_after_years}')"
   ],
   "metadata": {
    "collapsed": false,
    "ExecuteTime": {
     "end_time": "2023-10-16T20:27:30.637797500Z",
     "start_time": "2023-10-16T20:27:30.563940500Z"
    }
   },
   "id": "800c53c892afc862"
  },
  {
   "cell_type": "code",
   "execution_count": 13,
   "outputs": [
    {
     "name": "stdout",
     "output_type": "stream",
     "text": [
      "\n",
      "Число строк, содержащих информацию о Басманном районе: 636\n"
     ]
    }
   ],
   "source": [
    "# 3)\n",
    "# Выбираем из базы данных строки, соответствующие Басманному району\n",
    "#print(df_build['area_name'])\n",
    "basm_data = df_build_copy.copy()\n",
    "basm_data = basm_data.drop(basm_data[(basm_data['area_name'] != 'муниципальный округ Басманный')].index)\n",
    "print(f'\\nЧисло строк, содержащих информацию о Басманном районе: {len(basm_data)}')"
   ],
   "metadata": {
    "collapsed": false,
    "ExecuteTime": {
     "end_time": "2023-10-16T20:27:51.223132200Z",
     "start_time": "2023-10-16T20:27:34.429113200Z"
    }
   },
   "id": "284764a067c02fe"
  },
  {
   "cell_type": "code",
   "execution_count": 14,
   "outputs": [
    {
     "name": "stdout",
     "output_type": "stream",
     "text": [
      "\n",
      "Число домов по районам: \n",
      "area_name\n",
      "муниципальный округ Алексеевский    212\n",
      "муниципальный округ Алтуфьевский    114\n",
      "муниципальный округ Арбат           134\n",
      "муниципальный округ Аэропорт        186\n",
      "муниципальный округ Бабушкинский    251\n",
      "                                   ... \n",
      "муниципальный округ Южное Тушино    320\n",
      "муниципальный округ Южнопортовый    200\n",
      "муниципальный округ Якиманка        105\n",
      "муниципальный округ Ярославский     177\n",
      "муниципальный округ Ясенево         152\n",
      "Name: house_id, Length: 108, dtype: int64\n"
     ]
    }
   ],
   "source": [
    "# 4)\n",
    "# Группировка домов по району\n",
    "grouped = df_build.groupby('area_name')['house_id'].size()\n",
    "print(f'\\nЧисло домов по районам: \\n{grouped}')"
   ],
   "metadata": {
    "collapsed": false,
    "ExecuteTime": {
     "end_time": "2023-10-16T20:27:54.878522700Z",
     "start_time": "2023-10-16T20:27:54.857063300Z"
    }
   },
   "id": "4801892a8d5eb183"
  },
  {
   "cell_type": "code",
   "execution_count": 15,
   "outputs": [
    {
     "name": "stdout",
     "output_type": "stream",
     "text": [
      "area_name\n",
      "муниципальный округ Алексеевский    60.155660\n",
      "муниципальный округ Алтуфьевский    51.280702\n",
      "муниципальный округ Арбат           92.462687\n",
      "муниципальный округ Аэропорт        60.102151\n",
      "муниципальный округ Бабушкинский    55.123506\n",
      "                                      ...    \n",
      "муниципальный округ Южное Тушино    53.471875\n",
      "муниципальный округ Южнопортовый    60.095000\n",
      "муниципальный округ Якиманка        74.533333\n",
      "муниципальный округ Ярославский     51.028249\n",
      "муниципальный округ Ясенево         42.664474\n",
      "Name: house_age, Length: 108, dtype: float64\n"
     ]
    }
   ],
   "source": [
    "# 5)\n",
    "# Находим средний возраст дома по районам\n",
    "df_build = df_build.assign(house_age = currentYear - df_build['house_year'])\n",
    "grouped_age = df_build.groupby('area_name')['house_age'].mean()\n",
    "print(grouped_age)"
   ],
   "metadata": {
    "collapsed": false,
    "ExecuteTime": {
     "end_time": "2023-10-16T20:27:58.211342500Z",
     "start_time": "2023-10-16T20:27:58.182217Z"
    }
   },
   "id": "a69442d68a2ec7a2"
  },
  {
   "cell_type": "code",
   "execution_count": 16,
   "outputs": [
    {
     "name": "stdout",
     "output_type": "stream",
     "text": [
      "\n",
      "Информация о самом старом доме:\n",
      "               full_address        city address street_prefix street_name  \\\n",
      "area_id                                                                     \n",
      "2281124  г Зеленоград д.811  Зеленоград   д.811           NaN         NaN   \n",
      "\n",
      "        building  house_id                           area_name  house_year  \\\n",
      "area_id                                                                      \n",
      "2281124      NaN   7742576  муниципальный округ Старое Крюково        1273   \n",
      "\n",
      "         house_age  \n",
      "area_id             \n",
      "2281124        750  \n"
     ]
    }
   ],
   "source": [
    "# 6)\n",
    "# Находим самый старый дом и выводим по нему инфу\n",
    "oldest = df_build['house_year'].min()\n",
    "oldest_house = df_build.loc[df_build['house_year'] == oldest]\n",
    "print('\\nИнформация о самом старом доме:\\n'\n",
    "      f'{oldest_house}')"
   ],
   "metadata": {
    "collapsed": false,
    "ExecuteTime": {
     "end_time": "2023-10-16T20:28:00.479223100Z",
     "start_time": "2023-10-16T20:28:00.458154800Z"
    }
   },
   "id": "8f03ec97c3fc8aa9"
  },
  {
   "cell_type": "markdown",
   "source": [
    "**2.**\tЗагрузите таблицу titanic.csv и найдите ответы на следующие вопросы. Если ответ нужно приводить в процентах, то это должно быть число в интервале от 0 до 100, округленное до двух знаков, знак процента не нужен.  \n",
    "\n",
    "1)\tПосчитайте долю выживших пассажиров.\n",
    "\n",
    "2)\tКакое количество мужчин и женщин ехало на корабле? Определите долю выживших женщин и выживших мужчин.\n",
    "\n",
    "3)\tКакую долю пассажиры первого, второго и третьего классов составляли среди всех пассажиров? Определите долю выживших пассажиров каждого класса.\n",
    "\n",
    "4)\t Посчитайте среднее и медиану возраста пассажиров. Посчитайте среднее и медиану возраста выживших и невыживших пассажиров.\n",
    "\n",
    "5)\tДобавьте столбцы FirstNameList с именем пассажира. Обратите внимание, что встречается разный формат хранения имен, в том числе существуют отличия для мужчин и женщин. Имя может быть составное (из нескольких имен) - рассмотрите оба варианта - составное имя целиком и составное имя как отдельные имена. Какое самое популярное женское имя на корабле? Какое самое популярное мужское имя на корабле?\n",
    "\n",
    "6)\tПриведите список уникальных (неповторяющихся, только один человек имеет это имя) имен пассажиров, отдельно мужских и женских. Рассмотрите оба варианта - составное имя целиком и составное имя как отдельные имена. Выведите таблицу с этими пассажирами.\n",
    "\n",
    "7)\tПриведите множество всех имен пассажиров, отдельно мужских и женских. Рассмотрите оба варианта - составное имя целиком и составное имя как отдельные имена.\n",
    "\n",
    "8)\tПриведите список имен, которые одновременно встречаются у мужчин, и у женщин. Решите задачу, если рассматривать составные имена как одно имя, и если рассматривать составные имена отдельно. Выведите таблицу пассажирами, имеющими эти имена."
   ],
   "metadata": {
    "collapsed": false
   },
   "id": "f1330b3f594ca1e4"
  },
  {
   "cell_type": "code",
   "execution_count": 18,
   "outputs": [
    {
     "data": {
      "text/plain": "             Survived  Pclass  \\\nPassengerId                     \n1                   0       3   \n2                   1       1   \n3                   1       3   \n4                   1       1   \n5                   0       3   \n...               ...     ...   \n887                 0       2   \n888                 1       1   \n889                 0       3   \n890                 1       1   \n891                 0       3   \n\n                                                          Name     Sex   Age  \\\nPassengerId                                                                    \n1                                      Braund, Mr. Owen Harris    male  22.0   \n2            Cumings, Mrs. John Bradley (Florence Briggs Th...  female  38.0   \n3                                       Heikkinen, Miss. Laina  female  26.0   \n4                 Futrelle, Mrs. Jacques Heath (Lily May Peel)  female  35.0   \n5                                     Allen, Mr. William Henry    male  35.0   \n...                                                        ...     ...   ...   \n887                                      Montvila, Rev. Juozas    male  27.0   \n888                               Graham, Miss. Margaret Edith  female  19.0   \n889                   Johnston, Miss. Catherine Helen \"Carrie\"  female   NaN   \n890                                      Behr, Mr. Karl Howell    male  26.0   \n891                                        Dooley, Mr. Patrick    male  32.0   \n\n             SibSp  Parch            Ticket     Fare Cabin Embarked  \nPassengerId                                                          \n1                1      0         A/5 21171   7.2500   NaN        S  \n2                1      0          PC 17599  71.2833   C85        C  \n3                0      0  STON/O2. 3101282   7.9250   NaN        S  \n4                1      0            113803  53.1000  C123        S  \n5                0      0            373450   8.0500   NaN        S  \n...            ...    ...               ...      ...   ...      ...  \n887              0      0            211536  13.0000   NaN        S  \n888              0      0            112053  30.0000   B42        S  \n889              1      2        W./C. 6607  23.4500   NaN        S  \n890              0      0            111369  30.0000  C148        C  \n891              0      0            370376   7.7500   NaN        Q  \n\n[891 rows x 11 columns]",
      "text/html": "<div>\n<style scoped>\n    .dataframe tbody tr th:only-of-type {\n        vertical-align: middle;\n    }\n\n    .dataframe tbody tr th {\n        vertical-align: top;\n    }\n\n    .dataframe thead th {\n        text-align: right;\n    }\n</style>\n<table border=\"1\" class=\"dataframe\">\n  <thead>\n    <tr style=\"text-align: right;\">\n      <th></th>\n      <th>Survived</th>\n      <th>Pclass</th>\n      <th>Name</th>\n      <th>Sex</th>\n      <th>Age</th>\n      <th>SibSp</th>\n      <th>Parch</th>\n      <th>Ticket</th>\n      <th>Fare</th>\n      <th>Cabin</th>\n      <th>Embarked</th>\n    </tr>\n    <tr>\n      <th>PassengerId</th>\n      <th></th>\n      <th></th>\n      <th></th>\n      <th></th>\n      <th></th>\n      <th></th>\n      <th></th>\n      <th></th>\n      <th></th>\n      <th></th>\n      <th></th>\n    </tr>\n  </thead>\n  <tbody>\n    <tr>\n      <th>1</th>\n      <td>0</td>\n      <td>3</td>\n      <td>Braund, Mr. Owen Harris</td>\n      <td>male</td>\n      <td>22.0</td>\n      <td>1</td>\n      <td>0</td>\n      <td>A/5 21171</td>\n      <td>7.2500</td>\n      <td>NaN</td>\n      <td>S</td>\n    </tr>\n    <tr>\n      <th>2</th>\n      <td>1</td>\n      <td>1</td>\n      <td>Cumings, Mrs. John Bradley (Florence Briggs Th...</td>\n      <td>female</td>\n      <td>38.0</td>\n      <td>1</td>\n      <td>0</td>\n      <td>PC 17599</td>\n      <td>71.2833</td>\n      <td>C85</td>\n      <td>C</td>\n    </tr>\n    <tr>\n      <th>3</th>\n      <td>1</td>\n      <td>3</td>\n      <td>Heikkinen, Miss. Laina</td>\n      <td>female</td>\n      <td>26.0</td>\n      <td>0</td>\n      <td>0</td>\n      <td>STON/O2. 3101282</td>\n      <td>7.9250</td>\n      <td>NaN</td>\n      <td>S</td>\n    </tr>\n    <tr>\n      <th>4</th>\n      <td>1</td>\n      <td>1</td>\n      <td>Futrelle, Mrs. Jacques Heath (Lily May Peel)</td>\n      <td>female</td>\n      <td>35.0</td>\n      <td>1</td>\n      <td>0</td>\n      <td>113803</td>\n      <td>53.1000</td>\n      <td>C123</td>\n      <td>S</td>\n    </tr>\n    <tr>\n      <th>5</th>\n      <td>0</td>\n      <td>3</td>\n      <td>Allen, Mr. William Henry</td>\n      <td>male</td>\n      <td>35.0</td>\n      <td>0</td>\n      <td>0</td>\n      <td>373450</td>\n      <td>8.0500</td>\n      <td>NaN</td>\n      <td>S</td>\n    </tr>\n    <tr>\n      <th>...</th>\n      <td>...</td>\n      <td>...</td>\n      <td>...</td>\n      <td>...</td>\n      <td>...</td>\n      <td>...</td>\n      <td>...</td>\n      <td>...</td>\n      <td>...</td>\n      <td>...</td>\n      <td>...</td>\n    </tr>\n    <tr>\n      <th>887</th>\n      <td>0</td>\n      <td>2</td>\n      <td>Montvila, Rev. Juozas</td>\n      <td>male</td>\n      <td>27.0</td>\n      <td>0</td>\n      <td>0</td>\n      <td>211536</td>\n      <td>13.0000</td>\n      <td>NaN</td>\n      <td>S</td>\n    </tr>\n    <tr>\n      <th>888</th>\n      <td>1</td>\n      <td>1</td>\n      <td>Graham, Miss. Margaret Edith</td>\n      <td>female</td>\n      <td>19.0</td>\n      <td>0</td>\n      <td>0</td>\n      <td>112053</td>\n      <td>30.0000</td>\n      <td>B42</td>\n      <td>S</td>\n    </tr>\n    <tr>\n      <th>889</th>\n      <td>0</td>\n      <td>3</td>\n      <td>Johnston, Miss. Catherine Helen \"Carrie\"</td>\n      <td>female</td>\n      <td>NaN</td>\n      <td>1</td>\n      <td>2</td>\n      <td>W./C. 6607</td>\n      <td>23.4500</td>\n      <td>NaN</td>\n      <td>S</td>\n    </tr>\n    <tr>\n      <th>890</th>\n      <td>1</td>\n      <td>1</td>\n      <td>Behr, Mr. Karl Howell</td>\n      <td>male</td>\n      <td>26.0</td>\n      <td>0</td>\n      <td>0</td>\n      <td>111369</td>\n      <td>30.0000</td>\n      <td>C148</td>\n      <td>C</td>\n    </tr>\n    <tr>\n      <th>891</th>\n      <td>0</td>\n      <td>3</td>\n      <td>Dooley, Mr. Patrick</td>\n      <td>male</td>\n      <td>32.0</td>\n      <td>0</td>\n      <td>0</td>\n      <td>370376</td>\n      <td>7.7500</td>\n      <td>NaN</td>\n      <td>Q</td>\n    </tr>\n  </tbody>\n</table>\n<p>891 rows × 11 columns</p>\n</div>"
     },
     "execution_count": 18,
     "metadata": {},
     "output_type": "execute_result"
    }
   ],
   "source": [
    "df_titanic = pd.read_csv('titanic.csv', index_col = 0)\n",
    "df_titanic"
   ],
   "metadata": {
    "collapsed": false,
    "ExecuteTime": {
     "end_time": "2023-10-16T20:29:14.577844900Z",
     "start_time": "2023-10-16T20:29:14.522226200Z"
    }
   },
   "id": "6ecf5a943a99c716"
  },
  {
   "cell_type": "code",
   "execution_count": null,
   "outputs": [],
   "source": [],
   "metadata": {
    "collapsed": false
   },
   "id": "4ff26f401f99a0ea"
  }
 ],
 "metadata": {
  "kernelspec": {
   "display_name": "Python 3",
   "language": "python",
   "name": "python3"
  },
  "language_info": {
   "codemirror_mode": {
    "name": "ipython",
    "version": 2
   },
   "file_extension": ".py",
   "mimetype": "text/x-python",
   "name": "python",
   "nbconvert_exporter": "python",
   "pygments_lexer": "ipython2",
   "version": "2.7.6"
  }
 },
 "nbformat": 4,
 "nbformat_minor": 5
}
