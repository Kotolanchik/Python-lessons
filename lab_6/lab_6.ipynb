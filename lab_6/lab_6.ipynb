{
 "cells": [
  {
   "cell_type": "markdown",
   "source": [
    "# Лабораторная работа №6"
   ],
   "metadata": {
    "collapsed": false
   },
   "id": "9015159b3baa2150"
  },
  {
   "cell_type": "markdown",
   "source": [
    "**1**.\tТаблица moscow-buildings.csv содержит информацию о годах постройки жилых домов в Москве.\n",
    "\n",
    "1)\tЗагрузите базу данных moscow-buildings.csv и сохраните ее как df_build. Удалите из базы данных строки, в которых значения года постройки не указаны («н.д.»), а после превратите столбец house_year в числовой.\n",
    "\n",
    "2)\tПосмотрите на минимальное и максимальное значения года постройки. Разумны ли они? Если нет, уберите из базы данных «странные» значения года постройки. Подсчитайте количество удаленных записей.\n",
    "\n",
    "3)\tВыберите из базы данных строки, соответствующие Басманному району и сохраните их в базу basm_data.\n",
    "\n",
    "4)\tСгруппируйте данные в базе по районам и посмотрите, сколько домов в базе относятся к каждому району.\n",
    "\n",
    "5)\tНайдите средний возраст дома (возраст – в годах, считаем от текущего года) по каждому району. Подсказка: сначала добавьте переменную house_age («возраст дома»).\n",
    "\n",
    "6)\tНайдите самый старый дом и выведите информацию о нем."
   ],
   "metadata": {
    "collapsed": false
   },
   "id": "99e329923a984521"
  },
  {
   "cell_type": "code",
   "execution_count": 11,
   "outputs": [
    {
     "name": "stdout",
     "output_type": "stream",
     "text": [
      "Число строк до удаления тех, что содержать \"н.д.\": 29464\n",
      "Число строк после удаления тех, что содержать \"н.д.\": 26312\n",
      "Число удаленных строк: 3152\n",
      "\n",
      "Тип данных в столбце house_year до изменений: object\n",
      "Тип данных в столбце house_year после изменения в числовой: int32\n"
     ]
    }
   ],
   "source": [
    "# 1)\n",
    "import pandas as pd\n",
    "from datetime import datetime\n",
    "\n",
    "currentYear = datetime.now().year\n",
    "\n",
    "df_build = pd.read_csv('moscow-buildings.csv', index_col=0)\n",
    "#df_build.info()\n",
    "rows_before = len(df_build.axes[0])\n",
    "print(f'Число строк до удаления тех, что содержать \"н.д.\": {rows_before}')\n",
    "\n",
    "# Удаляем строки, содержащие \"н.д.\"\n",
    "df_build = df_build[(df_build.house_year != 'н.д.')]\n",
    "#df_build.info()\n",
    "rows_after = len(df_build.axes[0])\n",
    "print(f'Число строк после удаления тех, что содержать \"н.д.\": {rows_after}\\n'\n",
    "      f'Число удаленных строк: {rows_before - rows_after}')\n",
    "\n",
    "# Меняем тип данных столбца house_year\n",
    "datatypes_before = df_build.dtypes['house_year']\n",
    "print(f'\\nТип данных в столбце house_year до изменений: {datatypes_before}')\n",
    "df_build = df_build.astype({'house_year': int})\n",
    "datatypes_after = df_build.dtypes['house_year']\n",
    "print(f'Тип данных в столбце house_year после изменения в числовой: {datatypes_after}')\n"
   ],
   "metadata": {
    "collapsed": false,
    "ExecuteTime": {
     "end_time": "2023-10-16T20:27:25.241576500Z",
     "start_time": "2023-10-16T20:27:25.026036700Z"
    }
   },
   "id": "b182063f185138d3"
  },
  {
   "cell_type": "code",
   "execution_count": 12,
   "outputs": [
    {
     "name": "stdout",
     "output_type": "stream",
     "text": [
      "\n",
      "Максимальный год постройки здания - 19781962\n",
      "Минимальный год постройки здания - 5\n",
      "\n",
      "Число строк после удаления тех, что содержали некорректные данные в столбце house_year: 21479\n",
      "Число удаленных строк: 4833\n"
     ]
    }
   ],
   "source": [
    "# 2)\n",
    "# Получаем максимальный и минимальный год постройки зданий\n",
    "maxValues = df_build['house_year'].max()\n",
    "minValues = df_build['house_year'].min()\n",
    "print(f'\\nМаксимальный год постройки здания - {maxValues}\\n'\n",
    "      f'Минимальный год постройки здания - {minValues}')\n",
    "# Год основания Москвы - 1147 [https://www.mos.ru/news/item/22507073/]\n",
    "df_build_copy = df_build.copy()\n",
    "# Удаляем строки, содержащие годы постройки до основания Москвы и больше нынешнего года\n",
    "df_build = df_build.drop(df_build[(df_build['house_year'] < 1147) | (df_build['house_year'] > currentYear)].index)\n",
    "rows_after_years = len(df_build)\n",
    "print(f'\\nЧисло строк после удаления тех, что содержали некорректные данные в столбце house_year: {rows_after_years}\\n'\n",
    "      f'Число удаленных строк: {rows_after - rows_after_years}')"
   ],
   "metadata": {
    "collapsed": false,
    "ExecuteTime": {
     "end_time": "2023-10-16T20:27:30.637797500Z",
     "start_time": "2023-10-16T20:27:30.563940500Z"
    }
   },
   "id": "800c53c892afc862"
  },
  {
   "cell_type": "code",
   "execution_count": 13,
   "outputs": [
    {
     "name": "stdout",
     "output_type": "stream",
     "text": [
      "\n",
      "Число строк, содержащих информацию о Басманном районе: 636\n"
     ]
    }
   ],
   "source": [
    "# 3)\n",
    "# Выбираем из базы данных строки, соответствующие Басманному району\n",
    "#print(df_build['area_name'])\n",
    "basm_data = df_build_copy.copy()\n",
    "basm_data = basm_data.drop(basm_data[(basm_data['area_name'] != 'муниципальный округ Басманный')].index)\n",
    "print(f'\\nЧисло строк, содержащих информацию о Басманном районе: {len(basm_data)}')"
   ],
   "metadata": {
    "collapsed": false,
    "ExecuteTime": {
     "end_time": "2023-10-16T20:27:51.223132200Z",
     "start_time": "2023-10-16T20:27:34.429113200Z"
    }
   },
   "id": "284764a067c02fe"
  },
  {
   "cell_type": "code",
   "execution_count": 14,
   "outputs": [
    {
     "name": "stdout",
     "output_type": "stream",
     "text": [
      "\n",
      "Число домов по районам: \n",
      "area_name\n",
      "муниципальный округ Алексеевский    212\n",
      "муниципальный округ Алтуфьевский    114\n",
      "муниципальный округ Арбат           134\n",
      "муниципальный округ Аэропорт        186\n",
      "муниципальный округ Бабушкинский    251\n",
      "                                   ... \n",
      "муниципальный округ Южное Тушино    320\n",
      "муниципальный округ Южнопортовый    200\n",
      "муниципальный округ Якиманка        105\n",
      "муниципальный округ Ярославский     177\n",
      "муниципальный округ Ясенево         152\n",
      "Name: house_id, Length: 108, dtype: int64\n"
     ]
    }
   ],
   "source": [
    "# 4)\n",
    "# Группировка домов по району\n",
    "grouped = df_build.groupby('area_name')['house_id'].size()\n",
    "print(f'\\nЧисло домов по районам: \\n{grouped}')"
   ],
   "metadata": {
    "collapsed": false,
    "ExecuteTime": {
     "end_time": "2023-10-16T20:27:54.878522700Z",
     "start_time": "2023-10-16T20:27:54.857063300Z"
    }
   },
   "id": "4801892a8d5eb183"
  },
  {
   "cell_type": "code",
   "execution_count": 15,
   "outputs": [
    {
     "name": "stdout",
     "output_type": "stream",
     "text": [
      "area_name\n",
      "муниципальный округ Алексеевский    60.155660\n",
      "муниципальный округ Алтуфьевский    51.280702\n",
      "муниципальный округ Арбат           92.462687\n",
      "муниципальный округ Аэропорт        60.102151\n",
      "муниципальный округ Бабушкинский    55.123506\n",
      "                                      ...    \n",
      "муниципальный округ Южное Тушино    53.471875\n",
      "муниципальный округ Южнопортовый    60.095000\n",
      "муниципальный округ Якиманка        74.533333\n",
      "муниципальный округ Ярославский     51.028249\n",
      "муниципальный округ Ясенево         42.664474\n",
      "Name: house_age, Length: 108, dtype: float64\n"
     ]
    }
   ],
   "source": [
    "# 5)\n",
    "# Находим средний возраст дома по районам\n",
    "df_build = df_build.assign(house_age=currentYear - df_build['house_year'])\n",
    "grouped_age = df_build.groupby('area_name')['house_age'].mean()\n",
    "print(grouped_age)"
   ],
   "metadata": {
    "collapsed": false,
    "ExecuteTime": {
     "end_time": "2023-10-16T20:27:58.211342500Z",
     "start_time": "2023-10-16T20:27:58.182217Z"
    }
   },
   "id": "a69442d68a2ec7a2"
  },
  {
   "cell_type": "code",
   "execution_count": 16,
   "outputs": [
    {
     "name": "stdout",
     "output_type": "stream",
     "text": [
      "\n",
      "Информация о самом старом доме:\n",
      "               full_address        city address street_prefix street_name  \\\n",
      "area_id                                                                     \n",
      "2281124  г Зеленоград д.811  Зеленоград   д.811           NaN         NaN   \n",
      "\n",
      "        building  house_id                           area_name  house_year  \\\n",
      "area_id                                                                      \n",
      "2281124      NaN   7742576  муниципальный округ Старое Крюково        1273   \n",
      "\n",
      "         house_age  \n",
      "area_id             \n",
      "2281124        750  \n"
     ]
    }
   ],
   "source": [
    "# 6)\n",
    "# Находим самый старый дом и выводим по нему инфу\n",
    "oldest = df_build['house_year'].min()\n",
    "oldest_house = df_build.loc[df_build['house_year'] == oldest]\n",
    "print('\\nИнформация о самом старом доме:\\n'\n",
    "      f'{oldest_house}')"
   ],
   "metadata": {
    "collapsed": false,
    "ExecuteTime": {
     "end_time": "2023-10-16T20:28:00.479223100Z",
     "start_time": "2023-10-16T20:28:00.458154800Z"
    }
   },
   "id": "8f03ec97c3fc8aa9"
  },
  {
   "cell_type": "markdown",
   "source": [
    "**2.**\tЗагрузите таблицу titanic.csv и найдите ответы на следующие вопросы. Если ответ нужно приводить в процентах, то это должно быть число в интервале от 0 до 100, округленное до двух знаков, знак процента не нужен.  \n",
    "\n",
    "1)\tПосчитайте долю выживших пассажиров.ok\n",
    "\n",
    "2)\tКакое количество мужчин и женщин ехало на корабле? Определите долю выживших женщин и выживших мужчин.ok\n",
    "\n",
    "3)\tКакую долю пассажиры первого, второго и третьего классов составляли среди всех пассажиров? Определите долю выживших пассажиров каждого класса.ok\n",
    "\n",
    "4)\t Посчитайте среднее и медиану возраста пассажиров. Посчитайте среднее и медиану возраста выживших и невыживших пассажиров.\n",
    "\n",
    "5)\tДобавьте столбцы FirstNameList с именем пассажира. Обратите внимание, что встречается разный формат хранения имен, в том числе существуют отличия для мужчин и женщин. Имя может быть составное (из нескольких имен) - рассмотрите оба варианта - составное имя целиком и составное имя как отдельные имена. Какое самое популярное женское имя на корабле? Какое самое популярное мужское имя на корабле?\n",
    "\n",
    "6)\tПриведите список уникальных (неповторяющихся, только один человек имеет это имя) имен пассажиров, отдельно мужских и женских. Рассмотрите оба варианта - составное имя целиком и составное имя как отдельные имена. Выведите таблицу с этими пассажирами.\n",
    "\n",
    "7)\tПриведите множество всех имен пассажиров, отдельно мужских и женских. Рассмотрите оба варианта - составное имя целиком и составное имя как отдельные имена.\n",
    "\n",
    "8)\tПриведите список имен, которые одновременно встречаются у мужчин, и у женщин. Решите задачу, если рассматривать составные имена как одно имя, и если рассматривать составные имена отдельно. Выведите таблицу пассажирами, имеющими эти имена."
   ],
   "metadata": {
    "collapsed": false
   },
   "id": "f1330b3f594ca1e4"
  },
  {
   "cell_type": "code",
   "execution_count": 56,
   "outputs": [
    {
     "data": {
      "text/plain": "             Survived  Pclass  \\\nPassengerId                     \n1                   0       3   \n2                   1       1   \n3                   1       3   \n4                   1       1   \n5                   0       3   \n...               ...     ...   \n887                 0       2   \n888                 1       1   \n889                 0       3   \n890                 1       1   \n891                 0       3   \n\n                                                          Name     Sex   Age  \\\nPassengerId                                                                    \n1                                      Braund, Mr. Owen Harris    male  22.0   \n2            Cumings, Mrs. John Bradley (Florence Briggs Th...  female  38.0   \n3                                       Heikkinen, Miss. Laina  female  26.0   \n4                 Futrelle, Mrs. Jacques Heath (Lily May Peel)  female  35.0   \n5                                     Allen, Mr. William Henry    male  35.0   \n...                                                        ...     ...   ...   \n887                                      Montvila, Rev. Juozas    male  27.0   \n888                               Graham, Miss. Margaret Edith  female  19.0   \n889                   Johnston, Miss. Catherine Helen \"Carrie\"  female   NaN   \n890                                      Behr, Mr. Karl Howell    male  26.0   \n891                                        Dooley, Mr. Patrick    male  32.0   \n\n             SibSp  Parch            Ticket     Fare Cabin Embarked  \nPassengerId                                                          \n1                1      0         A/5 21171   7.2500   NaN        S  \n2                1      0          PC 17599  71.2833   C85        C  \n3                0      0  STON/O2. 3101282   7.9250   NaN        S  \n4                1      0            113803  53.1000  C123        S  \n5                0      0            373450   8.0500   NaN        S  \n...            ...    ...               ...      ...   ...      ...  \n887              0      0            211536  13.0000   NaN        S  \n888              0      0            112053  30.0000   B42        S  \n889              1      2        W./C. 6607  23.4500   NaN        S  \n890              0      0            111369  30.0000  C148        C  \n891              0      0            370376   7.7500   NaN        Q  \n\n[891 rows x 11 columns]",
      "text/html": "<div>\n<style scoped>\n    .dataframe tbody tr th:only-of-type {\n        vertical-align: middle;\n    }\n\n    .dataframe tbody tr th {\n        vertical-align: top;\n    }\n\n    .dataframe thead th {\n        text-align: right;\n    }\n</style>\n<table border=\"1\" class=\"dataframe\">\n  <thead>\n    <tr style=\"text-align: right;\">\n      <th></th>\n      <th>Survived</th>\n      <th>Pclass</th>\n      <th>Name</th>\n      <th>Sex</th>\n      <th>Age</th>\n      <th>SibSp</th>\n      <th>Parch</th>\n      <th>Ticket</th>\n      <th>Fare</th>\n      <th>Cabin</th>\n      <th>Embarked</th>\n    </tr>\n    <tr>\n      <th>PassengerId</th>\n      <th></th>\n      <th></th>\n      <th></th>\n      <th></th>\n      <th></th>\n      <th></th>\n      <th></th>\n      <th></th>\n      <th></th>\n      <th></th>\n      <th></th>\n    </tr>\n  </thead>\n  <tbody>\n    <tr>\n      <th>1</th>\n      <td>0</td>\n      <td>3</td>\n      <td>Braund, Mr. Owen Harris</td>\n      <td>male</td>\n      <td>22.0</td>\n      <td>1</td>\n      <td>0</td>\n      <td>A/5 21171</td>\n      <td>7.2500</td>\n      <td>NaN</td>\n      <td>S</td>\n    </tr>\n    <tr>\n      <th>2</th>\n      <td>1</td>\n      <td>1</td>\n      <td>Cumings, Mrs. John Bradley (Florence Briggs Th...</td>\n      <td>female</td>\n      <td>38.0</td>\n      <td>1</td>\n      <td>0</td>\n      <td>PC 17599</td>\n      <td>71.2833</td>\n      <td>C85</td>\n      <td>C</td>\n    </tr>\n    <tr>\n      <th>3</th>\n      <td>1</td>\n      <td>3</td>\n      <td>Heikkinen, Miss. Laina</td>\n      <td>female</td>\n      <td>26.0</td>\n      <td>0</td>\n      <td>0</td>\n      <td>STON/O2. 3101282</td>\n      <td>7.9250</td>\n      <td>NaN</td>\n      <td>S</td>\n    </tr>\n    <tr>\n      <th>4</th>\n      <td>1</td>\n      <td>1</td>\n      <td>Futrelle, Mrs. Jacques Heath (Lily May Peel)</td>\n      <td>female</td>\n      <td>35.0</td>\n      <td>1</td>\n      <td>0</td>\n      <td>113803</td>\n      <td>53.1000</td>\n      <td>C123</td>\n      <td>S</td>\n    </tr>\n    <tr>\n      <th>5</th>\n      <td>0</td>\n      <td>3</td>\n      <td>Allen, Mr. William Henry</td>\n      <td>male</td>\n      <td>35.0</td>\n      <td>0</td>\n      <td>0</td>\n      <td>373450</td>\n      <td>8.0500</td>\n      <td>NaN</td>\n      <td>S</td>\n    </tr>\n    <tr>\n      <th>...</th>\n      <td>...</td>\n      <td>...</td>\n      <td>...</td>\n      <td>...</td>\n      <td>...</td>\n      <td>...</td>\n      <td>...</td>\n      <td>...</td>\n      <td>...</td>\n      <td>...</td>\n      <td>...</td>\n    </tr>\n    <tr>\n      <th>887</th>\n      <td>0</td>\n      <td>2</td>\n      <td>Montvila, Rev. Juozas</td>\n      <td>male</td>\n      <td>27.0</td>\n      <td>0</td>\n      <td>0</td>\n      <td>211536</td>\n      <td>13.0000</td>\n      <td>NaN</td>\n      <td>S</td>\n    </tr>\n    <tr>\n      <th>888</th>\n      <td>1</td>\n      <td>1</td>\n      <td>Graham, Miss. Margaret Edith</td>\n      <td>female</td>\n      <td>19.0</td>\n      <td>0</td>\n      <td>0</td>\n      <td>112053</td>\n      <td>30.0000</td>\n      <td>B42</td>\n      <td>S</td>\n    </tr>\n    <tr>\n      <th>889</th>\n      <td>0</td>\n      <td>3</td>\n      <td>Johnston, Miss. Catherine Helen \"Carrie\"</td>\n      <td>female</td>\n      <td>NaN</td>\n      <td>1</td>\n      <td>2</td>\n      <td>W./C. 6607</td>\n      <td>23.4500</td>\n      <td>NaN</td>\n      <td>S</td>\n    </tr>\n    <tr>\n      <th>890</th>\n      <td>1</td>\n      <td>1</td>\n      <td>Behr, Mr. Karl Howell</td>\n      <td>male</td>\n      <td>26.0</td>\n      <td>0</td>\n      <td>0</td>\n      <td>111369</td>\n      <td>30.0000</td>\n      <td>C148</td>\n      <td>C</td>\n    </tr>\n    <tr>\n      <th>891</th>\n      <td>0</td>\n      <td>3</td>\n      <td>Dooley, Mr. Patrick</td>\n      <td>male</td>\n      <td>32.0</td>\n      <td>0</td>\n      <td>0</td>\n      <td>370376</td>\n      <td>7.7500</td>\n      <td>NaN</td>\n      <td>Q</td>\n    </tr>\n  </tbody>\n</table>\n<p>891 rows × 11 columns</p>\n</div>"
     },
     "execution_count": 56,
     "metadata": {},
     "output_type": "execute_result"
    }
   ],
   "source": [
    "titanic_df = pd.read_csv('titanic.csv', index_col=0)\n",
    "titanic_df\n",
    "#titanic_df.info()"
   ],
   "metadata": {
    "collapsed": false,
    "ExecuteTime": {
     "end_time": "2023-10-16T21:17:13.373396900Z",
     "start_time": "2023-10-16T21:17:13.338923100Z"
    }
   },
   "id": "8cf7eb62c22919e6"
  },
  {
   "cell_type": "code",
   "execution_count": 26,
   "outputs": [
    {
     "name": "stdout",
     "output_type": "stream",
     "text": [
      "Доля выживших пассажиров: 38.38%\n"
     ]
    }
   ],
   "source": [
    "#1\n",
    "\n",
    "surviving_passengers = titanic_df[\"Survived\"].sum() / len(titanic_df)\n",
    "print(f\"Доля выживших пассажиров: {surviving_passengers * 100:.2f}%\")"
   ],
   "metadata": {
    "collapsed": false,
    "ExecuteTime": {
     "end_time": "2023-10-16T20:40:45.047985300Z",
     "start_time": "2023-10-16T20:40:45.018745500Z"
    }
   },
   "id": "6ecf5a943a99c716"
  },
  {
   "cell_type": "code",
   "execution_count": 55,
   "outputs": [
    {
     "name": "stdout",
     "output_type": "stream",
     "text": [
      "Количество мужчин на корабле: 577\n",
      "Количество женщин на корабле:314\n",
      "\n",
      "Количество выживших мужчин: 109\n",
      "Количество выживших женщин: 233\n",
      "\n",
      "Доля выживших мужчин: 18.89%\n",
      "Доля выживших женщин: 74.20%\n"
     ]
    }
   ],
   "source": [
    "gender_counts = titanic_df[\"Sex\"].value_counts()\n",
    "survived_pass = titanic_df[titanic_df[\"Survived\"] == 1][\"Sex\"].value_counts()\n",
    "survived_percentage = (survived_pass / gender_counts) * 100\n",
    "\n",
    "print(f\"Количество мужчин на корабле: {gender_counts['male']}\")\n",
    "print(f\"Количество женщин на корабле:{gender_counts['female']}\")\n",
    "\n",
    "print(f\"\\nКоличество выживших мужчин: {survived_pass['male']}\")\n",
    "print(f\"Количество выживших женщин: {survived_pass['female']}\")\n",
    "\n",
    "print(f\"\\nДоля выживших мужчин: {survived_percentage['male']:.2f}\")\n",
    "print(f\"Доля выживших женщин: {survived_percentage['female']:.2f}\")"
   ],
   "metadata": {
    "collapsed": false,
    "ExecuteTime": {
     "end_time": "2023-10-16T21:13:38.249476700Z",
     "start_time": "2023-10-16T21:13:38.224720200Z"
    }
   },
   "id": "4ff26f401f99a0ea"
  },
  {
   "cell_type": "code",
   "execution_count": 68,
   "outputs": [
    {
     "name": "stdout",
     "output_type": "stream",
     "text": [
      "Доля пассажиров каждого класса среди всех пассажиров: \n",
      "Первый класс: 24.24\n",
      "Второй класс: 20.65\n",
      "Третий класс: 55.11\n",
      "Доля выживших пассажиров каждого класса среди всех пассажиров: \n",
      "Первый класс: 39.77\n",
      "Второй класс: 25.44\n",
      "Третий класс: 34.80\n"
     ]
    }
   ],
   "source": [
    "passenger_classes = titanic_df[\"Pclass\"]\n",
    "count_classes = titanic_df[\"Pclass\"].value_counts()\n",
    "survived_pass_by_classes = titanic_df[titanic_df[\"Survived\"] == 1][\"Pclass\"].value_counts()\n",
    "\n",
    "print(f\"Доля пассажиров каждого класса среди всех пассажиров: \"\n",
    "      f\"\\nПервый класс: {count_classes[1] / len(titanic_df) * 100:.2f}\"\n",
    "      f\"\\nВторой класс: {count_classes[2] / len(titanic_df) * 100:.2f}\"\n",
    "      f\"\\nТретий класс: {count_classes[3] / len(titanic_df) * 100:.2f}\")\n",
    "print(f\"Доля выживших пассажиров каждого класса среди всех пассажиров: \"\n",
    "      f\"\\nПервый класс: {survived_pass_by_classes[1] / sum(survived_pass_by_classes) * 100:.2f}\"\n",
    "      f\"\\nВторой класс: {survived_pass_by_classes[2] / sum(survived_pass_by_classes) * 100:.2f}\"\n",
    "      f\"\\nТретий класс: {survived_pass_by_classes[3] / sum(survived_pass_by_classes) * 100:.2f}\")"
   ],
   "metadata": {
    "collapsed": false,
    "ExecuteTime": {
     "end_time": "2023-10-16T22:32:42.493584200Z",
     "start_time": "2023-10-16T22:32:42.476092Z"
    }
   },
   "id": "9896559afad99be0"
  },
  {
   "cell_type": "markdown",
   "source": [
    "4)\t Посчитайте среднее и медиану возраста пассажиров. Посчитайте среднее и медиану возраста выживших и невыживших пассажиров.\n",
    "\n",
    "5)\tДобавьте столбцы FirstNameList с именем пассажира. Обратите внимание, что встречается разный формат хранения имен, в том числе существуют отличия для мужчин и женщин. Имя может быть составное (из нескольких имен) - рассмотрите оба варианта - составное имя целиком и составное имя как отдельные имена. Какое самое популярное женское имя на корабле? Какое самое популярное мужское имя на корабле?\n",
    "\n",
    "6)\tПриведите список уникальных (неповторяющихся, только один человек имеет это имя) имен пассажиров, отдельно мужских и женских. Рассмотрите оба варианта - составное имя целиком и составное имя как отдельные имена. Выведите таблицу с этими пассажирами.\n",
    "\n",
    "7)\tПриведите множество всех имен пассажиров, отдельно мужских и женских. Рассмотрите оба варианта - составное имя целиком и составное имя как отдельные имена.\n",
    "\n",
    "8)\tПриведите список имен, которые одновременно встречаются у мужчин, и у женщин. Решите задачу, если рассматривать составные имена как одно имя, и если рассматривать составные имена отдельно. Выведите таблицу пассажирами, имеющими эти имена."
   ],
   "metadata": {
    "collapsed": false
   },
   "id": "210170906fefd291"
  },
  {
   "cell_type": "code",
   "execution_count": 74,
   "outputs": [
    {
     "name": "stdout",
     "output_type": "stream",
     "text": [
      "Средний возраст всех пассажиров:29.70\n",
      "Медиана возраста всех пассажиров: 28.0\n",
      "Средний возраст всех выживших пассажиров:28.34\n",
      "Медиана возраста всех выживших пассажиров: 28.0\n",
      "Средний возраст всех не выживших пассажиров:30.63\n",
      "Медиана возраста всех не выживших пассажиров: 28.0\n"
     ]
    }
   ],
   "source": [
    "age_mean = titanic_df[\"Age\"].dropna().mean()\n",
    "age_median = titanic_df[\"Age\"].dropna().median()\n",
    "\n",
    "print(f\"Средний возраст всех пассажиров:{age_mean:.2f}\")\n",
    "print(f\"Медиана возраста всех пассажиров: {age_median}\")\n",
    "\n",
    "age_mean_survived = titanic_df[titanic_df[\"Survived\"] == 1][\"Age\"].dropna().mean()\n",
    "age_median_survived = titanic_df[titanic_df[\"Survived\"] == 1][\"Age\"].dropna().median()\n",
    "\n",
    "print(f\"Средний возраст всех выживших пассажиров:{age_mean_survived:.2f}\")\n",
    "print(f\"Медиана возраста всех выживших пассажиров: {age_median_survived}\")\n",
    "\n",
    "age_mean_not_survived = titanic_df[titanic_df[\"Survived\"] == 0][\"Age\"].dropna().mean()\n",
    "age_median_not_survived = titanic_df[titanic_df[\"Survived\"] == 0][\"Age\"].dropna().median()\n",
    "\n",
    "print(f\"Средний возраст всех не выживших пассажиров:{age_mean_not_survived:.2f}\")\n",
    "print(f\"Медиана возраста всех не выживших пассажиров: {age_median_not_survived}\")"
   ],
   "metadata": {
    "collapsed": false,
    "ExecuteTime": {
     "end_time": "2023-10-16T22:43:04.814434800Z",
     "start_time": "2023-10-16T22:43:04.795622800Z"
    }
   },
   "id": "45f8c741fe706fe2"
  },
  {
   "cell_type": "code",
   "execution_count": 125,
   "outputs": [
    {
     "name": "stdout",
     "output_type": "stream",
     "text": [
      "0                              Owen Harris\n",
      "1    John Bradley (Florence Briggs Thayer)\n",
      "2                                    Laina\n",
      "3            Jacques Heath (Lily May Peel)\n",
      "4                            William Henry\n",
      "Name: FirstNameList, dtype: object\n",
      "Самое популярное женское имя на корабле: Mary\n",
      "Самое популярное мужское имя на корабле: John\n"
     ]
    },
    {
     "data": {
      "text/plain": "0                                Owen Harris\n1      John Bradley (Florence Briggs Thayer)\n2                                      Laina\n3              Jacques Heath (Lily May Peel)\n4                              William Henry\n                       ...                  \n886                                   Juozas\n887                           Margaret Edith\n888                 Catherine Helen \"Carrie\"\n889                              Karl Howell\n890                                  Patrick\nName: FirstNameList, Length: 891, dtype: object"
     },
     "execution_count": 125,
     "metadata": {},
     "output_type": "execute_result"
    }
   ],
   "source": [
    "# 5)\tДобавьте столбцы FirstNameList с именем пассажира. Обратите внимание, что встречается разный формат хранения имен, в том числе существуют отличия для мужчин и женщин. Имя может быть составное (из нескольких имен) - рассмотрите оба варианта - составное имя целиком и составное имя как отдельные имена. Какое самое популярное женское имя на корабле? Какое самое популярное мужское имя на корабле?\n",
    "\n",
    "import pandas as pd\n",
    "\n",
    "# Загрузите данные из файла titanic.csv или используйте свои данные\n",
    "titanic_df = pd.read_csv('titanic.csv')\n",
    "\n",
    "# Создайте столбец \"FirstNameList\" с именем пассажира\n",
    "titanic_df['FirstNameList'] = titanic_df['Name'].str.split(',').str.get(1).str.strip()\n",
    "titanic_df['FirstNameList'] = titanic_df['FirstNameList'].str.split('.').str.get(1).str.strip()\n",
    "\n",
    "# Отобразим первые несколько строк для проверки\n",
    "print(titanic_df['FirstNameList'].head())\n",
    "\n",
    "# Популярные имена у женщин\n",
    "female_names = titanic_df[titanic_df['Sex'] == 'female']['FirstNameList']\n",
    "most_common_female_name = female_names.mode().iloc[0]\n",
    "\n",
    "# Популярные имена у мужчин\n",
    "male_names = titanic_df[titanic_df['Sex'] == 'male']['FirstNameList']\n",
    "most_common_male_name = male_names.mode().iloc[0]\n",
    "\n",
    "print(f\"Самое популярное женское имя на корабле: {most_common_female_name}\")\n",
    "print(f\"Самое популярное мужское имя на корабле: {most_common_male_name}\")\n",
    "\n",
    "titanic_df['FirstNameList']"
   ],
   "metadata": {
    "collapsed": false,
    "ExecuteTime": {
     "end_time": "2023-10-17T11:30:05.937048Z",
     "start_time": "2023-10-17T11:30:05.877958800Z"
    }
   },
   "id": "3cca0b80cedcd22c"
  },
  {
   "cell_type": "code",
   "execution_count": 153,
   "outputs": [
    {
     "name": "stdout",
     "output_type": "stream",
     "text": [
      "Уникальные имена у женщин (составные имена):\n",
      "[['John', 'Bradley', '(Florence', 'Briggs', 'Thayer)'], ['Laina'], ['Jacques', 'Heath', '(Lily', 'May', 'Peel)'], ['Oscar', 'W', '(Elisabeth', 'Vilhelmina', 'Berg)'], ['Nicholas', '(Adele', 'Achem)'], ['Marguerite', 'Rut'], ['Hulda', 'Amanda', 'Adolfina'], ['(Mary', 'D', 'Kingcome)'], ['Julius', '(Emelia', 'Maria', 'Vandemoortele)'], ['Fatima'], ['Anna', '\"Annie\"'], ['Torborg', 'Danira'], ['Carl', 'Oscar', '(Selma', 'Augusta', 'Emilia', 'Johansson)'], ['William', 'Augustus', '(Marie', 'Eugenie)'], ['Mary', 'Agatha'], ['Augusta', 'Maria'], ['Jamila'], ['Johan', '(Johanna', 'Persdotter', 'Larsson)'], ['William', 'John', 'Robert', '(Dorothy', 'Ann', 'Wonnacott)'], ['Simonne', 'Marie', 'Anne', 'Andree'], ['Margaret', 'Delia'], ['Bridget'], ['Josef', '(Josefine', 'Franchi)'], ['Henry', 'Sleeper', '(Myna', 'Haxtun)'], ['Lizzie', '(Elizabeth', 'Anne', 'Wilkinson)'], ['Emily'], ['Constance', 'Mirium'], ['Amelie'], ['(Elizabeth', 'Ramell)'], ['Erna', 'Alexandra'], ['Lillian', 'Amy'], ['Brigdet', 'Delia'], ['Karl', 'Alfred', '(Maria', 'Mathilda', 'Gustafsson)'], ['Mabel', 'Helen'], ['John', 'T', '(Ada', 'Julia', 'Bone)'], ['Matilda'], ['Anna', 'Kristine'], ['Hileni'], ['Katriina'], ['Malake'], ['Ellis', 'Anna', 'Maria'], ['Susan'], ['Alexander', 'A', '(Grace', 'Charity', 'Laury)'], ['Leopold', '(Mathilde', 'Francoise', 'Pede)'], ['Helen', 'Monypeny'], ['Joseph', '(Sultana)'], ['Pekka', 'Pietari', '(Elin', 'Matilda', 'Dolck)'], ['Robina', 'Maggie', '\"Ruby\"'], ['Thomas', '(Edith', 'Wearne)'], ['James', '(Elizabeth', '\"Bessie\"', 'Inglis', 'Milne)'], ['(Edith', 'Martha', 'Bowerman)'], ['William', '(Anna', 'Bernhardina', 'Karlsson)'], ['Eleanor', 'Ileen'], ['Ann', 'Elizabeth'], ['Constance', 'Gladys'], ['Luise', 'Gretchen'], ['Thomas', '(Johanna', '\"Hannah\"', 'Godfrey)'], ['(Rosa)'], ['Carla', 'Christine', 'Nielsine'], ['James', 'Joseph', '(Margaret', 'Tobin)'], ['Elise'], ['Margaret', '\"Maggie\"'], ['Henriette', '(\"Mrs', 'Harbeck\")'], ['Telma', 'Matilda'], ['Helen', '\"Ellen\"'], ['Clear', 'Annie'], ['Madeleine'], ['Eliina'], ['Albina'], ['Mathilde'], ['Henry', 'Birkhardt', '(Irene', 'Wallach)'], ['Lillian', 'Gertrud'], ['Alice', 'Phoebe'], ['Marjorie', '\"Lottie\"'], ['Thamine'], ['Katherine', '\"Kate\"'], ['Agda', 'Thorilda', 'Viktoria'], ['William', '(Anna)'], ['Wilhelm', '(Elna', 'Matilda', 'Persson)'], ['Viktor', '(Helena', 'Wilhelmina)'], ['Darwis', '(Hanne', 'Youssef', 'Razi)'], ['Gertrude', 'Maybelle'], ['Gladys'], ['(Lutie', 'Davis)'], ['Delia'], ['William', 'Thompson', '(Edith', 'Junkins)'], ['Amelia'], ['(Elizabeth', 'Anne', 'Maidment)'], ['Kornelia', 'Theodosia'], ['Augusta', 'Charlotta'], ['Stanton', '(Rosa', 'Hunt)'], ['Dickinson', 'H', '(Helen', 'Walton)'], ['Aloisia'], ['Helen', 'Loraine'], ['James', '(Helene', 'DeLaudeniere', 'Chaput)'], ['Anna', 'Katherine', '\"Annie', 'Kate\"'], ['Nora', 'A'], ['Margaret'], ['Victor', 'de', 'Satode', '(Maria', 'Josefa', 'Perez', 'de', 'Soto', 'y', 'Vallejo)'], ['Laura', 'Mabel'], ['Margaret', 'Bechstein'], ['Emily', 'Borie'], ['William', '(Anna', 'Sylfven)'], ['Helmina', 'Josefina'], ['Sinai', '(Miriam', 'Sternin)'], ['Mary', 'Natalie'], ['Frederic', 'Oakley', '(Margaretta', 'Corning', 'Stone)'], ['Hilda', 'Mary'], ['Albert', 'Francis', '(Sylvia', 'Mae', 'Harbaugh)'], ['Marie', 'Grice'], ['(Ada', 'E', 'Hall)'], ['Frank', 'John', '(Emily', 'Alice', 'Brown)'], ['Jean', 'Gertrude'], ['Agnes'], ['Henry', 'William', '(Clara', 'Heinsheimer)'], ['Elizabeth', 'Margaret'], ['Alice', 'Elizabeth'], ['Amelia', '\"Mildred\"'], ['Marion', 'Elsie'], ['Thomas', 'Henry', '(Mary', 'E', 'Finck)'], ['Elsie', 'Edith'], ['Annie', 'Clemmer'], ['Helen', 'Mary', '\"Ellie\"'], ['(Catherine', 'David)'], ['Frank', 'Manley', '(Anna', 'Sophia', 'Atkinson)'], ['(Mantoura', 'Boulos)'], ['Annie'], ['Leontine', 'Pauline'], ['Stina', 'Viola'], ['Edgar', 'Joseph', '(Leila', 'Saks)'], ['Aurora', 'Adelia'], ['Rosalie'], ['Maria', '(\"Mary\")'], ['Alexander', 'Oskar', '(Mary', 'Aline', 'Towner)'], ['Marjorie'], ['Hjalmar', '(Agnes', 'Charlotta', 'Bengtsson)'], ['Elina'], ['William', 'H', '(Jessie', 'L)'], ['Mari', 'Aina'], ['Ida'], ['Daisy', 'E'], ['Thomas', '(Annie', 'Louise', 'Rowley)'], ['James', 'Vivian', '(Lulu', 'Thorne', 'Christian)'], ['Lyyli', 'Karoliina'], ['Catharina'], ['Ernst', 'Gilbert', '(Anna', 'Sigrid', 'Maria', 'Brogren)'], ['Charles', 'V', '(Ada', 'Maria', 'Winfield)'], ['Kate', 'Florence', '(\"Mrs', 'Kate', 'Louise', 'Phillips', 'Marshall\")'], ['Percival', '(Florence', 'Kate', 'White)'], ['Charles', 'Alexander', '(Alice', 'Adelaide', 'Slow)'], ['Lucile', 'Polk'], ['Doolina', 'Margaret', '\"Daisy\"'], ['Sidney', '(Emily', 'Hocking)'], ['Benjamin', '(Esther', 'Ada', 'Bloomfield)'], ['Encarnacion'], ['Madeleine', 'Violet'], ['Marie', 'Catherine'], ['Frederick', 'R', '(Marion)'], ['Ellen'], ['Helene', 'Barbara'], ['Edwy', 'Arthur', '(Ada', 'Mary', 'Worth)'], ['Amin', 'S', '(Marie', 'Marthe', 'Thuillard)'], ['Ida', 'Sofia'], ['Hildur', 'E'], ['(Hedwig)'], ['Jeannie'], ['Frederick', 'Maxfield', '(Jane', 'Anne', 'Forby)'], ['Elizabeth', 'Mussey'], ['Hudson', 'J', 'C', '(Bessie', 'Waldo', 'Daniels)'], ['Bridget', 'Mary'], ['Kristina', 'Sofia'], ['Roberta'], ['Frederick', 'Charles', '(Jane', 'Richards)'], ['Martin', '(Elizabeth', 'L'], ['(Amelia', 'Milley)'], ['William', 'A', '(Florence', '\"Mary\"', 'Agnes', 'Hughes)'], ['Anne'], ['Louis', 'Albert', '(Ida', 'Sophia', 'Fischer)'], ['Lucy'], ['Phyllis', 'May'], ['Catherine', '(Catherine', 'Rizk)'], ['Eva', 'Miriam'], ['Hedwig', 'Margaritha'], ['Harriet', 'R'], ['Ingeborg', 'Constanzia'], ['Sigrid', 'Elisabeth'], ['Edward', '(Ethel', 'Clarke)'], ['Velin'], ['(Lucille', 'Christiana', 'Sutherland)', '(\"Mrs', 'Morgan\")'], ['Emil', '(Tillie', 'Mandelbaum)'], ['Guillaume', 'Joseph', '(Emma)'], ['(Marion', 'Ogden)'], ['Nils', '(Alma', 'Cornelia', 'Berglund)'], ['Edward', 'Dale', '(Charlotte', 'Lamson)'], ['Ethel'], ['William', 'Baird', '(Alice', 'Munger)'], ['Joseph', '(Maria', 'Elias)'], ['Julie', 'Rachel'], ['John', 'Borland', '(Marian', 'Longstreth', 'Morris)'], ['Ruth'], ['Walter', 'Bertram', '(Martha', 'Eustis)'], ['Jessie', 'Wills'], ['Sidney', 'Samuel', '(Amy', 'Frances', 'Christy)'], ['Joseph', '(Juliette', 'Marie', 'Louise', 'Lafargue)'], ['Elizabeth', 'W'], ['Anders', 'Johan', '(Alfrida', 'Konstantia', 'Brogren)'], ['Margaret', 'Jane'], ['William', 'Arthur', '(Cordelia', 'K', 'Stanlick)'], ['Marion', 'Louise'], ['Gretchen', 'Fiske'], ['Mabel'], ['Juha', '(Maria', 'Emilia', 'Ojala)'], ['Emma'], ['Margit', 'Elizabeth'], ['Eugenie'], ['Amy', 'Zillah', 'Elsie'], ['Elsie'], ['Hanora', '\"Norah\"'], ['John', '(Catherine)'], ['Elmer', 'Zebley', '(Juliet', 'Cummins', 'Wright)'], ['Thomas', 'William', 'Solomon', '(Elizabeth', 'Catherine', 'Ford)'], ['Frederick', '(Augusta', 'Tyler)'], ['Katie'], ['Georgette', 'Alexandra'], ['Manca'], ['John', 'Jacob', '(Madeleine', 'Talmadge', 'Force)'], ['Saiide'], ['Florence', '\"Fannie\"'], ['Berthe', 'Antonine', '(\"Mrs', 'de', 'Villiers\")'], ['Caroline', 'Louise'], ['Edwina', 'Celia', '\"Winnie\"'], ['Annie', 'Jessie', '\"Nina\"'], ['Peter', 'Henry', '(Lillian', 'Jefferys)'], ['Margareth'], ['Pieta', 'Sofia'], ['Elisabeth', 'Walton'], ['Edward', '(Margaret', 'Ann', 'Watson)'], ['Susan', 'Parker', '\"Suzette\"'], ['Joan'], ['Samuel', '(Jane', 'Laver)'], ['of', '(Lucy', 'Noel', 'Martha', 'Dyer-Edwards)'], ['William', 'Ernest', '(Lucile', 'Polk)'], ['John', 'C', '(Anna', 'Andrews)'], ['(Mary)'], ['Elizabeth', '(Eliza', 'Needs)'], ['Virginia', 'Ethel'], ['Edward', 'Scott', '(Elisabeth', 'Walton', 'McMillan)'], ['Banoura'], ['Albert', 'Adrian', '(Vera', 'Gillespie)'], ['Stella', 'Anna'], ['Alice', '(Farnham)'], ['Mara'], ['Jean', 'Baptiste', '(Rosalie', 'Paula', 'Govaert)'], ['Harvey', '(Charlotte', 'Annie', 'Tate)'], ['Ellen', 'Natalia'], ['Norman', 'Campbell', '(Bertha', 'Griggs)'], ['Ebba', 'Iris', 'Alfrida'], ['Wendla', 'Maria'], ['Charles', 'Melville', '(Clara', 'Jennings', 'Gregg)'], ['(Beila)'], ['George', 'Nelson', '(Martha', 'Evelyn)'], ['Antoni', '(Selini', 'Alexander)'], ['Sara', 'Rebecca'], ['Augusta'], ['Samuel', 'L', '(Edwiga', 'Grabowska)'], ['Nourelain'], ['Mary', 'Conover'], ['Ernest', 'Courtenay', '(Lilian', 'Hughes)'], ['Sam', '(Leah', 'Rosen)'], ['George', 'Dennick', '(Mary', 'Hitchcock)'], ['Solomon', '(Latifa', 'Qurban)'], ['Frederick', 'Joel', '(Margaret', 'Welles', 'Barron)'], ['Dorothy', 'Edith', '\"Dolly\"'], ['(Karolina)'], ['Asuncion'], ['Richard', 'Leonard', '(Sallie', 'Monypeny)'], ['Samuel', '(Hannah', 'Wizosky)'], ['Adele', 'Kiamie', '\"Jane\"'], ['Thomas', 'Jr', '(Lily', 'Alexenia', 'Wilson)'], ['William', '(Imanita', 'Parrish', 'Hall)'], ['Gerda', 'Ulrika'], ['William', '(Margaret', 'Norton)'], ['Margaret', 'Edith'], ['Catherine', 'Helen', '\"Carrie\"']]\n",
      "\n",
      "Уникальные имена у женщин (отдельные имена):\n",
      "[]\n",
      "\n",
      "Уникальные имена у мужчин (составные имена):\n",
      "[['Owen', 'Harris'], ['Timothy', 'J'], ['Gosta', 'Leonard'], ['Anders', 'Johan'], ['Eugene'], ['Charles', 'Eugene'], ['Joseph', 'J'], ['William', 'Thompson'], ['Farred', 'Chehab'], ['Charles', 'Alexander'], ['Manuel', 'E'], ['Edward', 'H'], ['Edgar', 'Joseph'], ['Alexander', 'Oskar'], ['Ernest', 'Charles'], ['Theodor'], ['Denis'], ['Youssef'], ['Juha', 'Niilo'], ['Richard', 'Cater'], ['Engelhart', 'Cornelius'], ['Hugh'], ['Mansouer'], ['William', 'Frederick'], ['Orsen'], ['Henry', 'Birkhardt'], ['Harald'], ['Albert', 'A'], ['Gerios'], ['Ernest', 'James'], ['Vincenz'], ['Stephen', 'Curnow'], ['Ambrose', 'Jr'], ['Apostolos'], ['Sigurd', 'Hansen'], ['Rahamin', 'Haim'], ['Alden', 'Gates'], ['Achille'], ['Jan', 'Baptist'], ['Francisco', 'M'], ['William', 'Neal'], ['Selman', 'Francis'], ['Francesco'], ['Paul', 'Edvin'], ['Herbert', 'Fuller'], ['Bertram', 'Frank'], ['Daniel'], ['Charles', 'Joseph'], ['George', 'B'], ['William', 'Bertram'], ['Sinai'], ['Pastcho', '(\"Pentcho\")'], ['Richard', 'Frasar'], ['Gustaf', 'Joel'], ['Anders', 'Vilhelm'], ['Stoytcho'], ['Albert', 'Johan'], ['Tido'], ['Walter', 'Chamberlain'], ['David', 'John'], ['Edvard'], ['William', 'John', 'Robert'], ['Quigg', 'Edmond'], ['Stanley', 'George'], ['Leonard', 'Charles'], ['Nicholas'], ['Percival', 'Wayland'], ['Elias'], ['Fridtjof', 'Arne'], ['Jozef'], ['Domingos', 'Fernandeo'], ['Samuel', 'James', 'Hayden'], ['Emile'], ['Jacques', 'Heath'], ['Olaf', 'Elon'], ['Jeremiah'], ['Edgardo', 'Samuel'], ['Joseph', 'Charles'], ['August', 'Edvard', '(\"Wennerstrom\")'], ['Michel', '(\"Louis', 'M', 'Hoffman\")'], ['Thomas', 'Roussel', 'Davids'], ['Robert', 'James'], ['Alfonzo'], ['Austin', 'Blyler'], ['Ole', 'Martin'], ['Charles', 'Duane'], ['Mile'], ['Thomas', 'Henry'], ['John', 'Hatfield'], ['John', 'Viktor'], ['Jovo'], ['Eino', 'Viljami'], ['Frank', 'John', 'William', '\"Frankie\"'], ['John', 'D'], ['Wyckoff'], ['Antti', 'Wilhelm'], ['James', 'Clinch'], ['Klas', 'Albin'], ['Henry', 'Forbes'], ['Reginald'], ['Lionel'], ['Rene'], ['Clarence', 'Gustaf', 'Hugo'], ['Richard', 'F'], ['Hugh', 'Roscoe'], ['Charles', 'Hallace', '(\"Mr', 'C', 'Rolmane\")'], ['Stjepan'], ['Michel', 'M'], ['Robert'], ['Karl', 'Siegwart', 'Andreas'], ['Nestor', 'Cyriel'], ['Gurshon', '\"Gus\"'], ['Karl', 'Alfred'], ['Nassef', 'Cassem'], ['Ahmed'], ['Hans', 'Kristensen'], ['Philip'], ['Sidney', 'Samuel'], ['Walter'], ['Victor', 'Francis'], ['James', 'H'], ['Christo'], ['Frederick', 'Maxfield'], ['Karl', 'Ivar', 'Sven'], ['John', 'Hall', '(\"Henry\")'], ['Arne', 'Jonas'], ['Bengt', 'Edvin'], ['Ernst', 'Adolf'], ['Robert', 'William', 'Norman'], ['Stephen'], ['Reginald', 'Charles'], ['Matti', 'Alexanteri'], ['Sleiman'], ['William', 'Edward'], ['Richard', 'Leonard'], ['Ernest', 'Courtenay'], ['James', 'George'], ['William', 'Arthur'], ['Edvin', 'Rojj', 'Felix'], ['Ernesti', 'Arvid'], ['Ernst', 'Ulrik'], ['Francis', '\"Frank\"'], ['Eric'], ['Frank'], ['Nils', 'Johan', 'Goransson'], ['Alfons'], ['Edward', 'Arthur'], ['Richard', 'William'], ['Theodore'], ['Penko'], ['Masabumi'], ['Rene', 'Jacques'], ['Ervin', 'G'], ['Mansour'], ['Adolphe'], ['Bernard'], ['William', 'Cahoone', 'Jr'], ['Howard', 'Hugh', '\"Harry\"'], ['Hudson', 'Trevor'], ['Ignjac'], ['Ernest'], ['Yoto'], ['George', 'John', 'Jr'], ['Johan', 'Hansen'], ['Austen'], ['George', 'Edward'], ['Leo', 'Edmondus'], ['Mitto'], ['Thomas', 'Clinton'], ['Karl', 'Edwart'], ['Stephen', 'Weart'], ['Edmond', 'Roger'], ['Erik', 'Gustaf'], ['Charles', 'Frederick', 'Waddington'], ['Stanley', 'Hubert'], ['William', 'Loch', '\"William\"'], ['Jovan'], ['Nils', 'Martin'], ['Fletcher', 'Fellows'], ['Josef'], ['Wazli'], ['Leo', 'Peter'], ['Wilhelm'], ['Sebastiano'], ['Adola'], ['Mauritz', 'Nils', 'Martin'], ['George', 'Achilles'], ['Sante'], ['Harry', 'Elkins'], ['Karl', 'Gideon'], ['Vasil'], ['Sidney', 'Leonard'], ['Matthew'], ['William', 'Ernest'], ['Carl', 'Olof'], ['Johan', 'Birger'], ['Erik'], ['Peter', 'David'], ['Juha'], ['Pekka', 'Pietari'], ['Shadrach'], ['Carl/Charles', 'Peter'], ['William', 'Rowe'], ['Hans', 'Martin', 'Monsen'], ['Todor'], ['Alfred', 'Fleming'], ['Johan', 'Julian'], ['Stanio'], ['Leo'], ['Viktor', 'Richard'], ['Phillippe'], ['Berk', '(Berk', 'Trembisky)'], ['Mauritz', 'Hakan'], ['Nikolai', 'Erland'], ['William', 'Baird'], ['Mark'], ['Johan', 'Henrik', 'Johannesson'], ['Leon'], ['Johan', 'Emil'], ['Bernt'], ['Washington'], ['Frederic', 'Kimber'], ['Arthur', 'Godfrey'], ['Edwy', 'Arthur'], ['Ingvald', 'Olai', 'Olsen'], ['Benjamin', 'Laventall'], ['Samuel', 'L'], ['Francis', 'Davis'], ['Arthur', 'H'], ['Jacob', 'Christian'], ['Simon'], ['Manuel', 'Estanslas'], ['John', 'Montgomery'], ['George', 'Quincy'], ['Peter', 'Henry'], ['Lewis', 'Richard'], ['Nils', 'August'], ['Harold', 'Victor'], ['Anthony', 'Wood', '\"Archie\"'], ['Richard', 'Henry'], ['Dickinson', 'H'], ['Edward', 'Austin'], ['Francis', 'William'], ['Eden', 'Leslie', '\"Neville\"'], ['Konrad', 'Mathias', 'Reiersen'], ['Einar'], ['Harry', 'Markland'], ['Ramon'], ['Edward', 'Roland'], ['Olof'], ['Petar'], ['Victor', 'de', 'Satode'], ['George', '(\"George', 'Arthur', 'Brayton\")'], ['Henry', 'Margido'], ['Fang'], ['Eugene', 'Patrick'], ['James', 'Robert'], ['Satio'], ['William', 'Anderson'], ['Stefo'], ['Janko'], ['Sarkis'], ['Fared'], ['Johan', 'Werner'], ['Richard', 'George'], ['Nakli'], ['Joseph', 'Jr'], ['Archibald', 'Willingham'], ['Samuel', 'Beard'], ['Walter', 'Donald'], ['Arthur', 'Ernest'], ['Julian'], ['Frank', 'John'], ['John', 'Morgan', 'Jr'], ['John', 'Borland', 'Jr'], ['Percival', 'James', 'R'], ['Timothy'], ['Fahim', '(\"Philip', 'Zenni\")'], ['Thomas', 'Rowan'], ['Husein'], ['Robert', 'Douglas'], ['Alfred', 'J'], ['Ilia'], ['Carl'], ['John', 'Irwin', '(\"Irving\")'], ['Alfred', 'George', 'John'], ['Eiriik'], ['John', 'Hugo'], ['Uscher'], ['John', 'Denzil'], ['Maxmillian'], ['Eliezer'], ['Matti'], ['Jean', 'Baptiste'], ['Cosmo', 'Edmund', '(\"Mr', 'Morgan\")'], ['Petco'], ['Ernst', 'William'], ['Harry', '(\"Mr', 'E', 'Haven\")'], ['Edvard', 'Bengtsson'], ['Milan'], ['Robert', 'Williams'], ['Jose', 'Neto'], ['William', 'Alfred'], ['Ernst', 'Gilbert'], ['Antoni'], ['Edwin', 'Nelson', 'Jr'], ['Sahid'], ['Henry', 'Damsgaard'], ['David', 'John', '\"Dai\"'], ['Charles', 'Leonard'], ['Guentcho'], ['Patrick', 'D'], ['Algernon', 'Henry', 'Wilson'], ['Johan', 'Svensson'], ['Max'], ['William', 'Henry', 'Marsh'], ['Antti', 'Gustaf'], ['Harvey'], ['Percival'], ['Hans', 'Peder'], ['Choong'], ['Henry', 'Sleeper'], ['Liudevit'], ['Oberst', 'Alfons'], ['Mito'], ['Johannes', 'Halvorsen'], ['Leonard', 'Mark'], ['George', 'Floyd'], ['Arthur', 'Webster'], ['Henry', 'William'], ['Mohamed'], ['Edward', 'Pomeroy'], ['Peju'], ['Eino', 'William'], ['Lewis'], ['Reginald', 'Fenton'], ['Knud', 'Paust'], ['Jacob'], ['Thornton'], ['Henry', 'Michael'], ['Charles'], ['Ennis', 'Hastings'], ['Gustaf', 'Hjalmar'], ['Frederick', 'Charles'], ['Thomas', 'Drake', 'Martinez'], ['Hammad'], ['Thor', 'Anderson'], ['Charles', 'Edward'], ['Thomas', 'William', 'Solomon'], ['Joseph', 'Philippe', 'Lemercier'], ['Jaako', 'Arnold'], ['Branko'], ['Eberhard', 'Thelander'], ['Albert', 'Adrian'], ['Ali'], ['Khalil'], ['John', 'Borland'], ['Adolf', 'Mathias', 'Nicolai', 'Olsen'], ['Spencer', 'Victor'], ['Henrik', 'Juul'], ['Henry', 'Samuel', '(\"Mr', 'Henry', 'Marshall\")'], ['Edward', 'Pennington'], ['Halim', 'Gonios', '(\"William', 'George\")'], ['Herman'], ['Elmer', 'Zebley'], ['August', 'Viktor'], ['Peter', 'Andreas', 'Lauritz', 'Andersen'], ['Malkolm', 'Joackim'], ['Svend', 'Lauritz'], ['Henry', 'Price'], ['Norman', 'Campbell'], ['Kurt', 'Arnold', 'Gottfrid'], ['Houssein', 'G', 'N'], ['Robert', 'J'], ['Moses', 'Aaron'], ['Leslie'], ['Gustave', 'J'], ['Kanio'], ['Minko'], ['Walter', 'James'], ['Tyrell', 'William'], ['Neal'], ['Edward', 'Gifford'], ['Rossmore', 'Edward'], ['Daniel', 'Warner'], ['Meier'], ['Johannes', 'Joseph'], ['Viljo'], ['August', 'Sigfrid'], ['Percy', 'Andrew'], ['Thomas', 'Leonard'], ['Iisakki', 'Antino', 'Aijo'], ['Hanna', 'Assi'], ['Hans', 'Linus'], ['Arthur', 'Jackson'], ['Daniel', 'J'], ['Daniel', 'Danielsen'], ['Rene', 'Aime'], ['Niels', 'Peder'], ['Dibo'], ['Pehr', 'Fabian', 'Oliver', 'Malkolm'], ['Roger'], ['Thomas', 'J'], ['Milton', 'Clyde'], ['Andrew', 'G'], ['Abraham', '(David', 'Lishin)'], ['George', 'Hugh'], ['Bertram', 'Vere'], ['Andrew', '\"Andy\"'], ['William', 'Fisher'], ['Ristiu'], ['Yousseff'], ['William', 'Thornton', 'II'], ['Assad', 'Alexander'], ['Oskar', 'Arvid'], ['Karl', 'Johan'], ['Thomas', 'Jr'], ['August'], ['Richard', 'James'], ['Ernest', 'Portage'], ['John', 'Fredrik', 'Alexander'], ['Karl', 'Thorsten'], ['Nikola'], ['John', 'George'], ['Urho', 'Abraham'], ['Len'], ['Andre'], ['Thomas', 'Joseph'], ['George', 'Sibley'], ['Amin'], ['Owen', 'George'], ['Jakob'], ['Chang'], ['Pierre'], ['Ilmari', 'Rudolf'], ['Thomas', 'Charles'], ['Peter', 'L'], ['Jeso'], ['Anthony'], ['Douglas', 'Bullen'], ['Marin'], ['Sigvard', 'Harald', 'Elias'], ['Peter', 'Denis'], ['Raihed'], ['Claus', 'Peter'], ['Frederick', 'Edward'], ['John', 'William'], ['Washington', 'Augustus', 'II'], ['Philemon'], ['Harold', 'Theodor'], ['Cerin'], ['Frans', 'Olof'], ['Alfred', 'Ossian'], ['Nedelio'], ['Kristo'], ['Johann'], ['Frederick', 'James'], ['Henry', 'Jr'], ['Juozas'], ['Karl', 'Howell']]\n",
      "\n",
      "Уникальные имена у мужчин (отдельные имена):\n",
      "[]\n"
     ]
    }
   ],
   "source": [
    "# 6)\tПриведите список уникальных (неповторяющихся, только один человек имеет это имя) имен пассажиров, отдельно мужских и женских. Рассмотрите оба варианта - составное имя целиком и составное имя как отдельные имена. Выведите таблицу с этими пассажирами.\n",
    "\n",
    "import pandas as pd\n",
    "\n",
    "# Загрузите данные из файла titanic.csv или используйте свои данные\n",
    "titanic_df = pd.read_csv('titanic.csv')\n",
    "\n",
    "# Создайте столбец \"FirstNameList\" с именем пассажира\n",
    "titanic_df['FirstNameList'] = titanic_df['Name'].str.split(',').str.get(1).str.strip()\n",
    "titanic_df['FirstNameList'] = titanic_df['FirstNameList'].str.split('.').str.get(1).str.strip()\n",
    "\n",
    "# Разделите имена на отдельные части\n",
    "titanic_df['FirstNameList'] = titanic_df['FirstNameList'].str.split()\n",
    "\n",
    "# Уникальные имена у женщин (составные имена)\n",
    "unique_female_full_names = [name for name in titanic_df[titanic_df['Sex'] == 'female']['FirstNameList'] if list(titanic_df[titanic_df['Sex'] == 'female']['FirstNameList']).count(name) == 1]\n",
    "\n",
    "# Уникальные имена у женщин (отдельные имена)\n",
    "unique_female_names = [name for names in titanic_df[titanic_df['Sex'] == 'female']['FirstNameList'] for name in names if list(titanic_df[titanic_df['Sex'] == 'female']['FirstNameList']).count(name) == 1]\n",
    "\n",
    "# Уникальные имена у мужчин (составные имена)\n",
    "unique_male_full_names = [name for name in titanic_df[titanic_df['Sex'] == 'male']['FirstNameList'] if list(titanic_df[titanic_df['Sex'] == 'male']['FirstNameList']).count(name) == 1]\n",
    "\n",
    "# Уникальные имена у мужчин (отдельные имена)\n",
    "unique_male_names = [name for names in titanic_df[titanic_df['Sex'] == 'male']['FirstNameList'] for name in names if list(titanic_df[titanic_df['Sex'] == 'male']['FirstNameList']).count(name) == 1]\n",
    "\n",
    "# Выведите таблицы с этими пассажирами\n",
    "unique_female_full_names_df = titanic_df[titanic_df['FirstNameList'].apply(lambda x: any(name in unique_female_full_names for name in x))]\n",
    "unique_female_names_df = titanic_df[titanic_df['FirstNameList'].apply(lambda x: any(name in unique_female_names for name in x))]\n",
    "unique_male_full_names_df = titanic_df[titanic_df['FirstNameList'].apply(lambda x: any(name in unique_male_full_names for name in x))]\n",
    "unique_male_names_df = titanic_df[titanic_df['FirstNameList'].apply(lambda x: any(name in unique_male_names for name in x))]\n",
    "\n",
    "print(\"Уникальные имена у женщин (составные имена):\")\n",
    "print(unique_female_full_names)\n",
    "\n",
    "print(\"\\nУникальные имена у женщин (отдельные имена):\")\n",
    "print(unique_female_names)\n",
    "\n",
    "print(\"\\nУникальные имена у мужчин (составные имена):\")\n",
    "print(unique_male_full_names)\n",
    "\n",
    "print(\"\\nУникальные имена у мужчин (отдельные имена):\")\n",
    "print(unique_male_names)\n",
    "\n",
    "\n"
   ],
   "metadata": {
    "collapsed": false,
    "ExecuteTime": {
     "end_time": "2023-10-17T12:12:33.284740100Z",
     "start_time": "2023-10-17T12:12:31.215342400Z"
    }
   },
   "id": "7c31f34b6b4cbb25"
  },
  {
   "cell_type": "code",
   "execution_count": 149,
   "outputs": [
    {
     "name": "stdout",
     "output_type": "stream",
     "text": [
      "Множество всех имен у женщин (составные имена):\n",
      "{'Simonne', 'Persdotter', 'Ann', 'Parrish', 'Harriet', 'Thayer)', 'Gretchen', 'Hildur', 'Courtenay', 'Gerda', 'Wilhelm', 'Viktoria', 'Thamine', 'Emil', 'Hanora', 'Konstantia', 'Satode', 'Adolfina', 'Jessie', 'Heath', 'Hitchcock)', 'Ada', 'James', 'Frederic', 'Achem)', 'Joel', '(Sylvia', 'Adele', 'Sam', 'Francoise', 'Celia', 'Harbaugh)', 'Anna', 'Iris', 'Telma', 'E', 'Bradley', '(Charlotte', 'R', 'Jefferys)', 'Clarke)', '(Dorothy', '(Lily', 'Phyllis', 'Lizzie', 'Norman', 'Milley)', 'Johan', 'Luise', 'Monypeny', 'Razi)', 'Ruth', 'DeLaudeniere', 'of', 'Natalia', 'K', 'Hedwig', '(\"Mary\")', 'Edith', 'Martha', '(Bessie', 'Adelia', 'Watson)', 'Margit', 'Godfrey)', '(Mantoura', 'Frank', 'Slow)', 'Wright)', 'Frances', 'Ileen', 'Alexander)', 'Lafargue)', 'Viola', '(Jessie', 'Josef', '(Bertha', 'Jean', 'Amy', 'McMillan)', 'Brown)', 'Natalie', 'Walton', 'Soto', 'Eva', 'Bertha', '(Ada', '(Alfrida', '(Alma', 'Birkhardt', '(Mary)', 'Phillips', 'Gregg)', 'Bengtsson)', 'Aina', 'Aline', 'Hulda', '\"Fannie\"', '\"Mildred\"', 'Agatha', 'Bernhardina', '\"Carrie\"', 'Miriam', '(Eliza', 'Tyler)', 'Vandemoortele)', 'Richard', 'Wendla', 'Haxtun)', 'Eliina', '\"Winnie\"', 'Force)', '(Leila', 'Sleeper', '(Edwiga', 'Andrews)', 'Jane', 'Leonard', 'Inglis', 'Amin', '(Miriam', 'Conover', 'Stone)', 'Anne', 'Walter', 'Lyyli', 'Milne)', 'Fatima', 'Borland', 'Daisy', 'Walton)', 'Peel)', 'Clear', 'Ethel', 'Banoura', 'Parker', 'Maria', 'Josefa', 'Kristina', 'Antoni', '(Lillian', 'Bone)', '(Rosa', 'Adelaide', 'Gilbert', 'Boulos)', 'Joan', 'Qurban)', 'Wearne)', '(Helen', 'Corning', 'Laina', 'Margaritha', 'Dale', 'Waldo', '\"Katie\"', '(Lucy', 'Juha', '(Sallie', 'Anders', 'Catharina', 'Emma', 'Karoliina', '(Agnes', 'Harbeck\")', 'Worth)', 'Brigdet', 'Morgan\")', 'Berthe', '(Selini', 'Wallach)', 'Samuel', '(Margaret', 'Agda', 'Clemmer', '(Vera', 'Percival', '(Cordelia', 'Elsie', 'Amelie', 'Sophia', 'Ernst', 'Amelia', 'Henriette', 'Francis', '(Ethel', 'Jeannie', 'Charity', '\"Maggie\"', 'Victor', 'Albert', 'Finck)', 'Johansson)', '\"Jane\"', '\"Annie\"', '\"Nora\"', 'Torborg', '(Catherine)', 'Julia', 'Berglund)', 'Kristine', 'Thorilda', '\"Hannah\"', 'C', 'Katherine', 'Oskar', 'Stanlick)', 'Longstreth', 'Danira', 'Arthur', 'Encarnacion', 'Lucy', 'Catherine', 'Bridget', 'L', 'Mussey', 'Virginia', 'Jacques', '(Grace', '(Catherine', 'Augusta', 'Mabel', 'Marion', 'Augustus', 'Hileni', 'Rosalie', '(Emily', 'Mirium', '(Helena', 'Caroline', 'Hilda', 'Dolck)', 'Annie', '(Esther', 'Margareth', '(Myna', 'Eugenie', 'Helmina', 'Sternin)', '(Hanne', 'Lucile', '\"Bessie\"', 'Antonine', 'Sidney', 'S', '\"Ellen\"', 'Forby)', 'Welles', 'Wizosky)', 'Adrian', 'Benjamin', 'Borie', '\"Suzette\"', 'Malake', 'Matilda', 'Carla', 'Bloomfield)', 'Charlotta', 'Rebecca', 'Vallejo)', 'Hjalmar', 'Ernest', '(Elisabeth', '(Tillie', 'Munger)', 'Kingcome)', 'Atkinson)', '(Lucille', 'Elise', 'Laver)', 'Violet', 'Roberta', 'Christiana', 'Tate)', 'Bowerman)', '(Jane', '(Marie', 'Mathilde', 'Alfrida', 'Briggs', 'John', 'David)', '(Marion', 'de', 'Dickinson', 'Edward', 'Hunt)', 'Cornelia', 'Nicholas', 'Marie', 'Kornelia', 'Josefina', 'Eleanor', '(Marion)', 'Franchi)', '(Martha', 'Morris)', 'Towner)', '(Mary', 'Laury)', 'Mara', 'Albina', 'Sara', '(Mathilde', 'Georgette', 'Heinsheimer)', 'W', 'Delia', 'Marguerite', 'Norton)', 'Sinai', 'Loraine', '(Hannah', 'Campbell', 'Lamson)', 'Baptiste', 'Junkins)', 'Amanda', 'Manley', 'Stella', 'Pietari', 'Vivian', 'Marshall\")', 'Grabowska)', 'Nielsine', 'Rachel', 'Emily', 'J', 'Gertrude', '(Juliet', 'Leontine', '(Lutie', 'Tobin)', 'Jr', 'Kiamie', 'Ramell)', '(Elin', 'Elisabeth', 'Ellen', 'Monypeny)', 'Andree', 'Larsson)', 'Chaput)', 'Viktor', 'Sylfven)', 'Villiers\")', '(Ida', '\"Ruby\"', 'Fischer)', 'Saiide', 'Oscar', 'Wilkinson)', 'Hudson', 'Zillah', 'A', '(Amelia', 'Velin', '(Emelia', 'Pede)', 'Karl', '(Anna)', 'Oakley', '(Annie', 'Thompson', 'George', 'Kate\"', '(Latifa', '(Madeleine', 'Bechstein', '(Helene', 'Noel', 'Christine', 'Polk', 'Darwis', 'Sofia', 'Dennick', '(Marian', 'Vilhelmina', 'Ingeborg', 'H', 'Nourelain', 'Stanton', '\"Annie', 'Mae', '(Lucile', '(Sultana)', 'Maggie', 'Robert', 'Wills', 'Henry', 'Aloisia', 'Gillespie)', 'Perez', '\"Kate\"', 'Laura', 'Hall)', 'Fiske', 'William', 'Polk)', 'Maybelle', 'Nelson', 'Jennings', 'L)', 'Solomon', '(Rosalie', '(Johanna', 'Edwy', 'Needs)', 'Elmer', 'May', 'Marjorie', 'Theodosia', 'Mari', 'Wilhelmina)', 'Sigrid', '(\"Mrs', 'Louise', 'Eustis)', 'Thuillard)', 'Persson)', 'Pieta', 'Pauline', 'Brogren)', '(Amy', '(Selma', 'Scott', 'Leopold', 'Sutherland)', 'Kate', 'Jacob', 'Wonnacott)', 'Maxfield', 'Gustafsson)', 'Melville', '\"Mary\"', 'Alfred', '(Hedwig)', 'Edgar', 'Barbara', 'Louis', 'White)', 'Marthe', '\"Lottie\"', 'V', '(Elizabeth', 'Saks)', 'Erna', 'Zebley', 'Carl', 'Charles', 'Aurora', 'Ford)', 'Nils', 'Gladys', 'Grice', 'Constanzia', 'y', 'Wilson)', 'Helen', 'Mathilda', 'Dyer-Edwards)', 'Constance', 'Jamila', '(Margaretta', 'Ebba', '\"Norah\"', 'Asuncion', 'Guillaume', 'Govaert)', 'Thorne', '(Clara', '(Juliette', 'Cummins', 'Edwina', 'Florence', '(Lulu', '(Leah', '\"Nina\"', 'Ojala)', 'Martin', '(Maria', 'Doolina', 'Margaret', 'Ellis', 'Alexandra', 'Marija', 'Christian)', '(Josefine', 'Susan', 'Hughes)', 'Barron)', 'Richards)', 'Agnes', 'Bertram', 'Madeleine', 'Phoebe', 'Mary', 'Julius', 'Baird', 'Lillian', 'Talmadge', 'Paula', 'Alice', 'D', 'Elias)', 'Ida', 'Gertrud', '(Lilian', 'Katriina', 'Mandelbaum)', '(Alice', 'Winfield)', 'Ulrika', 'Elizabeth', '(Elna', 'Evelyn)', '\"Daisy\"', 'Julie', 'Karlsson)', 'Stina', '(Edith', 'Harvey', 'Ogden)', '(Rosa)', 'Emilia', '(Irene', '(Anna', 'Rowley)', 'Helene', 'Christy)', '\"Dolly\"', '(Imanita', 'Hocking)', 'Rizk)', '\"Nellie\"', 'Davis)', '(Emma)', 'Katie', 'Rut', 'Eugenie)', '(Farnham)', 'Robina', '(Adele', '(Beila)', '(Augusta', 'Nora', 'Alexenia', 'Berg)', 'Griggs)', 'Joseph', 'Thomas', 'Youssef', 'Alexander', 'Manca', '(Karolina)', 'Dorothy', 'Frederick', 'Peter', 'Maidment)', 'Rosen)', '\"Ellie\"', 'Daniels)', '(Florence', 'Pekka', 'Elina', 'T'}\n",
      "\n",
      "Множество всех имен у женщин (отдельные имена):\n",
      "{'Simonne', 'Persdotter', 'Ann', 'Parrish', 'Harriet', 'Thayer)', 'Gretchen', 'Hildur', 'Courtenay', 'Gerda', 'Wilhelm', 'Viktoria', 'Thamine', 'Emil', 'Hanora', 'Konstantia', 'Satode', 'Adolfina', 'Jessie', 'Heath', 'Hitchcock)', 'Ada', 'James', 'Frederic', 'Achem)', 'Joel', '(Sylvia', 'Adele', 'Sam', 'Francoise', 'Celia', 'Harbaugh)', 'Anna', 'Iris', 'Telma', 'E', 'Bradley', '(Charlotte', 'R', 'Jefferys)', 'Clarke)', '(Dorothy', '(Lily', 'Phyllis', 'Lizzie', 'Norman', 'Milley)', 'Johan', 'Luise', 'Monypeny', 'Razi)', 'Ruth', 'DeLaudeniere', 'of', 'Natalia', 'K', 'Hedwig', '(\"Mary\")', 'Edith', 'Martha', '(Bessie', 'Adelia', 'Watson)', 'Margit', 'Godfrey)', '(Mantoura', 'Frank', 'Slow)', 'Wright)', 'Frances', 'Ileen', 'Alexander)', 'Lafargue)', 'Viola', '(Jessie', 'Josef', '(Bertha', 'Jean', 'Amy', 'McMillan)', 'Brown)', 'Natalie', 'Walton', 'Soto', 'Eva', 'Bertha', '(Ada', '(Alfrida', '(Alma', 'Birkhardt', '(Mary)', 'Phillips', 'Gregg)', 'Bengtsson)', 'Aina', 'Aline', 'Hulda', '\"Fannie\"', '\"Mildred\"', 'Agatha', 'Bernhardina', '\"Carrie\"', 'Miriam', '(Eliza', 'Tyler)', 'Vandemoortele)', 'Richard', 'Wendla', 'Haxtun)', 'Eliina', '\"Winnie\"', 'Force)', '(Leila', 'Sleeper', '(Edwiga', 'Andrews)', 'Jane', 'Leonard', 'Inglis', 'Amin', '(Miriam', 'Conover', 'Stone)', 'Anne', 'Walter', 'Lyyli', 'Milne)', 'Fatima', 'Borland', 'Daisy', 'Walton)', 'Peel)', 'Clear', 'Ethel', 'Banoura', 'Parker', 'Maria', 'Josefa', 'Kristina', 'Antoni', '(Lillian', 'Bone)', '(Rosa', 'Adelaide', 'Gilbert', 'Boulos)', 'Joan', 'Qurban)', 'Wearne)', '(Helen', 'Corning', 'Laina', 'Margaritha', 'Dale', 'Waldo', '\"Katie\"', '(Lucy', 'Juha', '(Sallie', 'Anders', 'Catharina', 'Emma', 'Karoliina', '(Agnes', 'Harbeck\")', 'Worth)', 'Brigdet', 'Morgan\")', 'Berthe', '(Selini', 'Wallach)', 'Samuel', '(Margaret', 'Agda', 'Clemmer', '(Vera', 'Percival', '(Cordelia', 'Elsie', 'Amelie', 'Sophia', 'Ernst', 'Amelia', 'Henriette', 'Francis', '(Ethel', 'Jeannie', 'Charity', '\"Maggie\"', 'Victor', 'Albert', 'Finck)', 'Johansson)', '\"Jane\"', '\"Annie\"', '\"Nora\"', 'Torborg', '(Catherine)', 'Julia', 'Berglund)', 'Kristine', 'Thorilda', '\"Hannah\"', 'C', 'Katherine', 'Oskar', 'Stanlick)', 'Longstreth', 'Danira', 'Arthur', 'Encarnacion', 'Lucy', 'Catherine', 'Bridget', 'L', 'Mussey', 'Virginia', 'Jacques', '(Grace', '(Catherine', 'Augusta', 'Mabel', 'Marion', 'Augustus', 'Hileni', 'Rosalie', '(Emily', 'Mirium', '(Helena', 'Caroline', 'Hilda', 'Dolck)', 'Annie', '(Esther', 'Margareth', '(Myna', 'Eugenie', 'Helmina', 'Sternin)', '(Hanne', 'Lucile', '\"Bessie\"', 'Antonine', 'Sidney', 'S', '\"Ellen\"', 'Forby)', 'Welles', 'Wizosky)', 'Adrian', 'Benjamin', 'Borie', '\"Suzette\"', 'Malake', 'Matilda', 'Carla', 'Bloomfield)', 'Charlotta', 'Rebecca', 'Vallejo)', 'Hjalmar', 'Ernest', '(Elisabeth', '(Tillie', 'Munger)', 'Kingcome)', 'Atkinson)', '(Lucille', 'Elise', 'Laver)', 'Violet', 'Roberta', 'Christiana', 'Tate)', 'Bowerman)', '(Jane', '(Marie', 'Mathilde', 'Alfrida', 'Briggs', 'John', 'David)', '(Marion', 'de', 'Dickinson', 'Edward', 'Hunt)', 'Cornelia', 'Nicholas', 'Marie', 'Kornelia', 'Josefina', 'Eleanor', '(Marion)', 'Franchi)', '(Martha', 'Morris)', 'Towner)', '(Mary', 'Laury)', 'Mara', 'Albina', 'Sara', '(Mathilde', 'Georgette', 'Heinsheimer)', 'W', 'Delia', 'Marguerite', 'Norton)', 'Sinai', 'Loraine', '(Hannah', 'Campbell', 'Lamson)', 'Baptiste', 'Junkins)', 'Amanda', 'Manley', 'Stella', 'Pietari', 'Vivian', 'Marshall\")', 'Grabowska)', 'Nielsine', 'Rachel', 'Emily', 'J', 'Gertrude', '(Juliet', 'Leontine', '(Lutie', 'Tobin)', 'Jr', 'Kiamie', 'Ramell)', '(Elin', 'Elisabeth', 'Ellen', 'Monypeny)', 'Andree', 'Larsson)', 'Chaput)', 'Viktor', 'Sylfven)', 'Villiers\")', '(Ida', '\"Ruby\"', 'Fischer)', 'Saiide', 'Oscar', 'Wilkinson)', 'Hudson', 'Zillah', 'A', '(Amelia', 'Velin', '(Emelia', 'Pede)', 'Karl', '(Anna)', 'Oakley', '(Annie', 'Thompson', 'George', 'Kate\"', '(Latifa', '(Madeleine', 'Bechstein', '(Helene', 'Noel', 'Christine', 'Polk', 'Darwis', 'Sofia', 'Dennick', '(Marian', 'Vilhelmina', 'Ingeborg', 'H', 'Nourelain', 'Stanton', '\"Annie', 'Mae', '(Lucile', '(Sultana)', 'Maggie', 'Robert', 'Wills', 'Henry', 'Aloisia', 'Gillespie)', 'Perez', '\"Kate\"', 'Laura', 'Hall)', 'Fiske', 'William', 'Polk)', 'Maybelle', 'Nelson', 'Jennings', 'L)', 'Solomon', '(Rosalie', '(Johanna', 'Edwy', 'Needs)', 'Elmer', 'May', 'Marjorie', 'Theodosia', 'Mari', 'Wilhelmina)', 'Sigrid', '(\"Mrs', 'Louise', 'Eustis)', 'Thuillard)', 'Persson)', 'Pieta', 'Pauline', 'Brogren)', '(Amy', '(Selma', 'Scott', 'Leopold', 'Sutherland)', 'Kate', 'Jacob', 'Wonnacott)', 'Maxfield', 'Gustafsson)', 'Melville', '\"Mary\"', 'Alfred', '(Hedwig)', 'Edgar', 'Barbara', 'Louis', 'White)', 'Marthe', '\"Lottie\"', 'V', '(Elizabeth', 'Saks)', 'Erna', 'Zebley', 'Carl', 'Charles', 'Aurora', 'Ford)', 'Nils', 'Gladys', 'Grice', 'Constanzia', 'y', 'Wilson)', 'Helen', 'Mathilda', 'Dyer-Edwards)', 'Constance', 'Jamila', '(Margaretta', 'Ebba', '\"Norah\"', 'Asuncion', 'Guillaume', 'Govaert)', 'Thorne', '(Clara', '(Juliette', 'Cummins', 'Edwina', 'Florence', '(Lulu', '(Leah', '\"Nina\"', 'Ojala)', 'Martin', '(Maria', 'Doolina', 'Margaret', 'Ellis', 'Alexandra', 'Marija', 'Christian)', '(Josefine', 'Susan', 'Hughes)', 'Barron)', 'Richards)', 'Agnes', 'Bertram', 'Madeleine', 'Phoebe', 'Mary', 'Julius', 'Baird', 'Lillian', 'Talmadge', 'Paula', 'Alice', 'D', 'Elias)', 'Ida', 'Gertrud', '(Lilian', 'Katriina', 'Mandelbaum)', '(Alice', 'Winfield)', 'Ulrika', 'Elizabeth', '(Elna', 'Evelyn)', '\"Daisy\"', 'Julie', 'Karlsson)', 'Stina', '(Edith', 'Harvey', 'Ogden)', '(Rosa)', 'Emilia', '(Irene', '(Anna', 'Rowley)', 'Helene', 'Christy)', '\"Dolly\"', '(Imanita', 'Hocking)', 'Rizk)', '\"Nellie\"', 'Davis)', '(Emma)', 'Katie', 'Rut', 'Eugenie)', '(Farnham)', 'Robina', '(Adele', '(Beila)', '(Augusta', 'Nora', 'Alexenia', 'Berg)', 'Griggs)', 'Joseph', 'Thomas', 'Youssef', 'Alexander', 'Manca', '(Karolina)', 'Dorothy', 'Frederick', 'Peter', 'Maidment)', 'Rosen)', '\"Ellie\"', 'Daniels)', '(Florence', 'Pekka', 'Elina', 'T'}\n",
      "\n",
      "Множество всех имен у мужчин (составные имена):\n",
      "{'Hugo', 'Howell', 'Fridtjof', 'Manuel', 'Bullen', 'Courtenay', 'Vere', 'Hugh', 'Emil', 'Chamberlain', 'Wilhelm', 'Francesco', 'Laventall', 'Alfons', 'Einar', 'Goransson', 'Satode', 'Svensson', 'Liudevit', 'Christian', 'Heath', 'Antino', 'Marsh', 'Mohamed', 'Selman', 'Margido', 'Pehr', 'James', 'Hammad', 'Joel', 'Frederic', 'Lemercier', 'Milan', 'Denzil', 'Cerin', '\"Frankie\"', 'Yoto', 'Elias', 'E', 'Ole', 'R', 'Gerios', 'Fleming', 'Norman', 'Clarence', 'Bernard', 'Rahamin', 'Philip', 'Domingos', 'Godfrey', 'Johan', 'Lishin)', 'Harald', 'Sahid', 'Webster', 'Kimber', 'B', 'Jonas', 'Francisco', 'Jan', 'Baptist', 'Oberst', 'Anthony', 'Philippe', 'Gonios', 'Frank', 'Matthew', 'Pierre', 'Reginald', 'Lee', 'Hayden', 'Josef', 'Johann', 'Reiersen', 'Spencer', 'Eberhard', 'Jean', 'Aijo', 'Hanna', 'Fared', 'Sibley', 'Birkhardt', 'Jozef', 'Paust', 'Montgomery', 'Anderson', 'Clinton', 'Lauritz', 'Fletcher', 'Masabumi', 'Brayton\")', 'Richard', 'Trembisky)', 'Paul', 'Mansour', 'Antti', 'Leo', 'Sarkis', 'Howard', 'Jose', 'Damsgaard', 'Khalil', 'Ambrose', '(\"Philip', 'Tyrell', 'Ignjac', 'Zenni\")', 'Sleeper', 'Jeso', 'Mauritz', 'Andreas', 'Leonard', 'Mito', 'Portage', 'Davids', 'Amin', 'Matti', 'Stanley', 'Donald', 'Williams', 'Walter', 'Olsen', 'Morgan', 'Stjepan', 'Jakob', 'Borland', 'Edvin', 'Hastings', 'Herman', 'Chehab', 'Yousseff', 'Todor', 'Owen', 'Ennis', 'Halim', 'Edmondus', 'Pomeroy', 'Kurt', 'Linus', 'Ramon', 'Sebastiano', 'Harry', 'Adolphe', 'Antoni', 'N', 'Klas', 'Gilbert', 'F', 'Eugene', 'Davis', 'Trevor', 'Juha', 'Juho', 'Anders', '\"Dai\"', 'Vincenz', 'Hallace', 'Edmund', 'Morgan\")', '(\"George', 'Samuel', 'Christo', 'Percival', 'Fabian', 'Fuller', 'Gurshon', 'Estanslas', 'Sigfrid', 'Ernst', 'Warner', 'Milton', 'Roscoe', 'Francis', 'Nicolai', 'Herbert', 'Jovan', 'Drake', 'Victor', 'Albert', 'Cater', 'Ristiu', 'Edgardo', 'Sigurd', 'Fang', '(\"Wennerstrom\")', 'Fernandeo', '\"Frank\"', 'Edwart', 'C', 'Oskar', 'Shadrach', 'Malkolm', 'Rolmane\")', 'Edvard', 'Luka', 'Patrick', 'Gustaf', 'Arthur', '\"William\"', 'Peder', 'Neto', 'Maurice', 'Viljo', 'Eden', 'L', 'Weart', 'Satio', 'Ilia', 'Jacques', 'Douglas', 'Jeremiah', 'Augustus', '\"Neville\"', 'Houssein', 'Neal', 'Duane', 'Fahim', 'Fisher', 'Olai', 'Marin', 'Assi', 'Gosta', 'Oliver', 'Sidney', 'Len', 'Adrian', 'Benjamin', 'Guentcho', 'Lionel', 'Konrad', 'Hjalmar', 'Ernest', 'Phillippe', 'Rojj', 'Martinez', 'Felix', 'Stanio', 'Rudolf', 'Theodor', '(\"Mr', 'Edmond', 'Wood', 'Hakan', 'Iisakki', 'Cahoone', 'Raihed', 'Eino', 'Alexanteri', 'Alfonzo', 'Nakli', 'Thor', 'Julian', 'John', 'G', '(\"William', 'Hoffman\")', 'de', 'Clyde', 'Dickinson', 'Haim', 'Edward', 'Nestor', 'Lewis', 'Frasar', 'Hatfield', 'Chang', 'Albin', 'Nicholas', 'Choong', 'Johannesson', 'Jackson', 'Olof', 'Vilhelm', 'Adola', 'Meier', 'Apostolos', 'Roger', 'Eiriik', 'Jaako', 'Thelander', 'Sinai', 'Campbell', 'Arne', 'Baptiste', 'Joackim', 'Pietari', 'Marshall\")', 'Roland', 'Birger', 'Fenton', 'Cornelius', 'J', 'Quincy', 'Pastcho', 'August', 'Jr', 'Viktor', 'Frans', 'Beard', 'Hudson', 'Sigvard', 'II', 'A', 'Andre', 'Michael', 'Percy', 'Harris', 'Karl', 'Maxmillian', 'Thompson', 'Cosmo', 'Mansouer', 'George', 'Harold', 'Orsen', 'Arvid', 'Sven', 'Danielsen', 'Nikola', '(\"Pentcho\")', 'Algernon', 'Johannes', 'Jovo', 'H', 'Nikolai', 'Minko', 'Juul', 'Aime', 'Werner', '\"Harry\"', 'Emile', 'Nedelio', 'Willingham', 'Wazli', 'Wayland', 'Stefo', 'Lawrence', 'Farred', 'Robert', 'Blyler', 'Mile', 'Pennington', 'Henry', 'Stoytcho', 'Janko', 'Quigg', 'Washington', 'Nelson', 'William', 'Urho', 'Solomon', 'Mark', 'Edwy', '(\"Irving\")', 'Elmer', 'Achilles', 'George\")', 'Erland', 'Svend', 'Eric', 'Berk', 'Hubert', 'Loch', 'Gottfrid', 'Sleiman', 'Edwin', 'Petco', 'Peju', 'Ilmari', 'Thorsten', 'Ingvald', 'Jacob', 'Vasil', '(Berk', 'Maxfield', 'Timothy', 'Alfred', 'Austen', 'Daniel', 'Siegwart', 'Edgar', 'Andrew', 'Clinch', 'Tannous', 'Knud', 'Archibald', 'Erik', 'Bernt', 'Denis', 'Zebley', 'Irwin', 'Charles', 'Gerious', 'Carl', 'Eliezer', 'Theodore', 'Niilo', '(\"Louis', 'Nils', 'Hans', 'Mathias', 'Curnow', 'Viljami', 'Mitto', 'Rene', 'Gifford', 'Ulrik', 'Rossmore', 'M', 'Ahmed', '\"Archie\"', '(David', 'Husein', 'Gates', 'Alden', 'Engelhart', 'Elon', 'Bengtsson', '\"Gus\"', 'Petar', 'Ervin', 'Penko', 'Carl/Charles', 'Kristo', 'Forbes', 'Martin', 'Branko', 'Ivar', 'Cassem', 'Gustave', 'Stephen', '(\"Henry\")', 'Arnold', 'Abraham', 'Philemon', 'Juozas', 'Ernesti', '\"Andy\"', 'Bertram', 'Dibo', 'Cyriel', 'Floyd', 'Roussel', 'Baird', 'Leslie', 'Fellows', 'Adolf', 'Assad', 'Waddington', 'Fredrik', 'D', 'Claus', 'Michel', 'Simon', 'Kristensen', 'Gideon', 'Markland', 'Austin', 'Achille', 'Tido', 'Thornton', 'Halvorsen', 'Price', 'Harvey', 'Max', 'Sante', 'Niels', 'Kanio', 'Ivan', 'Leon', 'Hansen', 'Ossian', 'Moses', 'Hall', 'Rowan', 'Nassef', 'Andersen', 'Lalio', 'Bengt', 'Aaron', 'Elkins', 'Ali', 'Joseph', 'Thomas', 'Henrik', 'Youssef', 'Monsen', 'Alexander', 'Uscher', 'Haven\")', 'Wilson', 'Frederick', 'Peter', 'Olaf', 'Pekka', 'Wyckoff', 'David', 'Rowe'}\n",
      "\n",
      "Множество всех имен у мужчин (отдельные имена):\n",
      "{'Hugo', 'Howell', 'Fridtjof', 'Manuel', 'Bullen', 'Courtenay', 'Vere', 'Hugh', 'Emil', 'Chamberlain', 'Wilhelm', 'Francesco', 'Laventall', 'Alfons', 'Einar', 'Goransson', 'Satode', 'Svensson', 'Liudevit', 'Christian', 'Heath', 'Antino', 'Marsh', 'Mohamed', 'Selman', 'Margido', 'Pehr', 'James', 'Hammad', 'Joel', 'Frederic', 'Lemercier', 'Milan', 'Denzil', 'Cerin', '\"Frankie\"', 'Yoto', 'Elias', 'E', 'Ole', 'R', 'Gerios', 'Fleming', 'Norman', 'Clarence', 'Bernard', 'Rahamin', 'Philip', 'Domingos', 'Godfrey', 'Johan', 'Lishin)', 'Harald', 'Sahid', 'Webster', 'Kimber', 'B', 'Jonas', 'Francisco', 'Jan', 'Baptist', 'Oberst', 'Anthony', 'Philippe', 'Gonios', 'Frank', 'Matthew', 'Pierre', 'Reginald', 'Lee', 'Hayden', 'Josef', 'Johann', 'Reiersen', 'Spencer', 'Eberhard', 'Jean', 'Aijo', 'Hanna', 'Fared', 'Sibley', 'Birkhardt', 'Jozef', 'Paust', 'Montgomery', 'Anderson', 'Clinton', 'Lauritz', 'Fletcher', 'Masabumi', 'Brayton\")', 'Richard', 'Trembisky)', 'Paul', 'Mansour', 'Antti', 'Leo', 'Sarkis', 'Howard', 'Jose', 'Damsgaard', 'Khalil', 'Ambrose', '(\"Philip', 'Tyrell', 'Ignjac', 'Zenni\")', 'Sleeper', 'Jeso', 'Mauritz', 'Andreas', 'Leonard', 'Mito', 'Portage', 'Davids', 'Amin', 'Matti', 'Stanley', 'Donald', 'Williams', 'Walter', 'Olsen', 'Morgan', 'Stjepan', 'Jakob', 'Borland', 'Edvin', 'Hastings', 'Herman', 'Chehab', 'Yousseff', 'Todor', 'Owen', 'Ennis', 'Halim', 'Edmondus', 'Pomeroy', 'Kurt', 'Linus', 'Ramon', 'Sebastiano', 'Harry', 'Adolphe', 'Antoni', 'N', 'Klas', 'Gilbert', 'F', 'Eugene', 'Davis', 'Trevor', 'Juha', 'Juho', 'Anders', '\"Dai\"', 'Vincenz', 'Hallace', 'Edmund', 'Morgan\")', '(\"George', 'Samuel', 'Christo', 'Percival', 'Fabian', 'Fuller', 'Gurshon', 'Estanslas', 'Sigfrid', 'Ernst', 'Warner', 'Milton', 'Roscoe', 'Francis', 'Nicolai', 'Herbert', 'Jovan', 'Drake', 'Victor', 'Albert', 'Cater', 'Ristiu', 'Edgardo', 'Sigurd', 'Fang', '(\"Wennerstrom\")', 'Fernandeo', '\"Frank\"', 'Edwart', 'C', 'Oskar', 'Shadrach', 'Malkolm', 'Rolmane\")', 'Edvard', 'Luka', 'Patrick', 'Gustaf', 'Arthur', '\"William\"', 'Peder', 'Neto', 'Maurice', 'Viljo', 'Eden', 'L', 'Weart', 'Satio', 'Ilia', 'Jacques', 'Douglas', 'Jeremiah', 'Augustus', '\"Neville\"', 'Houssein', 'Neal', 'Duane', 'Fahim', 'Fisher', 'Olai', 'Marin', 'Assi', 'Gosta', 'Oliver', 'Sidney', 'Len', 'Adrian', 'Benjamin', 'Guentcho', 'Lionel', 'Konrad', 'Hjalmar', 'Ernest', 'Phillippe', 'Rojj', 'Martinez', 'Felix', 'Stanio', 'Rudolf', 'Theodor', '(\"Mr', 'Edmond', 'Wood', 'Hakan', 'Iisakki', 'Cahoone', 'Raihed', 'Eino', 'Alexanteri', 'Alfonzo', 'Nakli', 'Thor', 'Julian', 'John', 'G', '(\"William', 'Hoffman\")', 'de', 'Clyde', 'Dickinson', 'Haim', 'Edward', 'Nestor', 'Lewis', 'Frasar', 'Hatfield', 'Chang', 'Albin', 'Nicholas', 'Choong', 'Johannesson', 'Jackson', 'Olof', 'Vilhelm', 'Adola', 'Meier', 'Apostolos', 'Roger', 'Eiriik', 'Jaako', 'Thelander', 'Sinai', 'Campbell', 'Arne', 'Baptiste', 'Joackim', 'Pietari', 'Marshall\")', 'Roland', 'Birger', 'Fenton', 'Cornelius', 'J', 'Quincy', 'Pastcho', 'August', 'Jr', 'Viktor', 'Frans', 'Beard', 'Hudson', 'Sigvard', 'II', 'A', 'Andre', 'Michael', 'Percy', 'Harris', 'Karl', 'Maxmillian', 'Thompson', 'Cosmo', 'Mansouer', 'George', 'Harold', 'Orsen', 'Arvid', 'Sven', 'Danielsen', 'Nikola', '(\"Pentcho\")', 'Algernon', 'Johannes', 'Jovo', 'H', 'Nikolai', 'Minko', 'Juul', 'Aime', 'Werner', '\"Harry\"', 'Emile', 'Nedelio', 'Willingham', 'Wazli', 'Wayland', 'Stefo', 'Lawrence', 'Farred', 'Robert', 'Blyler', 'Mile', 'Pennington', 'Henry', 'Stoytcho', 'Janko', 'Quigg', 'Washington', 'Nelson', 'William', 'Urho', 'Solomon', 'Mark', 'Edwy', '(\"Irving\")', 'Elmer', 'Achilles', 'George\")', 'Erland', 'Svend', 'Eric', 'Berk', 'Hubert', 'Loch', 'Gottfrid', 'Sleiman', 'Edwin', 'Petco', 'Peju', 'Ilmari', 'Thorsten', 'Ingvald', 'Jacob', 'Vasil', '(Berk', 'Maxfield', 'Timothy', 'Alfred', 'Austen', 'Daniel', 'Siegwart', 'Edgar', 'Andrew', 'Clinch', 'Tannous', 'Knud', 'Archibald', 'Erik', 'Bernt', 'Denis', 'Zebley', 'Irwin', 'Charles', 'Gerious', 'Carl', 'Eliezer', 'Theodore', 'Niilo', '(\"Louis', 'Nils', 'Hans', 'Mathias', 'Curnow', 'Viljami', 'Mitto', 'Rene', 'Gifford', 'Ulrik', 'Rossmore', 'M', 'Ahmed', '\"Archie\"', '(David', 'Husein', 'Gates', 'Alden', 'Engelhart', 'Elon', 'Bengtsson', '\"Gus\"', 'Petar', 'Ervin', 'Penko', 'Carl/Charles', 'Kristo', 'Forbes', 'Martin', 'Branko', 'Ivar', 'Cassem', 'Gustave', 'Stephen', '(\"Henry\")', 'Arnold', 'Abraham', 'Philemon', 'Juozas', 'Ernesti', '\"Andy\"', 'Bertram', 'Dibo', 'Cyriel', 'Floyd', 'Roussel', 'Baird', 'Leslie', 'Fellows', 'Adolf', 'Assad', 'Waddington', 'Fredrik', 'D', 'Claus', 'Michel', 'Simon', 'Kristensen', 'Gideon', 'Markland', 'Austin', 'Achille', 'Tido', 'Thornton', 'Halvorsen', 'Price', 'Harvey', 'Max', 'Sante', 'Niels', 'Kanio', 'Ivan', 'Leon', 'Hansen', 'Ossian', 'Moses', 'Hall', 'Rowan', 'Nassef', 'Andersen', 'Lalio', 'Bengt', 'Aaron', 'Elkins', 'Ali', 'Joseph', 'Thomas', 'Henrik', 'Youssef', 'Monsen', 'Alexander', 'Uscher', 'Haven\")', 'Wilson', 'Frederick', 'Peter', 'Olaf', 'Pekka', 'Wyckoff', 'David', 'Rowe'}\n"
     ]
    }
   ],
   "source": [
    "# 7)Приведите множество всех имен пассажиров, отдельно мужских и женских. Рассмотрите оба варианта - составное имя целиком и составное имя как отдельные имена.\n",
    "\n",
    "import pandas as pd\n",
    "\n",
    "# Загрузите данные из файла titanic.csv или используйте свои данные\n",
    "titanic_df = pd.read_csv('titanic.csv')\n",
    "\n",
    "# Создайте столбец \"FirstNameList\" с именем пассажира\n",
    "titanic_df['FirstNameList'] = titanic_df['Name'].str.split(',').str.get(1).str.strip()\n",
    "titanic_df['FirstNameList'] = titanic_df['FirstNameList'].str.split('.').str.get(1).str.strip()\n",
    "\n",
    "# Разделите имена на отдельные части\n",
    "titanic_df['FirstNameList'] = titanic_df['FirstNameList'].str.split()\n",
    "\n",
    "# Множество всех имен у женщин (составные имена)\n",
    "set_female_full_names = set(name for name_list in titanic_df[titanic_df['Sex'] == 'female']['FirstNameList'] for name in name_list)\n",
    "\n",
    "# Множество всех имен у женщин (отдельные имена)\n",
    "set_female_names = set(name for names in titanic_df[titanic_df['Sex'] == 'female']['FirstNameList'] for name in names)\n",
    "\n",
    "# Множество всех имен у мужчин (составные имена)\n",
    "set_male_full_names = set(name for name_list in titanic_df[titanic_df['Sex'] == 'male']['FirstNameList'] for name in name_list)\n",
    "\n",
    "# Множество всех имен у мужчин (отдельные имена)\n",
    "set_male_names = set(name for names in titanic_df[titanic_df['Sex'] == 'male']['FirstNameList'] for name in names)\n",
    "\n",
    "print(\"Множество всех имен у женщин (составные имена):\")\n",
    "print(set_female_full_names)\n",
    "\n",
    "print(\"\\nМножество всех имен у женщин (отдельные имена):\")\n",
    "print(set_female_names)\n",
    "\n",
    "print(\"\\nМножество всех имен у мужчин (составные имена):\")\n",
    "print(set_male_full_names)\n",
    "\n",
    "print(\"\\nМножество всех имен у мужчин (отдельные имена):\")\n",
    "print(set_male_names)\n",
    "\n",
    "\n",
    "\n",
    "\n"
   ],
   "metadata": {
    "collapsed": false,
    "ExecuteTime": {
     "end_time": "2023-10-17T12:08:45.495491800Z",
     "start_time": "2023-10-17T12:08:45.452164500Z"
    }
   },
   "id": "ce2e5220234b14eb"
  },
  {
   "cell_type": "code",
   "execution_count": 91,
   "outputs": [
    {
     "name": "stdout",
     "output_type": "stream",
     "text": [
      "Имена, которые встречаются как у мужчин, так и у женщин (составное имя целиком):\n",
      "set()\n",
      "\n",
      "Имена, которые встречаются как у мужчин, так и у женщин (отдельные имена):\n",
      "set()\n",
      "\n",
      "Пассажиры с общими именами (составное имя целиком):\n",
      "Empty DataFrame\n",
      "Columns: [PassengerId, Survived, Pclass, Name, Sex, Age, SibSp, Parch, Ticket, Fare, Cabin, Embarked, FullNameList, FirstName]\n",
      "Index: []\n",
      "\n",
      "Пассажиры с общими именами (отдельные имена):\n",
      "Empty DataFrame\n",
      "Columns: [PassengerId, Survived, Pclass, Name, Sex, Age, SibSp, Parch, Ticket, Fare, Cabin, Embarked, FullNameList, FirstName]\n",
      "Index: []\n"
     ]
    }
   ],
   "source": [
    "# 8) Приведите список имен, которые одновременно встречаются у мужчин, и у женщин. Решите задачу, если рассматривать составные имена как одно имя, и если рассматривать составные имена отдельно. Выведите таблицу пассажирами, имеющими эти имена.\n",
    "import pandas as pd\n",
    "\n",
    "# Загрузите данные из файла titanic.csv или используйте свои данные\n",
    "titanic_df = pd.read_csv('titanic.csv')\n",
    "\n",
    "# Создайте столбец \"FirstNameList\" с именем пассажира\n",
    "titanic_df['FirstNameList'] = titanic_df['Name'].str.split(',').str.get(1).str.strip()\n",
    "titanic_df['FirstNameList'] = titanic_df['FirstNameList'].str.split('.').str.get(1).str.strip()\n",
    "\n",
    "# Разделите имена на отдельные части\n",
    "titanic_df['FirstNameList'] = titanic_df['FirstNameList'].str.split()\n",
    "\n",
    "# Множество всех имен у женщин\n",
    "set_female_full_names = set(name for name_list in titanic_df[titanic_df['Sex'] == 'female']['FirstNameList'] for name in name_list)\n",
    "\n",
    "# Множество всех имен у мужчин\n",
    "set_male_full_names = set(name for name_list in titanic_df[titanic_df['Sex'] == 'male']['FirstNameList'] for name in name_list)\n",
    "\n",
    "# Имена, которые встречаются как у мужчин, так и у женщин\n",
    "common_names = set_female_full_names.intersection(set_male_full_names)\n",
    "\n",
    "# Выведите таблицу пассажиров, имеющих эти имена\n",
    "passengers_with_common_names = titanic_df[titanic_df['FirstNameList'].apply(lambda x: any(name in common_names for name in x))]\n",
    "\n",
    "\n",
    "print(\"Имена, которые встречаются у мужчин и женщин:\")\n",
    "print(common_names)\n",
    "\n",
    "print(\"Пассажиры с этими именами:\")\n",
    "print(passengers_with_common_names[['Name', 'Sex']])"
   ],
   "metadata": {
    "collapsed": false,
    "ExecuteTime": {
     "end_time": "2023-10-17T11:01:28.237535200Z",
     "start_time": "2023-10-17T11:01:28.210347400Z"
    }
   },
   "id": "61a7a2c6c03e1d7a"
  },
  {
   "cell_type": "code",
   "execution_count": 91,
   "outputs": [],
   "source": [],
   "metadata": {
    "collapsed": false,
    "ExecuteTime": {
     "end_time": "2023-10-17T11:01:29.133233500Z",
     "start_time": "2023-10-17T11:01:29.052213200Z"
    }
   },
   "id": "303dcc526c8bd434"
  },
  {
   "cell_type": "code",
   "execution_count": null,
   "outputs": [],
   "source": [],
   "metadata": {
    "collapsed": false
   },
   "id": "72e90814ac834eb8"
  }
 ],
 "metadata": {
  "kernelspec": {
   "display_name": "Python 3",
   "language": "python",
   "name": "python3"
  },
  "language_info": {
   "codemirror_mode": {
    "name": "ipython",
    "version": 2
   },
   "file_extension": ".py",
   "mimetype": "text/x-python",
   "name": "python",
   "nbconvert_exporter": "python",
   "pygments_lexer": "ipython2",
   "version": "2.7.6"
  }
 },
 "nbformat": 4,
 "nbformat_minor": 5
}
