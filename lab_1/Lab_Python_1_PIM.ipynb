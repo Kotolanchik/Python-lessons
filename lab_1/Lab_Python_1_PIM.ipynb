{
 "cells": [
  {
   "cell_type": "markdown",
   "metadata": {},
   "source": [
    "                                                              Ф.И.О."
   ]
  },
  {
   "cell_type": "markdown",
   "metadata": {},
   "source": [
    "# Лабораторная работа №1"
   ]
  },
  {
   "cell_type": "markdown",
   "metadata": {},
   "source": [
    "## Знакомство с языком Python"
   ]
  },
  {
   "cell_type": "markdown",
   "metadata": {},
   "source": [
    "**I.**\tВызвать в интерактивном режиме `import this`, изучить философию разработчиков."
   ]
  },
  {
   "cell_type": "code",
   "execution_count": null,
   "metadata": {},
   "outputs": [],
   "source": [
    "import this"
   ]
  },
  {
   "cell_type": "markdown",
   "metadata": {},
   "source": [
    "**II.**\tВнимательно изучить `PEP 8` (`Python Enhancement Proposal`) – руководство по написанию кода на Python: `https://pythonworld.ru/osnovy/pep-8-rukovodstvo-po-napisaniyu-koda-na-python.html`."
   ]
  },
  {
   "cell_type": "markdown",
   "metadata": {},
   "source": [
    "**III.**\tРеализовать задачи на языке программирования Python:"
   ]
  },
  {
   "cell_type": "markdown",
   "metadata": {},
   "source": [
    "**1.**\tПользователь вводит числа А и В. Необходимо поменять значения А и В местами и вывести их на экран (минимум 5 способов). "
   ]
  },
  {
   "cell_type": "code",
   "execution_count": null,
   "metadata": {},
   "outputs": [],
   "source": [
    "print('Input A:')\n",
    "numberA = int(input())\n",
    "print('Input B:')\n",
    "numberB = int(input())\n",
    "buff = numberA\n",
    "\n",
    "numberA = numberB\n",
    "numberB = buff\n",
    "\n",
    "print(f'number A: {numberA} number B: {numberB}')"
   ]
  },
  {
   "cell_type": "code",
   "execution_count": null,
   "metadata": {},
   "outputs": [],
   "source": [
    "print('Input A:')\n",
    "numberA = int(input())\n",
    "print('Input B:')\n",
    "numberB = int(input())\n",
    "\n",
    "numberA = numberA + numberB\n",
    "numberB = numberA - numberB\n",
    "numberA = numberA - numberB\n",
    "\n",
    "print(f'number A: {numberA} number B: {numberB}')"
   ]
  },
  {
   "cell_type": "code",
   "execution_count": null,
   "metadata": {},
   "outputs": [],
   "source": [
    "print('Input A:')\n",
    "numberA = int(input())\n",
    "print('Input B:')\n",
    "numberB = int(input())\n",
    "\n",
    "numberA, numberB = numberB, numberA\n",
    "\n",
    "print(f'number A: {numberA} number B: {numberB}')"
   ]
  },
  {
   "cell_type": "code",
   "execution_count": null,
   "metadata": {},
   "outputs": [],
   "source": [
    "print('Input A:')\n",
    "numberA = int(input())\n",
    "print('Input B:')\n",
    "numberB = int(input())\n",
    "\n",
    "numberA = numberA * numberB\n",
    "numberB = numberA / numberB\n",
    "numberA = numberA / numberB\n",
    "\n",
    "print(f'number A: {round(numberA)} number B: {round(numberB)}')"
   ]
  },
  {
   "cell_type": "code",
   "execution_count": null,
   "metadata": {},
   "outputs": [],
   "source": [
    "print('Input A:')\n",
    "numberA = int(input())\n",
    "print('Input B:')\n",
    "numberB = int(input())\n",
    "\n",
    "numberA = numberA ^ numberB\n",
    "numberB = numberA ^ numberB\n",
    "numberA = numberA ^ numberB\n",
    "\n",
    "print(f'number A: {numberA} number B: {numberB}')"
   ]
  },
  {
   "cell_type": "markdown",
   "metadata": {},
   "source": [
    "**2.**\tПо координатам, введенным пользователем, определить к какой четверти координатной плоскости относится точка. Если точка лежит на оси абсцисс или ординат или является началом координат, сообщить об этом. Минимизировать количество условий."
   ]
  },
  {
   "cell_type": "code",
   "execution_count": null,
   "metadata": {},
   "outputs": [
    {
     "name": "stdout",
     "output_type": "stream",
     "text": [
      "Input X:\n"
     ]
    }
   ],
   "source": [
    "print('Input X:')\n",
    "x = int(input())\n",
    "print('Input Y:')\n",
    "y = int(input())\n",
    "\n",
    "if (x == 0 or y == 0):\n",
    "    if (y != 0):\n",
    "        print('Точка лежит на оси ординат')\n",
    "    elif (x != 0):\n",
    "        print('Точка лежит на оси абсцисс')  \n",
    "    else:\n",
    "        print('Начало координат')     \n",
    "elif (x > 0):\n",
    "    if(y > 0):\n",
    "        print('Первая четверть')\n",
    "    else:\n",
    "        print('Четвертая четверть')\n",
    "if (x < 0):\n",
    "    if (y > 0):\n",
    "        print('Вторая четверть')\n",
    "    else:\n",
    "        print('Первая четверть')"
   ]
  },
  {
   "cell_type": "markdown",
   "metadata": {},
   "source": [
    "**3.** Пользователь вводит трехзначное число. Необходимо определить сумму цифр этого трехзначного числа. Реализовать подсчет суммы минимум двумя способами."
   ]
  },
  {
   "cell_type": "code",
   "execution_count": null,
   "metadata": {},
   "outputs": [],
   "source": [
    "print('Введите трехзначное число:')\n",
    "digit = int(input())\n",
    "sum = 0\n",
    "\n",
    "if (100 <= digit <= 999):\n",
    "    while digit:\n",
    "        sum += digit % 10\n",
    "        digit = digit // 10\n",
    "    print(\"Сумма цифр равна:\",sum)    \n",
    "else:\n",
    "    print(\"Это не трехзначное число\")\n"
   ]
  },
  {
   "cell_type": "code",
   "execution_count": 1,
   "metadata": {},
   "outputs": [
    {
     "name": "stdout",
     "output_type": "stream",
     "text": [
      "Введите трехзначное число:\n",
      "333\n",
      "9\n"
     ]
    }
   ],
   "source": [
    "print('Введите трехзначное число:')\n",
    "digit = int(input())\n",
    "\n",
    "third = digit % 10\n",
    "second = (digit // 10) % 10\n",
    "first= (digit // 100) % 10\n",
    "\n",
    "print(third + second + first)"
   ]
  },
  {
   "cell_type": "markdown",
   "metadata": {},
   "source": [
    "**4.** \tНайти корни уравнения a∙x^2+b∙x+c=0. Параметры уравнения (a, b, c) вводятся пользователем."
   ]
  },
  {
   "cell_type": "code",
   "execution_count": 10,
   "metadata": {},
   "outputs": [
    {
     "name": "stdout",
     "output_type": "stream",
     "text": [
      "Введите параметр a:1\n",
      "Введите параметр b:-100\n",
      "Введите параметр c:1\n",
      "Первый корень: 99.98999899979995 Второй корень: 0.010001000200048793\n"
     ]
    }
   ],
   "source": [
    "a = int(input('Введите параметр a:'))\n",
    "b = int(input('Введите параметр b:'))\n",
    "c = int(input('Введите параметр c:'))\n",
    "\n",
    "if a == 0:\n",
    "    if b == 0:\n",
    "        if c == 0:\n",
    "            print('Бексонечно много решений')\n",
    "        else:\n",
    "            print('Уравнение не имеет решений, так как и a, и b равны нулю')\n",
    "    else:\n",
    "        print('Корень равен', -c / b)\n",
    "else:\n",
    "    D = b ** 2 - 4 * a * c \n",
    "    if (D < 0) :\n",
    "        print('Нет корней')\n",
    "    elif(D == 0):\n",
    "        print( 'Корень равен',-b / (2 * a))\n",
    "    else:\n",
    "        print('Первый корень:',(-b + D ** 0.5) / 2 * a ,'Второй корень:', (-b - D ** 0.5) / 2 * a)\n",
    "    "
   ]
  },
  {
   "cell_type": "markdown",
   "metadata": {},
   "source": [
    "**5.**\tВывести на экран по одному разу все трехзначные числа, полученные перестановкой цифр введенного пользователем трехзначного числа. Дополнительными библиотеками пользоваться нельзя.\n"
   ]
  },
  {
   "cell_type": "code",
   "execution_count": 16,
   "metadata": {},
   "outputs": [
    {
     "name": "stdout",
     "output_type": "stream",
     "text": [
      "Введите трехзначное число:908\n",
      "908\n",
      "980\n"
     ]
    }
   ],
   "source": [
    "a = input(\"Введите трехзначное число:\")\n",
    "\n",
    "if a.isdigit() and 100 <= int(a) <= 999:\n",
    "    a = int(a)\n",
    "\n",
    "    k = a % 10 # 3 \n",
    "    c = (a // 10) % 10 # 2\n",
    "    e = (a // 100) % 10 # 1\n",
    "    \n",
    "    # 232 - 3(c)2(k)2(k) 223(c)\n",
    "    # 223 - 3(k)2(c)2(c) 232 ckc\n",
    "    # 322 - 2k3e2k 2k2k3e\n",
    "    if c == 0 and k == 0:\n",
    "        print(e * 100 + c * 10 + k)\n",
    "    elif (c == 0 or k == 0):\n",
    "        print(e * 100 + c * 10 + k)\n",
    "        print(e * 100 + k * 10 + c)\n",
    "    elif k == c == e:\n",
    "        print(e * 100 + c * 10 + k)\n",
    "        \n",
    "    elif e == k:\n",
    "        print(c * 100 + k * 10 + k)\n",
    "        print(k * 100 + k * 10 + c)    \n",
    "    elif k == c:\n",
    "        print(k * 100 + e * 10 + k)\n",
    "        print(k * 100 + k * 10 + e)\n",
    "    \n",
    "    elif e == c:\n",
    "        print(k * 100 + c * 10 + c)\n",
    "        print(c * 100 + k * 10 + c)\n",
    "        \n",
    "    else:\n",
    "        print(k * 100 + c * 10 + e)\n",
    "        print(k * 100 + e * 10 + c)\n",
    "        print(e * 100 + c * 10 + k)\n",
    "        print(e * 100 + k * 10 + c)\n",
    "        print(c * 100 + k * 10 + e)\n",
    "        print(c * 100 + e * 10 + k)\n",
    "else:\n",
    "    print(\"Пожалуйста, введите корректное трехзначное число.\")\n"
   ]
  },
  {
   "cell_type": "markdown",
   "metadata": {},
   "source": [
    "**6.**\tНайдите все пары дружественных чисел, не превышающих А. Два числа называют дружественными, если каждое из них равно сумме всех делителей другого (само число в качестве делителя не рассматривается). Числа в каждой паре должны идти по возрастанию."
   ]
  },
  {
   "cell_type": "code",
   "execution_count": 6,
   "metadata": {},
   "outputs": [
    {
     "name": "stdout",
     "output_type": "stream",
     "text": [
      "Введите число A: 250\n",
      "Дружественные пары чисел, не большие числ:\n"
     ]
    }
   ],
   "source": [
    "def sum_of_divisors(n):\n",
    "    divisors_sum = 0\n",
    "    \n",
    "    for i in range(1, n):\n",
    "        if n % i == 0:\n",
    "            divisors_sum += i\n",
    "    \n",
    "    return divisors_sum\n",
    "\n",
    "def find_friendly_pairs(A):\n",
    "    for num1 in range(2, A + 1):\n",
    "        num2 = sum_of_divisors(num1)\n",
    "        if sum_of_divisors(num2) == num1 and num1 < num2 and A > num1 and A > num2:\n",
    "            print(num1, num2)\n",
    "\n",
    "A = int(input(\"Введите число A: \"))\n",
    "print(\"Дружественные пары чисел, не большие числ:\")\n",
    "find_friendly_pairs(A)\n"
   ]
  },
  {
   "cell_type": "code",
   "execution_count": null,
   "metadata": {},
   "outputs": [],
   "source": []
  }
 ],
 "metadata": {
  "kernelspec": {
   "display_name": "Python 3",
   "language": "python",
   "name": "python3"
  },
  "language_info": {
   "codemirror_mode": {
    "name": "ipython",
    "version": 3
   },
   "file_extension": ".py",
   "mimetype": "text/x-python",
   "name": "python",
   "nbconvert_exporter": "python",
   "pygments_lexer": "ipython3",
   "version": "3.6.7"
  }
 },
 "nbformat": 4,
 "nbformat_minor": 4
}
