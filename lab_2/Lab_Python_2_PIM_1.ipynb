{
 "cells": [
  {
   "cell_type": "markdown",
   "metadata": {},
   "source": [
    "                                                              Ф.И.О."
   ]
  },
  {
   "cell_type": "markdown",
   "metadata": {},
   "source": [
    "#                                    Лабораторная работа №2"
   ]
  },
  {
   "cell_type": "markdown",
   "metadata": {},
   "source": [
    "## Строки в Python"
   ]
  },
  {
   "cell_type": "markdown",
   "metadata": {},
   "source": [
    "Каждая задача должна быть реализована в 2 вариантах – с использованием и без использования регулярных выражений."
   ]
  },
  {
   "cell_type": "markdown",
   "metadata": {},
   "source": [
    "**1.** В исходной строке после каждой заданной пользователем\n",
    "буквы вставьте заданную подстроку."
   ]
  },
  {
   "cell_type": "code",
   "execution_count": 14,
   "metadata": {
    "ExecuteTime": {
     "end_time": "2023-09-15T09:43:51.260830700Z",
     "start_time": "2023-09-15T09:43:51.250324500Z"
    }
   },
   "outputs": [
    {
     "name": "stdout",
     "output_type": "stream",
     "text": [
      "Привет, друг, кФакФ дела? У меня норм.\n"
     ]
    }
   ],
   "source": [
    "def insert_sub(original_str, sub, letter):\n",
    "    res = ''\n",
    "    for char in original_str:\n",
    "        if char.isspace() or not char.isalnum():\n",
    "            res += char\n",
    "        elif char == letter:\n",
    "            res += char + sub\n",
    "        else:\n",
    "            res += char\n",
    "    return res\n",
    "\n",
    "\n",
    "original_str = 'Привет, друг, как дела? У меня норм.'\n",
    "sub = 'Ф'\n",
    "letter = 'к'\n",
    "print(insert_sub(original_str, sub, letter))"
   ]
  },
  {
   "cell_type": "code",
   "execution_count": 13,
   "metadata": {
    "ExecuteTime": {
     "end_time": "2023-09-15T10:01:44.231727800Z",
     "start_time": "2023-09-15T10:01:44.214223900Z"
    }
   },
   "outputs": [
    {
     "name": "stdout",
     "output_type": "stream",
     "text": [
      "Привет, друг, кФакФ дела? У меня норм.\n"
     ]
    }
   ],
   "source": [
    "import re as regex\n",
    "\n",
    "\n",
    "def insert_sub(original_str, sub, letter):\n",
    "    return regex.sub(f'({letter})', r'\\1' + sub, original_str)\n",
    "\n",
    "\n",
    "original_str = 'Привет, друг, как дела? У меня норм.'\n",
    "sub = 'Ф'\n",
    "letter = 'к'\n",
    "\n",
    "print(insert_sub(original_str, sub, letter))"
   ]
  },
  {
   "cell_type": "markdown",
   "metadata": {},
   "source": [
    "**2.** Подсчитайте сумму чисел, встречающихся в строке. Символ ‘–’ перед числом считается знаком отрицательного числа. Все остальные символы (кроме цифр и минуса) считаются разделителями между числами."
   ]
  },
  {
   "cell_type": "code",
   "execution_count": 5,
   "metadata": {
    "ExecuteTime": {
     "end_time": "2023-09-15T10:33:44.737364900Z",
     "start_time": "2023-09-15T10:33:44.725233600Z"
    }
   },
   "outputs": [
    {
     "name": "stdout",
     "output_type": "stream",
     "text": [
      "Сумма чисел в строке равна 0.0\n"
     ]
    }
   ],
   "source": [
    "def calculate_numbers_in_str(original_string):\n",
    "    sum_numbers = 0\n",
    "    current_numb = \"\"\n",
    "    for char in original_string:\n",
    "        if char.isdigit() or (char == '-' and not current_numb):\n",
    "            current_numb += char\n",
    "        elif current_numb:\n",
    "            sum_numbers += float(current_numb)\n",
    "            current_numb = \"\"\n",
    "\n",
    "    if current_numb:\n",
    "        sum_numbers += float(current_numb)\n",
    "\n",
    "    return sum_numbers\n",
    "\n",
    "\n",
    "print(\"Сумма чисел в строке равна\", calculate_numbers_in_str(\"-56 56\"))"
   ]
  },
  {
   "cell_type": "code",
   "execution_count": 6,
   "metadata": {
    "ExecuteTime": {
     "end_time": "2023-09-15T10:33:47.247598200Z",
     "start_time": "2023-09-15T10:33:47.215322900Z"
    }
   },
   "outputs": [
    {
     "name": "stdout",
     "output_type": "stream",
     "text": [
      "Сумма чисел в строке равна 0.0\n"
     ]
    }
   ],
   "source": [
    "import re as regex\n",
    "\n",
    "\n",
    "def calculate_numbers_in_str(original_string):\n",
    "    numbers = regex.findall(r'-?\\d+', original_string)\n",
    "\n",
    "    sum_numbers = 0\n",
    "    for digit in numbers:\n",
    "        sum_numbers += float(digit)\n",
    "\n",
    "    return sum_numbers\n",
    "\n",
    "\n",
    "print(\"Сумма чисел в строке равна\", calculate_numbers_in_str(\"-14 14\"))"
   ]
  },
  {
   "cell_type": "markdown",
   "metadata": {},
   "source": [
    "**3.** Сформируйте новую строку, отличающуюся от исходной тем, что группы идущих подряд одинаковых символов разделены символом \\*. Пример ееннне -> ее\\*ннн\\*е, ппрол-> пп\\*р\\*о\\*л."
   ]
  },
  {
   "cell_type": "code",
   "execution_count": 7,
   "metadata": {
    "ExecuteTime": {
     "end_time": "2023-09-15T10:42:57.697814900Z",
     "start_time": "2023-09-15T10:42:57.681796700Z"
    }
   },
   "outputs": [
    {
     "name": "stdout",
     "output_type": "stream",
     "text": [
      "ее*ннн*е пп*р*о*л\n"
     ]
    }
   ],
   "source": [
    "def separate_group(original_str):\n",
    "    res = original_str[0]\n",
    "    for i in range(1, len(original_str)):\n",
    "        if original_str[i] != original_str[i - 1]:\n",
    "            res += \"*\"\n",
    "        res += original_str[i]\n",
    "    return res\n",
    "\n",
    "\n",
    "print(separate_group(\"ееннне\"), separate_group(\"ппрол\"))"
   ]
  },
  {
   "cell_type": "code",
   "execution_count": 3,
   "metadata": {
    "ExecuteTime": {
     "end_time": "2023-09-15T10:59:38.700841800Z",
     "start_time": "2023-09-15T10:59:38.675808700Z"
    }
   },
   "outputs": [
    {
     "name": "stdout",
     "output_type": "stream",
     "text": [
      "ее*нннн*е* пп*р*о*л*\n"
     ]
    }
   ],
   "source": [
    "import re\n",
    "\n",
    "\n",
    "def separate_group(original_string):\n",
    "    return re.sub(r'(\\w)(\\1*)', r'\\1\\2*', original_string)\n",
    "\n",
    "\n",
    "print(separate_group(\"еенннне\"), separate_group(\"ппрол\"))"
   ]
  },
  {
   "cell_type": "markdown",
   "metadata": {},
   "source": [
    "**4.** Удалите из строки последовательности символов, расположенные между круглыми скобками вместе со скобками (считается, что скобки в строке расставлены без ошибок)."
   ]
  },
  {
   "cell_type": "code",
   "execution_count": 9,
   "metadata": {
    "ExecuteTime": {
     "end_time": "2023-09-15T11:22:29.614151700Z",
     "start_time": "2023-09-15T11:22:29.598520400Z"
    }
   },
   "outputs": [
    {
     "name": "stdout",
     "output_type": "stream",
     "text": [
      "888\n"
     ]
    }
   ],
   "source": [
    "def remove_text_in_staples(original_string):\n",
    "    result = \"\"\n",
    "    stack = []\n",
    "\n",
    "    for char in original_string:\n",
    "        if char == \"(\":\n",
    "            stack.append(char)\n",
    "        elif char == \")\":\n",
    "            if stack:\n",
    "                stack.pop()\n",
    "            else:\n",
    "                result += char\n",
    "        elif not stack:\n",
    "            result += char\n",
    "    return result\n",
    "\n",
    "\n",
    "print(remove_text_in_staples(\"8(h()i(())i)8(((h)))8\"))"
   ]
  },
  {
   "cell_type": "code",
   "execution_count": 49,
   "metadata": {
    "ExecuteTime": {
     "end_time": "2023-09-15T11:10:13.229736300Z",
     "start_time": "2023-09-15T11:10:13.214225700Z"
    }
   },
   "outputs": [
    {
     "name": "stdout",
     "output_type": "stream",
     "text": [
      "8(h()i(())i)8(((h)))8\n",
      "8(hi()i)8(())8\n",
      "8(hii)8()8\n",
      "888\n"
     ]
    }
   ],
   "source": [
    "import re\n",
    "\n",
    "\n",
    "\n",
    "def remove_text_in_staples(s):\n",
    "    deep_pattern = r'\\([^()]*\\)'\n",
    "    pattern = r'\\([^)]*\\)'\n",
    "    \n",
    "    while len(re.findall(deep_pattern, s)) > 0:\n",
    "        print(s)\n",
    "        s = re.sub(deep_pattern, \"\", s)\n",
    "    return s\n",
    "\n",
    "print(remove_text_in_staples(\"8(h()i(())i)8(((h)))8\"))\n",
    "\n",
    "\n",
    "\n",
    "\n",
    "    #pattern = r'\\([^()]*\\)'\n",
    "    #pattern2 = r'\\([^)]*\\)'\n",
    "    #for mini_str in len(re.findall(pattern, original_string)):\n",
    "      #  print(mini_str)\n",
    "     #   print(re.sub(pattern1, mini_str, \"\"))\n",
    "    #print(re.sub(pattern2, mini_str, \"\"))\n",
    "    #return re.sub(r'\\([^\\(\\)]+\\)', '', s)\n",
    "    \n",
    "   # return re.findall(pattern, original_string)\n",
    "   # return re.sub(r'\\([^()]*\\)', '', original_string)\n",
    "\n",
    "    \n",
    "    \n",
    "\n",
    "#print(remove_text_in_staples(\"8(h()i(())i)8(((h)))8\"))"
   ]
  },
  {
   "cell_type": "code",
   "execution_count": null,
   "metadata": {},
   "outputs": [],
   "source": [
    "\\([^\\(\\)]+\\)"
   ]
  },
  {
   "cell_type": "markdown",
   "metadata": {},
   "source": [
    "**5.** Преобразовать сегодняшнюю дату в системном представлении (2018-09-17) в привычный для нас формат день/месяц/год (17/09/2018). Известно, что на год выделено всегда 4 цифры, а на день и месяц – всегда 2 цифры.\n",
    "\n",
    "Примечание:\n",
    "за работу с датами и временем в Python отвечает модуль datetime, а непосредственно для работы с датами используется объект date и его методы."
   ]
  },
  {
   "cell_type": "code",
   "execution_count": 56,
   "metadata": {
    "ExecuteTime": {
     "end_time": "2023-09-15T11:31:16.964022800Z",
     "start_time": "2023-09-15T11:31:16.946447400Z"
    }
   },
   "outputs": [
    {
     "name": "stdout",
     "output_type": "stream",
     "text": [
      "Сегодня 15/09/2023\n"
     ]
    }
   ],
   "source": [
    "from datetime import date\n",
    "\n",
    "split_array = str(date.today()).split('-')\n",
    "print(\"Сегодня\", split_array[2] + \"/\" + split_array[1] + \"/\" + split_array[0])"
   ]
  },
  {
   "cell_type": "code",
   "execution_count": 57,
   "metadata": {
    "ExecuteTime": {
     "end_time": "2023-09-15T11:31:18.225408700Z",
     "start_time": "2023-09-15T11:31:18.220011100Z"
    }
   },
   "outputs": [
    {
     "name": "stdout",
     "output_type": "stream",
     "text": [
      "Сегодня 15/09/2023\n"
     ]
    }
   ],
   "source": [
    "from datetime import date\n",
    "\n",
    "print(\"Сегодня\", date.today().strftime(\"%d/%m/%Y\"))"
   ]
  },
  {
   "cell_type": "code",
   "execution_count": 60,
   "metadata": {
    "ExecuteTime": {
     "end_time": "2023-09-15T11:43:32.348778200Z",
     "start_time": "2023-09-15T11:43:32.345272700Z"
    }
   },
   "outputs": [
    {
     "name": "stdout",
     "output_type": "stream",
     "text": [
      "Сегодня 15/09/2023\n"
     ]
    }
   ],
   "source": [
    "import re\n",
    "from datetime import date\n",
    "\n",
    "\n",
    "def format_date(date_str):\n",
    "    match = re.match(r'(\\d{4})-(\\d{2})-(\\d{2})', date_str)\n",
    "    return f\"{match.group(3)}/{match.group(2)}/{match.group(1)}\"\n",
    "\n",
    "\n",
    "print(\"Сегодня\", format_date(str(date.today())))"
   ]
  },
  {
   "cell_type": "markdown",
   "metadata": {},
   "source": [
    "**6.** Выведите слова сообщения, являющиеся палиндромами, по убыванию их длин. Для повторяющихся слов в скобках указывать количество повторов."
   ]
  },
  {
   "cell_type": "code",
   "execution_count": 78,
   "metadata": {
    "ExecuteTime": {
     "end_time": "2023-09-15T12:03:18.585054500Z",
     "start_time": "2023-09-15T12:03:18.558056200Z"
    }
   },
   "outputs": [
    {
     "name": "stdout",
     "output_type": "stream",
     "text": [
      "racecar\n",
      "level 2\n",
      "radar\n",
      "civic\n",
      "madam\n",
      "kayak\n",
      "stats\n",
      "rotor 2\n"
     ]
    }
   ],
   "source": [
    "def is_palindrome(word):\n",
    "    return word == word[::-1]\n",
    "\n",
    "\n",
    "def find_palindromes_in_message(message):\n",
    "    words_in_message = message.split()\n",
    "    word_counts = {}\n",
    "    palindromes = []\n",
    "\n",
    "    for word in words_in_message:\n",
    "        if is_palindrome(word):\n",
    "            if word in word_counts:\n",
    "                word_counts[word] += 1\n",
    "            else: \n",
    "                palindromes.append(word)\n",
    "                word_counts[word] = 1\n",
    "        elif word in word_counts:\n",
    "            word_counts[word] += 1\n",
    "        else:\n",
    "            word_counts[word] = 1\n",
    "\n",
    "    palindromes.sort(key=len, reverse=True)\n",
    "\n",
    "    for word in palindromes:\n",
    "        if word_counts.get(word, 0) > 1:\n",
    "            print(word, word_counts[word])\n",
    "        else:\n",
    "            print(word)\n",
    "\n",
    "\n",
    "find_palindromes_in_message(\"racecar level radar mister hello level civic madam kayak stats rotor rotor mister\")"
   ]
  },
  {
   "cell_type": "markdown",
   "metadata": {},
   "source": [
    "**7.** Исправьте строку в соответствии с правилом расстановки знаков препинания (точка, запятая, тире, точка с запятой, двоеточие, вопросительный и восклицательный знаки, многоточие, круглые, квадратные и фигурные скобки):\n",
    "перед каждым знаком препинания (кроме тире и открывающихся скобок) пробел отсутствует, а после любого знака препинания (кроме\n",
    "открывающихся скобок) стоит ровно один пробел; в многоточии между точками пробелы отсутствуют."
   ]
  },
  {
   "cell_type": "code",
   "execution_count": null,
   "metadata": {
    "is_executing": true
   },
   "outputs": [],
   "source": []
  }
 ],
 "metadata": {
  "kernelspec": {
   "display_name": "Python 3",
   "language": "python",
   "name": "python3"
  },
  "language_info": {
   "codemirror_mode": {
    "name": "ipython",
    "version": 3
   },
   "file_extension": ".py",
   "mimetype": "text/x-python",
   "name": "python",
   "nbconvert_exporter": "python",
   "pygments_lexer": "ipython3",
   "version": "3.6.7"
  }
 },
 "nbformat": 4,
 "nbformat_minor": 4
}
