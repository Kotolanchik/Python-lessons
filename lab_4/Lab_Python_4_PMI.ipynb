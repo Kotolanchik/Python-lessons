{
 "cells": [
  {
   "cell_type": "markdown",
   "metadata": {},
   "source": [
    "                                                    Ф.И.О."
   ]
  },
  {
   "cell_type": "markdown",
   "metadata": {},
   "source": [
    "# Лабораторная работа № 4"
   ]
  },
  {
   "cell_type": "markdown",
   "metadata": {},
   "source": [
    "### Словари, файлы в Python"
   ]
  },
  {
   "cell_type": "markdown",
   "metadata": {},
   "source": [
    "**1.**\tВ файле input.txt хранится англо-русский словарь. Создать русско-английский словарь и сохранить его в отсортированном виде в файле output.txt.   \n",
    "  \n",
    "**input.txt**\n",
    "\n",
    "*apple – лесть, яблоко  \n",
    "soap – лесть, мыло  \n",
    "foam – мыло, пена*\n",
    "  \n",
    "**output.txt** \n",
    "\n",
    "*лесть – apple, soap  \n",
    "мыло – foam, soap  \n",
    "пена – foam  \n",
    "яблоко – apple*  \n"
   ]
  },
  {
   "cell_type": "code",
   "execution_count": 6,
   "metadata": {},
   "outputs": [],
   "source": [
    "dictionary = {}\n",
    "try:\n",
    "    with open(\"input.txt\", 'r', encoding=\"utf=8\") as inp_f:\n",
    "        for line in inp_f:\n",
    "            words = line.strip().split(\" - \")\n",
    "            if len(words) == 2:\n",
    "                en_word, ru_words = words\n",
    "                ru_words = ru_words.split(\", \")\n",
    "\n",
    "                for ru_word in ru_words:\n",
    "                    if ru_word in dictionary:\n",
    "                        dictionary[ru_word].append(en_word)\n",
    "                    else:\n",
    "                        dictionary[ru_word] = [en_word]\n",
    "    dictionary = sorted(dictionary.items())\n",
    "    with open(\"output.txt\", \"w\", encoding=\"utf=8\") as out_f:\n",
    "        for ru_word, eng_words in dictionary:\n",
    "            out_f.write(f\"{ru_word} - {', '.join(eng_words)}\\n\")\n",
    "except FileNotFoundError:\n",
    "    print(\"Файл 'input.txt' не найден\")\n",
    "except Exception as e:\n",
    "    print(f\"Ошибка {str(e)}\")"
   ]
  },
  {
   "cell_type": "markdown",
   "metadata": {},
   "source": [
    "**2.**\tИгра «Знаешь ли ты своих друзей?». Имеется каталог с файлами, содержащими анкетные данные друзей. Все файлы имеют одинаковый формат. \n",
    "\n",
    "#### Имя\n",
    "*Иван*\n",
    "#### Фамилия\n",
    "*Иванов*  \n",
    "#### Возраст  \n",
    "*24* \n",
    "#### Любимая еда  \n",
    "*Пицца*  \n",
    "#### Музыкальная группа  \n",
    "*Nirvana*  \n",
    "#### Заветная мечта  \n",
    "*Прыгнуть с парашютом*\n",
    "\n",
    "\n",
    "Сохранить все данные в словарь (ключи – имена и фамилии пользователей, значения – все остальное).   \n",
    "Затем программа случайным образом загадывает любую категорию (кроме имени и фамилии), выводит ее значение и предлагает угадать, что это был за друг. Если игрок не угадывает – предлагается другая категория. Если игрок не угадал по всем категориям, программа выдает правильный ответ.\n"
   ]
  },
  {
   "cell_type": "code",
   "execution_count": null,
   "metadata": {
    "ExecuteTime": {
     "end_time": "2023-09-29T12:45:13.211910300Z",
     "start_time": "2023-09-29T12:44:56.259594500Z"
    }
   },
   "outputs": [
    {
     "name": "stdout",
     "output_type": "stream",
     "text": [
      "Попробуй угадать, что любит твой друг\n",
      "Что Гриша Петухов любит в категории 'Возраст'? 24\n",
      "Правильно!\n"
     ]
    }
   ],
   "source": [
    "import random\n",
    "import os\n",
    "\n",
    "def read(file_name):\n",
    "    data = {}\n",
    "    with open(file_name, 'r', encoding=\"utf=8\") as friend_f:\n",
    "        lines = friend_f.read().splitlines()\n",
    "        i = 0\n",
    "        while i < len(lines):\n",
    "            key_n = lines[i]\n",
    "            i += 1\n",
    "            val = lines[i]\n",
    "            data[key_n] = val\n",
    "            i += 1\n",
    "    return data\n",
    "\n",
    "\n",
    "# Основная функция для игры\n",
    "def play_game():\n",
    "    files = [file for file in os.listdir() if file.endswith('game.txt')]\n",
    "    if not files:\n",
    "        print(\"Не найдены файлы с анкетными данными друзей.\")\n",
    "        return\n",
    "\n",
    "    friend_file = random.choice(files)\n",
    "    friend_data = read(friend_file)\n",
    "\n",
    "    print(f\"Попробуй угадать, что любит твой друг\")\n",
    "\n",
    "    correct_answers = 0\n",
    "    categories = [key for key in friend_data.keys() if key != 'Имя' and key != 'Фамилия']\n",
    "\n",
    "    while categories:\n",
    "        random_category = random.choice(categories)\n",
    "        answer = friend_data[random_category]\n",
    "        categories.remove(random_category)\n",
    "\n",
    "        player_question = input(f\"Что {friend_data['Имя']} {friend_data['Фамилия']} любит в категории '{random_category}'? \")\n",
    "        if player_question.lower() == answer.lower():\n",
    "            print(\"Правильно!\")\n",
    "            correct_answers += 1\n",
    "        else:\n",
    "            print(\"Неверно. Попробуй еще раз.\")\n",
    "    \n",
    "    if correct_answers == 0:\n",
    "        print(\"Поздравляю вы ответили на все неверно\")\n",
    "    elif correct_answers == 4:\n",
    "        print(f\"Поздравляю, вы ответили на все вопросы о {friend_data['Имя']} {friend_data['Фамилия']}!\")\n",
    "    else: \n",
    "        print(f\"Поздравляю, вы что-то знаете про {friend_data['Имя']} {friend_data['Фамилия']}!\")\n",
    "\n",
    "if __name__ == \"__main__\":\n",
    "    play_game()"
   ]
  },
  {
   "cell_type": "markdown",
   "metadata": {},
   "source": [
    "**3.**\tСоздайте словарь, где ключами являются числа, а значениями – строки. Примените к нему метод items(), полученный объект dict_items передайте в написанную вами функцию, которая создает и возвращает новый словарь, обратный исходному, т.е. ключами являются строки, а значениями – числа или списки чисел."
   ]
  },
  {
   "cell_type": "code",
   "execution_count": 2,
   "metadata": {
    "ExecuteTime": {
     "end_time": "2023-10-03T11:56:26.980794800Z",
     "start_time": "2023-10-03T11:56:26.971762400Z"
    }
   },
   "outputs": [
    {
     "name": "stdout",
     "output_type": "stream",
     "text": [
      "1: EEE\n",
      "2: BBB\n",
      "3: three\n",
      "4: four\n",
      "5: four\n",
      "EEE: 1\n",
      "BBB: 2\n",
      "three: 3\n",
      "four: [4, 5]\n"
     ]
    }
   ],
   "source": [
    "primal_dict = {\n",
    "    1: \"EEE\",\n",
    "    2: \"BBB\",\n",
    "    3: \"three\",\n",
    "    4: \"four\",\n",
    "    5: \"four\"\n",
    "}\n",
    "reverse_dict = {}\n",
    "\n",
    "try:\n",
    "    for key, value in primal_dict.items():\n",
    "        reverse_dict.setdefault(value, [])\n",
    "        reverse_dict[value].append(key)\n",
    "        \n",
    "      #  if value not in reverse_dict:\n",
    "      #      reverse_dict[value] = key\n",
    "      #  else:\n",
    "      #      reverse_dict.setdefault(value, [])\n",
    "#reverse_dict[value].append(key)\n",
    "except Exception as exception:\n",
    "    print(f\"Произошла ошибка {str(exception)}\")\n",
    "\n",
    "last_dict = {}\n",
    "for key, value in reverse_dict.items():\n",
    "    if len(value) == 1:\n",
    "        last_dict[key] = reverse_dict[key][0]\n",
    "    else:\n",
    "        last_dict[key] = reverse_dict[key]\n",
    "\n",
    "for key, value in primal_dict.items():\n",
    "    print(f\"{key}: {value}\")\n",
    "\n",
    "#for key, value in reverse_dict.items():\n",
    "#    print(f\"{key}: {value}\")\n",
    "    \n",
    "for key, value in last_dict.items():\n",
    "    print(f\"{key}: {value}\")"
   ]
  },
  {
   "cell_type": "code",
   "execution_count": null,
   "metadata": {},
   "outputs": [],
   "source": []
  },
  {
   "cell_type": "markdown",
   "metadata": {},
   "source": [
    "**4.**\tИмеется каталог X, содержащий файлы и другие каталоги. Создать копию структуры каталогов, где каждый файл *.txt обрабатывается следующим образом: первой строкой вставляется число строк в исходном файле, а последней строкой – уровень вложенности в каталог X. Остальные файлы пропускаются. Сам каталог X и его содержимое изменяться не должны."
   ]
  },
  {
   "cell_type": "code",
   "execution_count": null,
   "metadata": {},
   "outputs": [],
   "source": []
  },
  {
   "cell_type": "markdown",
   "metadata": {},
   "source": [
    "**5.**\tНапишите программу, которая для заданного каталога создает подкаталоги, соответствующие дате создания каждого отдельного файла, и перемещает каждый файл в соответствующий дате каталог."
   ]
  },
  {
   "cell_type": "code",
   "execution_count": null,
   "metadata": {},
   "outputs": [],
   "source": []
  },
  {
   "cell_type": "markdown",
   "metadata": {},
   "source": [
    "**6.**\tИз файлов *shop1.txt* и *shop2.txt* считываются прайс-листы (наименование товара – цена). Необходимо объединить два прайс-листа так, чтобы если наименование товара присутствует в обоих листах, то в итоговый прайс-лист помещается большая цена. Результат записать в файл *shop_max.txt*."
   ]
  },
  {
   "cell_type": "code",
   "execution_count": 1,
   "metadata": {},
   "outputs": [],
   "source": [
    "price_list_from_shop1 = {}\n",
    "price_list_from_shop2 = {}\n",
    "merged_price_list = {}\n",
    "\n",
    "with open(\"shop1.txt\", 'r', encoding=\"utf=8\") as shop1_f:\n",
    "    for line in shop1_f:\n",
    "        item, price = line.strip().split(\" - \")\n",
    "        price_list_from_shop1[item] = float(price)\n",
    "\n",
    "with open(\"shop2.txt\", 'r', encoding=\"utf=8\") as shop2_f:\n",
    "    for line in shop2_f:\n",
    "        item, price = line.strip().split(\" - \")\n",
    "        price_list_from_shop2[item] = float(price)\n",
    "\n",
    "for item, price in price_list_from_shop1.items():\n",
    "    if item in price_list_from_shop2:\n",
    "        merged_price_list[item] = max(price, price_list_from_shop2[item])\n",
    "    else:\n",
    "        merged_price_list[item] = price\n",
    "\n",
    "for item, price in price_list_from_shop2.items():\n",
    "    if item not in merged_price_list:\n",
    "        merged_price_list[item] = price\n",
    "\n",
    "with open(\"shop_max.txt\", \"w\", encoding=\"utf=8\") as out_f:\n",
    "    for item, price in merged_price_list.items():\n",
    "        out_f.write(f\"{item} - {price}\\n\")"
   ]
  },
  {
   "cell_type": "markdown",
   "metadata": {},
   "source": [
    "**7.** Создайте файл *input.txt*, содержащий данные о странах экспортерах (не менее 10): название страны, название экспортируемого товара и объем экспортируемого товара (в тоннах). Напишите программу, позволяющую обрабатывать следующие запросы пользователя:\n",
    "-\tдобавить данные в файл;\n",
    "-\tвывести всю информацию, содержащуюся в файле;\n",
    "-\tвывести список товаров, экспортируемых введенной пользователем страной;\n",
    "-\tвывести список стран, экспортирующих заданный товар.\n",
    "\n"
   ]
  },
  {
   "cell_type": "code",
   "execution_count": null,
   "metadata": {
    "ExecuteTime": {
     "end_time": "2023-09-29T12:18:56.630229900Z",
     "start_time": "2023-09-29T12:18:51.137487300Z"
    }
   },
   "outputs": [
    {
     "name": "stdout",
     "output_type": "stream",
     "text": [
      "\n",
      "Выберите действие:\n",
      "1. Добавить данные в файл\n",
      "2. Вывести всю информацию из файла\n",
      "3. Вывести список товаров, экспортируемых заданной страной\n",
      "4. Вывести список стран, экспортирующих заданный товар\n",
      "5. Выйти из программы\n",
      "Введите номер действия: 2\n",
      "Россия - пшеница - 453 тонн\n",
      "Грузия - Вино - 13 тонн\n",
      "Армения - Ром - 3 тонн\n",
      "Таджикистан - Перловка - 53 тонн\n",
      "Америка - Бургер - 43 тонн\n",
      "Мексика - Кокс - 41 тонн\n",
      "Россия - Вода - 4234 тонн\n",
      "Грузия - Вода - 34 тонн\n",
      "Армения - Вода - 42 тонн\n",
      "Россия - зерно - 53 тонн\n",
      "Введите номер действия: 1\n",
      "Введите название страны: Россия\n",
      "Введите название экспортируемого товара: Вино\n",
      "Введите объем экспортируемого товара (в тоннах): 100\n",
      "Данные успешно добавлены в файл.\n",
      "Введите номер действия: 4\n",
      "Введите название товара: Вино\n",
      "Страны, которые занимаются экспортом Вино:\n",
      "Россия\n",
      "Грузия\n",
      "Введите номер действия: 3\n",
      "Введите название страны: Россия\n",
      "пшеница\n",
      "Вода\n",
      "зерно\n",
      "Вино\n",
      "Введите номер действия: 3\n",
      "Введите название страны: Уганда\n",
      "У страны нет экспортируемых товаров\n",
      "Введите номер действия: 1\n",
      "Введите название страны: Уганда\n",
      "Введите название экспортируемого товара: Кенгуру\n",
      "Введите объем экспортируемого товара (в тоннах): 50\n",
      "Данные успешно добавлены в файл.\n",
      "Введите номер действия: 4\n",
      "Введите название товара: Кенгуру\n",
      "Страны, которые занимаются экспортом Кенгуру:\n",
      "Уганда\n",
      "Введите номер действия: 3\n",
      "Введите название страны: Кенг\n",
      "У страны нет экспортируемых товаров\n",
      "Введите номер действия: 4\n",
      "Введите название товара: Кенг\n",
      "Данный товар Кенг никем не экспортируется\n"
     ]
    }
   ],
   "source": [
    "def add_data_to_file(file_name, country, product, volume):\n",
    "    with open(file_name, \"a\", encoding=\"utf-8\") as f:\n",
    "        f.write(f\"{country} - {product} - {volume} тонн\\n\")\n",
    "\n",
    "\n",
    "def output_all_data(file_name):\n",
    "    with open(file_name, \"r\", encoding=\"utf-8\") as f:\n",
    "        data = f.readlines()\n",
    "        if not data:\n",
    "            print(\"В файле ничего нет\")\n",
    "        else:\n",
    "            for l in data:\n",
    "                print(l.strip())\n",
    "\n",
    "\n",
    "def output_products_by_country(filename, country):\n",
    "    with open(filename, \"r\", encoding=\"utf-8\") as f:\n",
    "        found = False\n",
    "        for line in f:\n",
    "            current = line.strip().split(\" - \")\n",
    "            if len(current) == 3 and current[0] == country:\n",
    "                found = True\n",
    "                print(f\"{current[1]}\")\n",
    "        if not found:\n",
    "            print(f\"У страны нет экспортируемых товаров\")\n",
    "\n",
    "\n",
    "def output_countries_by_product(filename, product):\n",
    "    with open(filename, \"r\", encoding=\"utf-8\") as f:\n",
    "        countries = set()\n",
    "        for line in f:\n",
    "            current = line.strip().split(\" - \")\n",
    "            if len(current) == 3 and current[1] == product:\n",
    "                countries.add(current[0])\n",
    "        if not countries:\n",
    "            print(f\"Данный товар {product} никем не экспортируется\")\n",
    "        else:\n",
    "            print(f\"Страны, которые занимаются экспортом {product}:\")\n",
    "            for county in countries:\n",
    "                print(county)\n",
    "\n",
    "\n",
    "filename = \"export.txt\"\n",
    "\n",
    "print(\"\\nВыберите действие:\")\n",
    "print(\"1. Добавить данные в файл\")\n",
    "print(\"2. Вывести всю информацию из файла\")\n",
    "print(\"3. Вывести список товаров, экспортируемых заданной страной\")\n",
    "print(\"4. Вывести список стран, экспортирующих заданный товар\")\n",
    "print(\"5. Выйти из программы\")\n",
    "\n",
    "while True:\n",
    "    choice = input(\"Введите номер действия: \")\n",
    "\n",
    "    if choice == '1':\n",
    "        country = input(\"Введите название страны: \")\n",
    "        product = input(\"Введите название экспортируемого товара: \")\n",
    "        volume = input(\"Введите объем экспортируемого товара (в тоннах): \")\n",
    "        add_data_to_file(filename, country, product, volume)\n",
    "        print(\"Данные успешно добавлены в файл.\")\n",
    "    elif choice == '2':\n",
    "        output_all_data(filename)\n",
    "    elif choice == '3':\n",
    "        country = input(\"Введите название страны: \")\n",
    "        output_products_by_country(filename, country)\n",
    "    elif choice == '4':\n",
    "        product = input(\"Введите название товара: \")\n",
    "        output_countries_by_product(filename, product)\n",
    "    elif choice == '5':\n",
    "        break\n"
   ]
  },
  {
   "cell_type": "code",
   "execution_count": null,
   "metadata": {},
   "outputs": [],
   "source": []
  },
  {
   "cell_type": "code",
   "execution_count": null,
   "metadata": {},
   "outputs": [],
   "source": []
  }
 ],
 "metadata": {
  "kernelspec": {
   "display_name": "Python 3",
   "language": "python",
   "name": "python3"
  },
  "language_info": {
   "codemirror_mode": {
    "name": "ipython",
    "version": 3
   },
   "file_extension": ".py",
   "mimetype": "text/x-python",
   "name": "python",
   "nbconvert_exporter": "python",
   "pygments_lexer": "ipython3",
   "version": "3.6.7"
  }
 },
 "nbformat": 4,
 "nbformat_minor": 4
}
